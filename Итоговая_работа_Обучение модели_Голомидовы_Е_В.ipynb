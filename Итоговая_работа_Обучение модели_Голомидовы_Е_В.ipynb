{
  "cells": [
    {
      "cell_type": "markdown",
      "source": [
        "# Практический кейс промежуточной аттестации №1. Голомидов Евгений Вячеславович."
      ],
      "metadata": {
        "id": "izCM6he6vzuC"
      }
    },
    {
      "cell_type": "markdown",
      "metadata": {
        "id": "MAK3MXzdAY0k"
      },
      "source": [
        "# Импорты"
      ]
    },
    {
      "cell_type": "code",
      "execution_count": 3,
      "metadata": {
        "id": "MBgrvVmMAY0r"
      },
      "outputs": [],
      "source": [
        "import pandas as pd\n",
        "import numpy as np\n",
        "import matplotlib.pyplot as plt\n",
        "import seaborn as sns\n",
        "from sklearn.preprocessing import MinMaxScaler\n",
        "from sklearn.model_selection import train_test_split\n",
        "from sklearn import metrics\n",
        "from sklearn.metrics import mean_squared_error, mean_absolute_error\n",
        "from sklearn.linear_model import LinearRegression\n",
        "from sklearn import tree\n",
        "import tensorflow as tf\n",
        "from tensorflow import keras\n",
        "from keras.models import load_model\n",
        "from keras.models import Sequential\n",
        "from keras.layers import Dense\n",
        "import pickle\n",
        "from sklearn.dummy import DummyRegressor\n",
        "%matplotlib inline"
      ]
    },
    {
      "cell_type": "markdown",
      "metadata": {
        "id": "90joi3J8AY0w"
      },
      "source": [
        "## Загрузка датасета"
      ]
    },
    {
      "cell_type": "code",
      "execution_count": 5,
      "metadata": {
        "id": "hl23psAZAY0y"
      },
      "outputs": [],
      "source": [
        "df = pd.read_csv(\"test.csv\")"
      ]
    },
    {
      "cell_type": "markdown",
      "metadata": {
        "id": "HsTEj3klAY02"
      },
      "source": [
        "## Изучение датасета"
      ]
    },
    {
      "cell_type": "code",
      "source": [
        "df   # отображение всего набора данных"
      ],
      "metadata": {
        "id": "V7dUBIX-UkAa",
        "colab": {
          "base_uri": "https://localhost:8080/",
          "height": 424
        },
        "outputId": "120896d3-645c-480f-cff2-1b416bd9eb6e"
      },
      "execution_count": null,
      "outputs": [
        {
          "output_type": "execute_result",
          "data": {
            "text/plain": [
              "    IW   IF   VW  FP  Depth  Width\n",
              "0   47  139  4.5  80   1.60   2.54\n",
              "1   47  139  4.5  80   1.62   2.50\n",
              "2   47  139  4.5  80   1.68   2.60\n",
              "3   47  139  4.5  80   1.58   2.52\n",
              "4   45  140  4.5  80   1.76   2.48\n",
              "..  ..  ...  ...  ..    ...    ...\n",
              "67  44  146  9.0  60   1.20   1.72\n",
              "68  45  146  9.0  60   1.36   1.76\n",
              "69  45  146  9.0  60   1.28   1.76\n",
              "70  45  146  9.0  60   1.28   1.76\n",
              "71  45  146  9.0  60   1.32   1.76\n",
              "\n",
              "[72 rows x 6 columns]"
            ],
            "text/html": [
              "\n",
              "  <div id=\"df-0bc54cb3-ad8e-4d89-99c4-05a9f7eab176\" class=\"colab-df-container\">\n",
              "    <div>\n",
              "<style scoped>\n",
              "    .dataframe tbody tr th:only-of-type {\n",
              "        vertical-align: middle;\n",
              "    }\n",
              "\n",
              "    .dataframe tbody tr th {\n",
              "        vertical-align: top;\n",
              "    }\n",
              "\n",
              "    .dataframe thead th {\n",
              "        text-align: right;\n",
              "    }\n",
              "</style>\n",
              "<table border=\"1\" class=\"dataframe\">\n",
              "  <thead>\n",
              "    <tr style=\"text-align: right;\">\n",
              "      <th></th>\n",
              "      <th>IW</th>\n",
              "      <th>IF</th>\n",
              "      <th>VW</th>\n",
              "      <th>FP</th>\n",
              "      <th>Depth</th>\n",
              "      <th>Width</th>\n",
              "    </tr>\n",
              "  </thead>\n",
              "  <tbody>\n",
              "    <tr>\n",
              "      <th>0</th>\n",
              "      <td>47</td>\n",
              "      <td>139</td>\n",
              "      <td>4.5</td>\n",
              "      <td>80</td>\n",
              "      <td>1.60</td>\n",
              "      <td>2.54</td>\n",
              "    </tr>\n",
              "    <tr>\n",
              "      <th>1</th>\n",
              "      <td>47</td>\n",
              "      <td>139</td>\n",
              "      <td>4.5</td>\n",
              "      <td>80</td>\n",
              "      <td>1.62</td>\n",
              "      <td>2.50</td>\n",
              "    </tr>\n",
              "    <tr>\n",
              "      <th>2</th>\n",
              "      <td>47</td>\n",
              "      <td>139</td>\n",
              "      <td>4.5</td>\n",
              "      <td>80</td>\n",
              "      <td>1.68</td>\n",
              "      <td>2.60</td>\n",
              "    </tr>\n",
              "    <tr>\n",
              "      <th>3</th>\n",
              "      <td>47</td>\n",
              "      <td>139</td>\n",
              "      <td>4.5</td>\n",
              "      <td>80</td>\n",
              "      <td>1.58</td>\n",
              "      <td>2.52</td>\n",
              "    </tr>\n",
              "    <tr>\n",
              "      <th>4</th>\n",
              "      <td>45</td>\n",
              "      <td>140</td>\n",
              "      <td>4.5</td>\n",
              "      <td>80</td>\n",
              "      <td>1.76</td>\n",
              "      <td>2.48</td>\n",
              "    </tr>\n",
              "    <tr>\n",
              "      <th>...</th>\n",
              "      <td>...</td>\n",
              "      <td>...</td>\n",
              "      <td>...</td>\n",
              "      <td>...</td>\n",
              "      <td>...</td>\n",
              "      <td>...</td>\n",
              "    </tr>\n",
              "    <tr>\n",
              "      <th>67</th>\n",
              "      <td>44</td>\n",
              "      <td>146</td>\n",
              "      <td>9.0</td>\n",
              "      <td>60</td>\n",
              "      <td>1.20</td>\n",
              "      <td>1.72</td>\n",
              "    </tr>\n",
              "    <tr>\n",
              "      <th>68</th>\n",
              "      <td>45</td>\n",
              "      <td>146</td>\n",
              "      <td>9.0</td>\n",
              "      <td>60</td>\n",
              "      <td>1.36</td>\n",
              "      <td>1.76</td>\n",
              "    </tr>\n",
              "    <tr>\n",
              "      <th>69</th>\n",
              "      <td>45</td>\n",
              "      <td>146</td>\n",
              "      <td>9.0</td>\n",
              "      <td>60</td>\n",
              "      <td>1.28</td>\n",
              "      <td>1.76</td>\n",
              "    </tr>\n",
              "    <tr>\n",
              "      <th>70</th>\n",
              "      <td>45</td>\n",
              "      <td>146</td>\n",
              "      <td>9.0</td>\n",
              "      <td>60</td>\n",
              "      <td>1.28</td>\n",
              "      <td>1.76</td>\n",
              "    </tr>\n",
              "    <tr>\n",
              "      <th>71</th>\n",
              "      <td>45</td>\n",
              "      <td>146</td>\n",
              "      <td>9.0</td>\n",
              "      <td>60</td>\n",
              "      <td>1.32</td>\n",
              "      <td>1.76</td>\n",
              "    </tr>\n",
              "  </tbody>\n",
              "</table>\n",
              "<p>72 rows × 6 columns</p>\n",
              "</div>\n",
              "    <div class=\"colab-df-buttons\">\n",
              "\n",
              "  <div class=\"colab-df-container\">\n",
              "    <button class=\"colab-df-convert\" onclick=\"convertToInteractive('df-0bc54cb3-ad8e-4d89-99c4-05a9f7eab176')\"\n",
              "            title=\"Convert this dataframe to an interactive table.\"\n",
              "            style=\"display:none;\">\n",
              "\n",
              "  <svg xmlns=\"http://www.w3.org/2000/svg\" height=\"24px\" viewBox=\"0 -960 960 960\">\n",
              "    <path d=\"M120-120v-720h720v720H120Zm60-500h600v-160H180v160Zm220 220h160v-160H400v160Zm0 220h160v-160H400v160ZM180-400h160v-160H180v160Zm440 0h160v-160H620v160ZM180-180h160v-160H180v160Zm440 0h160v-160H620v160Z\"/>\n",
              "  </svg>\n",
              "    </button>\n",
              "\n",
              "  <style>\n",
              "    .colab-df-container {\n",
              "      display:flex;\n",
              "      gap: 12px;\n",
              "    }\n",
              "\n",
              "    .colab-df-convert {\n",
              "      background-color: #E8F0FE;\n",
              "      border: none;\n",
              "      border-radius: 50%;\n",
              "      cursor: pointer;\n",
              "      display: none;\n",
              "      fill: #1967D2;\n",
              "      height: 32px;\n",
              "      padding: 0 0 0 0;\n",
              "      width: 32px;\n",
              "    }\n",
              "\n",
              "    .colab-df-convert:hover {\n",
              "      background-color: #E2EBFA;\n",
              "      box-shadow: 0px 1px 2px rgba(60, 64, 67, 0.3), 0px 1px 3px 1px rgba(60, 64, 67, 0.15);\n",
              "      fill: #174EA6;\n",
              "    }\n",
              "\n",
              "    .colab-df-buttons div {\n",
              "      margin-bottom: 4px;\n",
              "    }\n",
              "\n",
              "    [theme=dark] .colab-df-convert {\n",
              "      background-color: #3B4455;\n",
              "      fill: #D2E3FC;\n",
              "    }\n",
              "\n",
              "    [theme=dark] .colab-df-convert:hover {\n",
              "      background-color: #434B5C;\n",
              "      box-shadow: 0px 1px 3px 1px rgba(0, 0, 0, 0.15);\n",
              "      filter: drop-shadow(0px 1px 2px rgba(0, 0, 0, 0.3));\n",
              "      fill: #FFFFFF;\n",
              "    }\n",
              "  </style>\n",
              "\n",
              "    <script>\n",
              "      const buttonEl =\n",
              "        document.querySelector('#df-0bc54cb3-ad8e-4d89-99c4-05a9f7eab176 button.colab-df-convert');\n",
              "      buttonEl.style.display =\n",
              "        google.colab.kernel.accessAllowed ? 'block' : 'none';\n",
              "\n",
              "      async function convertToInteractive(key) {\n",
              "        const element = document.querySelector('#df-0bc54cb3-ad8e-4d89-99c4-05a9f7eab176');\n",
              "        const dataTable =\n",
              "          await google.colab.kernel.invokeFunction('convertToInteractive',\n",
              "                                                    [key], {});\n",
              "        if (!dataTable) return;\n",
              "\n",
              "        const docLinkHtml = 'Like what you see? Visit the ' +\n",
              "          '<a target=\"_blank\" href=https://colab.research.google.com/notebooks/data_table.ipynb>data table notebook</a>'\n",
              "          + ' to learn more about interactive tables.';\n",
              "        element.innerHTML = '';\n",
              "        dataTable['output_type'] = 'display_data';\n",
              "        await google.colab.output.renderOutput(dataTable, element);\n",
              "        const docLink = document.createElement('div');\n",
              "        docLink.innerHTML = docLinkHtml;\n",
              "        element.appendChild(docLink);\n",
              "      }\n",
              "    </script>\n",
              "  </div>\n",
              "\n",
              "\n",
              "<div id=\"df-e6277914-ddc1-4dbc-b4a2-6e6d9e1a729c\">\n",
              "  <button class=\"colab-df-quickchart\" onclick=\"quickchart('df-e6277914-ddc1-4dbc-b4a2-6e6d9e1a729c')\"\n",
              "            title=\"Suggest charts.\"\n",
              "            style=\"display:none;\">\n",
              "\n",
              "<svg xmlns=\"http://www.w3.org/2000/svg\" height=\"24px\"viewBox=\"0 0 24 24\"\n",
              "     width=\"24px\">\n",
              "    <g>\n",
              "        <path d=\"M19 3H5c-1.1 0-2 .9-2 2v14c0 1.1.9 2 2 2h14c1.1 0 2-.9 2-2V5c0-1.1-.9-2-2-2zM9 17H7v-7h2v7zm4 0h-2V7h2v10zm4 0h-2v-4h2v4z\"/>\n",
              "    </g>\n",
              "</svg>\n",
              "  </button>\n",
              "\n",
              "<style>\n",
              "  .colab-df-quickchart {\n",
              "      --bg-color: #E8F0FE;\n",
              "      --fill-color: #1967D2;\n",
              "      --hover-bg-color: #E2EBFA;\n",
              "      --hover-fill-color: #174EA6;\n",
              "      --disabled-fill-color: #AAA;\n",
              "      --disabled-bg-color: #DDD;\n",
              "  }\n",
              "\n",
              "  [theme=dark] .colab-df-quickchart {\n",
              "      --bg-color: #3B4455;\n",
              "      --fill-color: #D2E3FC;\n",
              "      --hover-bg-color: #434B5C;\n",
              "      --hover-fill-color: #FFFFFF;\n",
              "      --disabled-bg-color: #3B4455;\n",
              "      --disabled-fill-color: #666;\n",
              "  }\n",
              "\n",
              "  .colab-df-quickchart {\n",
              "    background-color: var(--bg-color);\n",
              "    border: none;\n",
              "    border-radius: 50%;\n",
              "    cursor: pointer;\n",
              "    display: none;\n",
              "    fill: var(--fill-color);\n",
              "    height: 32px;\n",
              "    padding: 0;\n",
              "    width: 32px;\n",
              "  }\n",
              "\n",
              "  .colab-df-quickchart:hover {\n",
              "    background-color: var(--hover-bg-color);\n",
              "    box-shadow: 0 1px 2px rgba(60, 64, 67, 0.3), 0 1px 3px 1px rgba(60, 64, 67, 0.15);\n",
              "    fill: var(--button-hover-fill-color);\n",
              "  }\n",
              "\n",
              "  .colab-df-quickchart-complete:disabled,\n",
              "  .colab-df-quickchart-complete:disabled:hover {\n",
              "    background-color: var(--disabled-bg-color);\n",
              "    fill: var(--disabled-fill-color);\n",
              "    box-shadow: none;\n",
              "  }\n",
              "\n",
              "  .colab-df-spinner {\n",
              "    border: 2px solid var(--fill-color);\n",
              "    border-color: transparent;\n",
              "    border-bottom-color: var(--fill-color);\n",
              "    animation:\n",
              "      spin 1s steps(1) infinite;\n",
              "  }\n",
              "\n",
              "  @keyframes spin {\n",
              "    0% {\n",
              "      border-color: transparent;\n",
              "      border-bottom-color: var(--fill-color);\n",
              "      border-left-color: var(--fill-color);\n",
              "    }\n",
              "    20% {\n",
              "      border-color: transparent;\n",
              "      border-left-color: var(--fill-color);\n",
              "      border-top-color: var(--fill-color);\n",
              "    }\n",
              "    30% {\n",
              "      border-color: transparent;\n",
              "      border-left-color: var(--fill-color);\n",
              "      border-top-color: var(--fill-color);\n",
              "      border-right-color: var(--fill-color);\n",
              "    }\n",
              "    40% {\n",
              "      border-color: transparent;\n",
              "      border-right-color: var(--fill-color);\n",
              "      border-top-color: var(--fill-color);\n",
              "    }\n",
              "    60% {\n",
              "      border-color: transparent;\n",
              "      border-right-color: var(--fill-color);\n",
              "    }\n",
              "    80% {\n",
              "      border-color: transparent;\n",
              "      border-right-color: var(--fill-color);\n",
              "      border-bottom-color: var(--fill-color);\n",
              "    }\n",
              "    90% {\n",
              "      border-color: transparent;\n",
              "      border-bottom-color: var(--fill-color);\n",
              "    }\n",
              "  }\n",
              "</style>\n",
              "\n",
              "  <script>\n",
              "    async function quickchart(key) {\n",
              "      const quickchartButtonEl =\n",
              "        document.querySelector('#' + key + ' button');\n",
              "      quickchartButtonEl.disabled = true;  // To prevent multiple clicks.\n",
              "      quickchartButtonEl.classList.add('colab-df-spinner');\n",
              "      try {\n",
              "        const charts = await google.colab.kernel.invokeFunction(\n",
              "            'suggestCharts', [key], {});\n",
              "      } catch (error) {\n",
              "        console.error('Error during call to suggestCharts:', error);\n",
              "      }\n",
              "      quickchartButtonEl.classList.remove('colab-df-spinner');\n",
              "      quickchartButtonEl.classList.add('colab-df-quickchart-complete');\n",
              "    }\n",
              "    (() => {\n",
              "      let quickchartButtonEl =\n",
              "        document.querySelector('#df-e6277914-ddc1-4dbc-b4a2-6e6d9e1a729c button');\n",
              "      quickchartButtonEl.style.display =\n",
              "        google.colab.kernel.accessAllowed ? 'block' : 'none';\n",
              "    })();\n",
              "  </script>\n",
              "</div>\n",
              "    </div>\n",
              "  </div>\n"
            ]
          },
          "metadata": {},
          "execution_count": 3
        }
      ]
    },
    {
      "cell_type": "code",
      "execution_count": null,
      "metadata": {
        "id": "Zg5IDG1bAY0z",
        "outputId": "e4c96143-577f-4e38-c1a3-2388aee333ae",
        "colab": {
          "base_uri": "https://localhost:8080/",
          "height": 206
        }
      },
      "outputs": [
        {
          "output_type": "execute_result",
          "data": {
            "text/plain": [
              "    IW   IF    VW  FP  Depth  Width\n",
              "70  45  146   9.0  60   1.28   1.76\n",
              "23  47  141  12.0  80   1.08   1.72\n",
              "20  47  141  12.0  80   1.12   1.71\n",
              "61  43  146   9.0  60   1.24   1.80\n",
              "8   45  140   8.0  80   1.20   2.00"
            ],
            "text/html": [
              "\n",
              "  <div id=\"df-2c557d04-a08c-41ed-93d0-fc6996538939\" class=\"colab-df-container\">\n",
              "    <div>\n",
              "<style scoped>\n",
              "    .dataframe tbody tr th:only-of-type {\n",
              "        vertical-align: middle;\n",
              "    }\n",
              "\n",
              "    .dataframe tbody tr th {\n",
              "        vertical-align: top;\n",
              "    }\n",
              "\n",
              "    .dataframe thead th {\n",
              "        text-align: right;\n",
              "    }\n",
              "</style>\n",
              "<table border=\"1\" class=\"dataframe\">\n",
              "  <thead>\n",
              "    <tr style=\"text-align: right;\">\n",
              "      <th></th>\n",
              "      <th>IW</th>\n",
              "      <th>IF</th>\n",
              "      <th>VW</th>\n",
              "      <th>FP</th>\n",
              "      <th>Depth</th>\n",
              "      <th>Width</th>\n",
              "    </tr>\n",
              "  </thead>\n",
              "  <tbody>\n",
              "    <tr>\n",
              "      <th>70</th>\n",
              "      <td>45</td>\n",
              "      <td>146</td>\n",
              "      <td>9.0</td>\n",
              "      <td>60</td>\n",
              "      <td>1.28</td>\n",
              "      <td>1.76</td>\n",
              "    </tr>\n",
              "    <tr>\n",
              "      <th>23</th>\n",
              "      <td>47</td>\n",
              "      <td>141</td>\n",
              "      <td>12.0</td>\n",
              "      <td>80</td>\n",
              "      <td>1.08</td>\n",
              "      <td>1.72</td>\n",
              "    </tr>\n",
              "    <tr>\n",
              "      <th>20</th>\n",
              "      <td>47</td>\n",
              "      <td>141</td>\n",
              "      <td>12.0</td>\n",
              "      <td>80</td>\n",
              "      <td>1.12</td>\n",
              "      <td>1.71</td>\n",
              "    </tr>\n",
              "    <tr>\n",
              "      <th>61</th>\n",
              "      <td>43</td>\n",
              "      <td>146</td>\n",
              "      <td>9.0</td>\n",
              "      <td>60</td>\n",
              "      <td>1.24</td>\n",
              "      <td>1.80</td>\n",
              "    </tr>\n",
              "    <tr>\n",
              "      <th>8</th>\n",
              "      <td>45</td>\n",
              "      <td>140</td>\n",
              "      <td>8.0</td>\n",
              "      <td>80</td>\n",
              "      <td>1.20</td>\n",
              "      <td>2.00</td>\n",
              "    </tr>\n",
              "  </tbody>\n",
              "</table>\n",
              "</div>\n",
              "    <div class=\"colab-df-buttons\">\n",
              "\n",
              "  <div class=\"colab-df-container\">\n",
              "    <button class=\"colab-df-convert\" onclick=\"convertToInteractive('df-2c557d04-a08c-41ed-93d0-fc6996538939')\"\n",
              "            title=\"Convert this dataframe to an interactive table.\"\n",
              "            style=\"display:none;\">\n",
              "\n",
              "  <svg xmlns=\"http://www.w3.org/2000/svg\" height=\"24px\" viewBox=\"0 -960 960 960\">\n",
              "    <path d=\"M120-120v-720h720v720H120Zm60-500h600v-160H180v160Zm220 220h160v-160H400v160Zm0 220h160v-160H400v160ZM180-400h160v-160H180v160Zm440 0h160v-160H620v160ZM180-180h160v-160H180v160Zm440 0h160v-160H620v160Z\"/>\n",
              "  </svg>\n",
              "    </button>\n",
              "\n",
              "  <style>\n",
              "    .colab-df-container {\n",
              "      display:flex;\n",
              "      gap: 12px;\n",
              "    }\n",
              "\n",
              "    .colab-df-convert {\n",
              "      background-color: #E8F0FE;\n",
              "      border: none;\n",
              "      border-radius: 50%;\n",
              "      cursor: pointer;\n",
              "      display: none;\n",
              "      fill: #1967D2;\n",
              "      height: 32px;\n",
              "      padding: 0 0 0 0;\n",
              "      width: 32px;\n",
              "    }\n",
              "\n",
              "    .colab-df-convert:hover {\n",
              "      background-color: #E2EBFA;\n",
              "      box-shadow: 0px 1px 2px rgba(60, 64, 67, 0.3), 0px 1px 3px 1px rgba(60, 64, 67, 0.15);\n",
              "      fill: #174EA6;\n",
              "    }\n",
              "\n",
              "    .colab-df-buttons div {\n",
              "      margin-bottom: 4px;\n",
              "    }\n",
              "\n",
              "    [theme=dark] .colab-df-convert {\n",
              "      background-color: #3B4455;\n",
              "      fill: #D2E3FC;\n",
              "    }\n",
              "\n",
              "    [theme=dark] .colab-df-convert:hover {\n",
              "      background-color: #434B5C;\n",
              "      box-shadow: 0px 1px 3px 1px rgba(0, 0, 0, 0.15);\n",
              "      filter: drop-shadow(0px 1px 2px rgba(0, 0, 0, 0.3));\n",
              "      fill: #FFFFFF;\n",
              "    }\n",
              "  </style>\n",
              "\n",
              "    <script>\n",
              "      const buttonEl =\n",
              "        document.querySelector('#df-2c557d04-a08c-41ed-93d0-fc6996538939 button.colab-df-convert');\n",
              "      buttonEl.style.display =\n",
              "        google.colab.kernel.accessAllowed ? 'block' : 'none';\n",
              "\n",
              "      async function convertToInteractive(key) {\n",
              "        const element = document.querySelector('#df-2c557d04-a08c-41ed-93d0-fc6996538939');\n",
              "        const dataTable =\n",
              "          await google.colab.kernel.invokeFunction('convertToInteractive',\n",
              "                                                    [key], {});\n",
              "        if (!dataTable) return;\n",
              "\n",
              "        const docLinkHtml = 'Like what you see? Visit the ' +\n",
              "          '<a target=\"_blank\" href=https://colab.research.google.com/notebooks/data_table.ipynb>data table notebook</a>'\n",
              "          + ' to learn more about interactive tables.';\n",
              "        element.innerHTML = '';\n",
              "        dataTable['output_type'] = 'display_data';\n",
              "        await google.colab.output.renderOutput(dataTable, element);\n",
              "        const docLink = document.createElement('div');\n",
              "        docLink.innerHTML = docLinkHtml;\n",
              "        element.appendChild(docLink);\n",
              "      }\n",
              "    </script>\n",
              "  </div>\n",
              "\n",
              "\n",
              "<div id=\"df-a7610d7d-c7fe-44e1-ba83-c5912542311d\">\n",
              "  <button class=\"colab-df-quickchart\" onclick=\"quickchart('df-a7610d7d-c7fe-44e1-ba83-c5912542311d')\"\n",
              "            title=\"Suggest charts.\"\n",
              "            style=\"display:none;\">\n",
              "\n",
              "<svg xmlns=\"http://www.w3.org/2000/svg\" height=\"24px\"viewBox=\"0 0 24 24\"\n",
              "     width=\"24px\">\n",
              "    <g>\n",
              "        <path d=\"M19 3H5c-1.1 0-2 .9-2 2v14c0 1.1.9 2 2 2h14c1.1 0 2-.9 2-2V5c0-1.1-.9-2-2-2zM9 17H7v-7h2v7zm4 0h-2V7h2v10zm4 0h-2v-4h2v4z\"/>\n",
              "    </g>\n",
              "</svg>\n",
              "  </button>\n",
              "\n",
              "<style>\n",
              "  .colab-df-quickchart {\n",
              "      --bg-color: #E8F0FE;\n",
              "      --fill-color: #1967D2;\n",
              "      --hover-bg-color: #E2EBFA;\n",
              "      --hover-fill-color: #174EA6;\n",
              "      --disabled-fill-color: #AAA;\n",
              "      --disabled-bg-color: #DDD;\n",
              "  }\n",
              "\n",
              "  [theme=dark] .colab-df-quickchart {\n",
              "      --bg-color: #3B4455;\n",
              "      --fill-color: #D2E3FC;\n",
              "      --hover-bg-color: #434B5C;\n",
              "      --hover-fill-color: #FFFFFF;\n",
              "      --disabled-bg-color: #3B4455;\n",
              "      --disabled-fill-color: #666;\n",
              "  }\n",
              "\n",
              "  .colab-df-quickchart {\n",
              "    background-color: var(--bg-color);\n",
              "    border: none;\n",
              "    border-radius: 50%;\n",
              "    cursor: pointer;\n",
              "    display: none;\n",
              "    fill: var(--fill-color);\n",
              "    height: 32px;\n",
              "    padding: 0;\n",
              "    width: 32px;\n",
              "  }\n",
              "\n",
              "  .colab-df-quickchart:hover {\n",
              "    background-color: var(--hover-bg-color);\n",
              "    box-shadow: 0 1px 2px rgba(60, 64, 67, 0.3), 0 1px 3px 1px rgba(60, 64, 67, 0.15);\n",
              "    fill: var(--button-hover-fill-color);\n",
              "  }\n",
              "\n",
              "  .colab-df-quickchart-complete:disabled,\n",
              "  .colab-df-quickchart-complete:disabled:hover {\n",
              "    background-color: var(--disabled-bg-color);\n",
              "    fill: var(--disabled-fill-color);\n",
              "    box-shadow: none;\n",
              "  }\n",
              "\n",
              "  .colab-df-spinner {\n",
              "    border: 2px solid var(--fill-color);\n",
              "    border-color: transparent;\n",
              "    border-bottom-color: var(--fill-color);\n",
              "    animation:\n",
              "      spin 1s steps(1) infinite;\n",
              "  }\n",
              "\n",
              "  @keyframes spin {\n",
              "    0% {\n",
              "      border-color: transparent;\n",
              "      border-bottom-color: var(--fill-color);\n",
              "      border-left-color: var(--fill-color);\n",
              "    }\n",
              "    20% {\n",
              "      border-color: transparent;\n",
              "      border-left-color: var(--fill-color);\n",
              "      border-top-color: var(--fill-color);\n",
              "    }\n",
              "    30% {\n",
              "      border-color: transparent;\n",
              "      border-left-color: var(--fill-color);\n",
              "      border-top-color: var(--fill-color);\n",
              "      border-right-color: var(--fill-color);\n",
              "    }\n",
              "    40% {\n",
              "      border-color: transparent;\n",
              "      border-right-color: var(--fill-color);\n",
              "      border-top-color: var(--fill-color);\n",
              "    }\n",
              "    60% {\n",
              "      border-color: transparent;\n",
              "      border-right-color: var(--fill-color);\n",
              "    }\n",
              "    80% {\n",
              "      border-color: transparent;\n",
              "      border-right-color: var(--fill-color);\n",
              "      border-bottom-color: var(--fill-color);\n",
              "    }\n",
              "    90% {\n",
              "      border-color: transparent;\n",
              "      border-bottom-color: var(--fill-color);\n",
              "    }\n",
              "  }\n",
              "</style>\n",
              "\n",
              "  <script>\n",
              "    async function quickchart(key) {\n",
              "      const quickchartButtonEl =\n",
              "        document.querySelector('#' + key + ' button');\n",
              "      quickchartButtonEl.disabled = true;  // To prevent multiple clicks.\n",
              "      quickchartButtonEl.classList.add('colab-df-spinner');\n",
              "      try {\n",
              "        const charts = await google.colab.kernel.invokeFunction(\n",
              "            'suggestCharts', [key], {});\n",
              "      } catch (error) {\n",
              "        console.error('Error during call to suggestCharts:', error);\n",
              "      }\n",
              "      quickchartButtonEl.classList.remove('colab-df-spinner');\n",
              "      quickchartButtonEl.classList.add('colab-df-quickchart-complete');\n",
              "    }\n",
              "    (() => {\n",
              "      let quickchartButtonEl =\n",
              "        document.querySelector('#df-a7610d7d-c7fe-44e1-ba83-c5912542311d button');\n",
              "      quickchartButtonEl.style.display =\n",
              "        google.colab.kernel.accessAllowed ? 'block' : 'none';\n",
              "    })();\n",
              "  </script>\n",
              "</div>\n",
              "    </div>\n",
              "  </div>\n"
            ]
          },
          "metadata": {},
          "execution_count": 4
        }
      ],
      "source": [
        "df.sample(5)  # Отображение 5 случайно выбранных строк"
      ]
    },
    {
      "cell_type": "code",
      "source": [
        "df.head(5)  # Отображение 5 первых строк."
      ],
      "metadata": {
        "id": "G_y-n8k8P9cZ",
        "colab": {
          "base_uri": "https://localhost:8080/",
          "height": 206
        },
        "outputId": "160d3cfc-f781-4e31-d1c9-c2afd786d6d7"
      },
      "execution_count": null,
      "outputs": [
        {
          "output_type": "execute_result",
          "data": {
            "text/plain": [
              "   IW   IF   VW  FP  Depth  Width\n",
              "0  47  139  4.5  80   1.60   2.54\n",
              "1  47  139  4.5  80   1.62   2.50\n",
              "2  47  139  4.5  80   1.68   2.60\n",
              "3  47  139  4.5  80   1.58   2.52\n",
              "4  45  140  4.5  80   1.76   2.48"
            ],
            "text/html": [
              "\n",
              "  <div id=\"df-a944fd5d-b51e-4a58-a7ed-92c107f80eaa\" class=\"colab-df-container\">\n",
              "    <div>\n",
              "<style scoped>\n",
              "    .dataframe tbody tr th:only-of-type {\n",
              "        vertical-align: middle;\n",
              "    }\n",
              "\n",
              "    .dataframe tbody tr th {\n",
              "        vertical-align: top;\n",
              "    }\n",
              "\n",
              "    .dataframe thead th {\n",
              "        text-align: right;\n",
              "    }\n",
              "</style>\n",
              "<table border=\"1\" class=\"dataframe\">\n",
              "  <thead>\n",
              "    <tr style=\"text-align: right;\">\n",
              "      <th></th>\n",
              "      <th>IW</th>\n",
              "      <th>IF</th>\n",
              "      <th>VW</th>\n",
              "      <th>FP</th>\n",
              "      <th>Depth</th>\n",
              "      <th>Width</th>\n",
              "    </tr>\n",
              "  </thead>\n",
              "  <tbody>\n",
              "    <tr>\n",
              "      <th>0</th>\n",
              "      <td>47</td>\n",
              "      <td>139</td>\n",
              "      <td>4.5</td>\n",
              "      <td>80</td>\n",
              "      <td>1.60</td>\n",
              "      <td>2.54</td>\n",
              "    </tr>\n",
              "    <tr>\n",
              "      <th>1</th>\n",
              "      <td>47</td>\n",
              "      <td>139</td>\n",
              "      <td>4.5</td>\n",
              "      <td>80</td>\n",
              "      <td>1.62</td>\n",
              "      <td>2.50</td>\n",
              "    </tr>\n",
              "    <tr>\n",
              "      <th>2</th>\n",
              "      <td>47</td>\n",
              "      <td>139</td>\n",
              "      <td>4.5</td>\n",
              "      <td>80</td>\n",
              "      <td>1.68</td>\n",
              "      <td>2.60</td>\n",
              "    </tr>\n",
              "    <tr>\n",
              "      <th>3</th>\n",
              "      <td>47</td>\n",
              "      <td>139</td>\n",
              "      <td>4.5</td>\n",
              "      <td>80</td>\n",
              "      <td>1.58</td>\n",
              "      <td>2.52</td>\n",
              "    </tr>\n",
              "    <tr>\n",
              "      <th>4</th>\n",
              "      <td>45</td>\n",
              "      <td>140</td>\n",
              "      <td>4.5</td>\n",
              "      <td>80</td>\n",
              "      <td>1.76</td>\n",
              "      <td>2.48</td>\n",
              "    </tr>\n",
              "  </tbody>\n",
              "</table>\n",
              "</div>\n",
              "    <div class=\"colab-df-buttons\">\n",
              "\n",
              "  <div class=\"colab-df-container\">\n",
              "    <button class=\"colab-df-convert\" onclick=\"convertToInteractive('df-a944fd5d-b51e-4a58-a7ed-92c107f80eaa')\"\n",
              "            title=\"Convert this dataframe to an interactive table.\"\n",
              "            style=\"display:none;\">\n",
              "\n",
              "  <svg xmlns=\"http://www.w3.org/2000/svg\" height=\"24px\" viewBox=\"0 -960 960 960\">\n",
              "    <path d=\"M120-120v-720h720v720H120Zm60-500h600v-160H180v160Zm220 220h160v-160H400v160Zm0 220h160v-160H400v160ZM180-400h160v-160H180v160Zm440 0h160v-160H620v160ZM180-180h160v-160H180v160Zm440 0h160v-160H620v160Z\"/>\n",
              "  </svg>\n",
              "    </button>\n",
              "\n",
              "  <style>\n",
              "    .colab-df-container {\n",
              "      display:flex;\n",
              "      gap: 12px;\n",
              "    }\n",
              "\n",
              "    .colab-df-convert {\n",
              "      background-color: #E8F0FE;\n",
              "      border: none;\n",
              "      border-radius: 50%;\n",
              "      cursor: pointer;\n",
              "      display: none;\n",
              "      fill: #1967D2;\n",
              "      height: 32px;\n",
              "      padding: 0 0 0 0;\n",
              "      width: 32px;\n",
              "    }\n",
              "\n",
              "    .colab-df-convert:hover {\n",
              "      background-color: #E2EBFA;\n",
              "      box-shadow: 0px 1px 2px rgba(60, 64, 67, 0.3), 0px 1px 3px 1px rgba(60, 64, 67, 0.15);\n",
              "      fill: #174EA6;\n",
              "    }\n",
              "\n",
              "    .colab-df-buttons div {\n",
              "      margin-bottom: 4px;\n",
              "    }\n",
              "\n",
              "    [theme=dark] .colab-df-convert {\n",
              "      background-color: #3B4455;\n",
              "      fill: #D2E3FC;\n",
              "    }\n",
              "\n",
              "    [theme=dark] .colab-df-convert:hover {\n",
              "      background-color: #434B5C;\n",
              "      box-shadow: 0px 1px 3px 1px rgba(0, 0, 0, 0.15);\n",
              "      filter: drop-shadow(0px 1px 2px rgba(0, 0, 0, 0.3));\n",
              "      fill: #FFFFFF;\n",
              "    }\n",
              "  </style>\n",
              "\n",
              "    <script>\n",
              "      const buttonEl =\n",
              "        document.querySelector('#df-a944fd5d-b51e-4a58-a7ed-92c107f80eaa button.colab-df-convert');\n",
              "      buttonEl.style.display =\n",
              "        google.colab.kernel.accessAllowed ? 'block' : 'none';\n",
              "\n",
              "      async function convertToInteractive(key) {\n",
              "        const element = document.querySelector('#df-a944fd5d-b51e-4a58-a7ed-92c107f80eaa');\n",
              "        const dataTable =\n",
              "          await google.colab.kernel.invokeFunction('convertToInteractive',\n",
              "                                                    [key], {});\n",
              "        if (!dataTable) return;\n",
              "\n",
              "        const docLinkHtml = 'Like what you see? Visit the ' +\n",
              "          '<a target=\"_blank\" href=https://colab.research.google.com/notebooks/data_table.ipynb>data table notebook</a>'\n",
              "          + ' to learn more about interactive tables.';\n",
              "        element.innerHTML = '';\n",
              "        dataTable['output_type'] = 'display_data';\n",
              "        await google.colab.output.renderOutput(dataTable, element);\n",
              "        const docLink = document.createElement('div');\n",
              "        docLink.innerHTML = docLinkHtml;\n",
              "        element.appendChild(docLink);\n",
              "      }\n",
              "    </script>\n",
              "  </div>\n",
              "\n",
              "\n",
              "<div id=\"df-b1f973f2-14c2-446f-9a9f-e4d30fc10762\">\n",
              "  <button class=\"colab-df-quickchart\" onclick=\"quickchart('df-b1f973f2-14c2-446f-9a9f-e4d30fc10762')\"\n",
              "            title=\"Suggest charts.\"\n",
              "            style=\"display:none;\">\n",
              "\n",
              "<svg xmlns=\"http://www.w3.org/2000/svg\" height=\"24px\"viewBox=\"0 0 24 24\"\n",
              "     width=\"24px\">\n",
              "    <g>\n",
              "        <path d=\"M19 3H5c-1.1 0-2 .9-2 2v14c0 1.1.9 2 2 2h14c1.1 0 2-.9 2-2V5c0-1.1-.9-2-2-2zM9 17H7v-7h2v7zm4 0h-2V7h2v10zm4 0h-2v-4h2v4z\"/>\n",
              "    </g>\n",
              "</svg>\n",
              "  </button>\n",
              "\n",
              "<style>\n",
              "  .colab-df-quickchart {\n",
              "      --bg-color: #E8F0FE;\n",
              "      --fill-color: #1967D2;\n",
              "      --hover-bg-color: #E2EBFA;\n",
              "      --hover-fill-color: #174EA6;\n",
              "      --disabled-fill-color: #AAA;\n",
              "      --disabled-bg-color: #DDD;\n",
              "  }\n",
              "\n",
              "  [theme=dark] .colab-df-quickchart {\n",
              "      --bg-color: #3B4455;\n",
              "      --fill-color: #D2E3FC;\n",
              "      --hover-bg-color: #434B5C;\n",
              "      --hover-fill-color: #FFFFFF;\n",
              "      --disabled-bg-color: #3B4455;\n",
              "      --disabled-fill-color: #666;\n",
              "  }\n",
              "\n",
              "  .colab-df-quickchart {\n",
              "    background-color: var(--bg-color);\n",
              "    border: none;\n",
              "    border-radius: 50%;\n",
              "    cursor: pointer;\n",
              "    display: none;\n",
              "    fill: var(--fill-color);\n",
              "    height: 32px;\n",
              "    padding: 0;\n",
              "    width: 32px;\n",
              "  }\n",
              "\n",
              "  .colab-df-quickchart:hover {\n",
              "    background-color: var(--hover-bg-color);\n",
              "    box-shadow: 0 1px 2px rgba(60, 64, 67, 0.3), 0 1px 3px 1px rgba(60, 64, 67, 0.15);\n",
              "    fill: var(--button-hover-fill-color);\n",
              "  }\n",
              "\n",
              "  .colab-df-quickchart-complete:disabled,\n",
              "  .colab-df-quickchart-complete:disabled:hover {\n",
              "    background-color: var(--disabled-bg-color);\n",
              "    fill: var(--disabled-fill-color);\n",
              "    box-shadow: none;\n",
              "  }\n",
              "\n",
              "  .colab-df-spinner {\n",
              "    border: 2px solid var(--fill-color);\n",
              "    border-color: transparent;\n",
              "    border-bottom-color: var(--fill-color);\n",
              "    animation:\n",
              "      spin 1s steps(1) infinite;\n",
              "  }\n",
              "\n",
              "  @keyframes spin {\n",
              "    0% {\n",
              "      border-color: transparent;\n",
              "      border-bottom-color: var(--fill-color);\n",
              "      border-left-color: var(--fill-color);\n",
              "    }\n",
              "    20% {\n",
              "      border-color: transparent;\n",
              "      border-left-color: var(--fill-color);\n",
              "      border-top-color: var(--fill-color);\n",
              "    }\n",
              "    30% {\n",
              "      border-color: transparent;\n",
              "      border-left-color: var(--fill-color);\n",
              "      border-top-color: var(--fill-color);\n",
              "      border-right-color: var(--fill-color);\n",
              "    }\n",
              "    40% {\n",
              "      border-color: transparent;\n",
              "      border-right-color: var(--fill-color);\n",
              "      border-top-color: var(--fill-color);\n",
              "    }\n",
              "    60% {\n",
              "      border-color: transparent;\n",
              "      border-right-color: var(--fill-color);\n",
              "    }\n",
              "    80% {\n",
              "      border-color: transparent;\n",
              "      border-right-color: var(--fill-color);\n",
              "      border-bottom-color: var(--fill-color);\n",
              "    }\n",
              "    90% {\n",
              "      border-color: transparent;\n",
              "      border-bottom-color: var(--fill-color);\n",
              "    }\n",
              "  }\n",
              "</style>\n",
              "\n",
              "  <script>\n",
              "    async function quickchart(key) {\n",
              "      const quickchartButtonEl =\n",
              "        document.querySelector('#' + key + ' button');\n",
              "      quickchartButtonEl.disabled = true;  // To prevent multiple clicks.\n",
              "      quickchartButtonEl.classList.add('colab-df-spinner');\n",
              "      try {\n",
              "        const charts = await google.colab.kernel.invokeFunction(\n",
              "            'suggestCharts', [key], {});\n",
              "      } catch (error) {\n",
              "        console.error('Error during call to suggestCharts:', error);\n",
              "      }\n",
              "      quickchartButtonEl.classList.remove('colab-df-spinner');\n",
              "      quickchartButtonEl.classList.add('colab-df-quickchart-complete');\n",
              "    }\n",
              "    (() => {\n",
              "      let quickchartButtonEl =\n",
              "        document.querySelector('#df-b1f973f2-14c2-446f-9a9f-e4d30fc10762 button');\n",
              "      quickchartButtonEl.style.display =\n",
              "        google.colab.kernel.accessAllowed ? 'block' : 'none';\n",
              "    })();\n",
              "  </script>\n",
              "</div>\n",
              "    </div>\n",
              "  </div>\n"
            ]
          },
          "metadata": {},
          "execution_count": 5
        }
      ]
    },
    {
      "cell_type": "code",
      "execution_count": null,
      "metadata": {
        "id": "YRVGk6wRAY03",
        "outputId": "919b143f-95be-46bf-8b0f-005fe7dbf3e1",
        "colab": {
          "base_uri": "https://localhost:8080/"
        }
      },
      "outputs": [
        {
          "output_type": "stream",
          "name": "stdout",
          "text": [
            "<class 'pandas.core.frame.DataFrame'>\n",
            "RangeIndex: 72 entries, 0 to 71\n",
            "Data columns (total 6 columns):\n",
            " #   Column  Non-Null Count  Dtype  \n",
            "---  ------  --------------  -----  \n",
            " 0   IW      72 non-null     int64  \n",
            " 1   IF      72 non-null     int64  \n",
            " 2   VW      72 non-null     float64\n",
            " 3   FP      72 non-null     int64  \n",
            " 4   Depth   72 non-null     float64\n",
            " 5   Width   72 non-null     float64\n",
            "dtypes: float64(3), int64(3)\n",
            "memory usage: 3.5 KB\n"
          ]
        }
      ],
      "source": [
        "df.info()   # информациz о данных: количество столбцов, количество значений в каждом столбце"
      ]
    },
    {
      "cell_type": "code",
      "source": [
        "df.isna().sum()   #  Проверка наличия пропущенных значений"
      ],
      "metadata": {
        "colab": {
          "base_uri": "https://localhost:8080/"
        },
        "id": "BJa9Yg1IPUvt",
        "outputId": "7acd55f4-8709-4c6f-b3f5-eafa04ed7b1e"
      },
      "execution_count": null,
      "outputs": [
        {
          "output_type": "execute_result",
          "data": {
            "text/plain": [
              "IW       0\n",
              "IF       0\n",
              "VW       0\n",
              "FP       0\n",
              "Depth    0\n",
              "Width    0\n",
              "dtype: int64"
            ]
          },
          "metadata": {},
          "execution_count": 7
        }
      ]
    },
    {
      "cell_type": "markdown",
      "source": [
        "Пропусков нет"
      ],
      "metadata": {
        "id": "bGUUKgPJPgfR"
      }
    },
    {
      "cell_type": "code",
      "source": [
        "df.describe()   # Описательная статистику каждой числовой функции. Здесь мы получаем количество значений,\n",
        "                # среднее значение, стандартное отклонение и процентили для каждого столбца."
      ],
      "metadata": {
        "colab": {
          "base_uri": "https://localhost:8080/",
          "height": 300
        },
        "id": "s6BI3MGfQwtg",
        "outputId": "8d57c871-6b4b-4b17-e641-13cf2de98412"
      },
      "execution_count": null,
      "outputs": [
        {
          "output_type": "execute_result",
          "data": {
            "text/plain": [
              "              IW          IF         VW          FP      Depth      Width\n",
              "count  72.000000   72.000000  72.000000   72.000000  72.000000  72.000000\n",
              "mean   45.666667  141.333333   8.638889   78.333333   1.195556   1.970417\n",
              "std     1.678363    5.145763   2.061078   21.493530   0.225081   0.279040\n",
              "min    43.000000  131.000000   4.500000   50.000000   0.800000   1.680000\n",
              "25%    44.000000  139.000000   8.000000   60.000000   1.080000   1.760000\n",
              "50%    45.500000  141.000000   9.000000   80.000000   1.200000   1.840000\n",
              "75%    47.000000  146.000000  10.000000   80.000000   1.290000   2.050000\n",
              "max    49.000000  150.000000  12.000000  125.000000   1.760000   2.600000"
            ],
            "text/html": [
              "\n",
              "  <div id=\"df-1ead8e2f-299d-4714-8c60-bf96ee7238aa\" class=\"colab-df-container\">\n",
              "    <div>\n",
              "<style scoped>\n",
              "    .dataframe tbody tr th:only-of-type {\n",
              "        vertical-align: middle;\n",
              "    }\n",
              "\n",
              "    .dataframe tbody tr th {\n",
              "        vertical-align: top;\n",
              "    }\n",
              "\n",
              "    .dataframe thead th {\n",
              "        text-align: right;\n",
              "    }\n",
              "</style>\n",
              "<table border=\"1\" class=\"dataframe\">\n",
              "  <thead>\n",
              "    <tr style=\"text-align: right;\">\n",
              "      <th></th>\n",
              "      <th>IW</th>\n",
              "      <th>IF</th>\n",
              "      <th>VW</th>\n",
              "      <th>FP</th>\n",
              "      <th>Depth</th>\n",
              "      <th>Width</th>\n",
              "    </tr>\n",
              "  </thead>\n",
              "  <tbody>\n",
              "    <tr>\n",
              "      <th>count</th>\n",
              "      <td>72.000000</td>\n",
              "      <td>72.000000</td>\n",
              "      <td>72.000000</td>\n",
              "      <td>72.000000</td>\n",
              "      <td>72.000000</td>\n",
              "      <td>72.000000</td>\n",
              "    </tr>\n",
              "    <tr>\n",
              "      <th>mean</th>\n",
              "      <td>45.666667</td>\n",
              "      <td>141.333333</td>\n",
              "      <td>8.638889</td>\n",
              "      <td>78.333333</td>\n",
              "      <td>1.195556</td>\n",
              "      <td>1.970417</td>\n",
              "    </tr>\n",
              "    <tr>\n",
              "      <th>std</th>\n",
              "      <td>1.678363</td>\n",
              "      <td>5.145763</td>\n",
              "      <td>2.061078</td>\n",
              "      <td>21.493530</td>\n",
              "      <td>0.225081</td>\n",
              "      <td>0.279040</td>\n",
              "    </tr>\n",
              "    <tr>\n",
              "      <th>min</th>\n",
              "      <td>43.000000</td>\n",
              "      <td>131.000000</td>\n",
              "      <td>4.500000</td>\n",
              "      <td>50.000000</td>\n",
              "      <td>0.800000</td>\n",
              "      <td>1.680000</td>\n",
              "    </tr>\n",
              "    <tr>\n",
              "      <th>25%</th>\n",
              "      <td>44.000000</td>\n",
              "      <td>139.000000</td>\n",
              "      <td>8.000000</td>\n",
              "      <td>60.000000</td>\n",
              "      <td>1.080000</td>\n",
              "      <td>1.760000</td>\n",
              "    </tr>\n",
              "    <tr>\n",
              "      <th>50%</th>\n",
              "      <td>45.500000</td>\n",
              "      <td>141.000000</td>\n",
              "      <td>9.000000</td>\n",
              "      <td>80.000000</td>\n",
              "      <td>1.200000</td>\n",
              "      <td>1.840000</td>\n",
              "    </tr>\n",
              "    <tr>\n",
              "      <th>75%</th>\n",
              "      <td>47.000000</td>\n",
              "      <td>146.000000</td>\n",
              "      <td>10.000000</td>\n",
              "      <td>80.000000</td>\n",
              "      <td>1.290000</td>\n",
              "      <td>2.050000</td>\n",
              "    </tr>\n",
              "    <tr>\n",
              "      <th>max</th>\n",
              "      <td>49.000000</td>\n",
              "      <td>150.000000</td>\n",
              "      <td>12.000000</td>\n",
              "      <td>125.000000</td>\n",
              "      <td>1.760000</td>\n",
              "      <td>2.600000</td>\n",
              "    </tr>\n",
              "  </tbody>\n",
              "</table>\n",
              "</div>\n",
              "    <div class=\"colab-df-buttons\">\n",
              "\n",
              "  <div class=\"colab-df-container\">\n",
              "    <button class=\"colab-df-convert\" onclick=\"convertToInteractive('df-1ead8e2f-299d-4714-8c60-bf96ee7238aa')\"\n",
              "            title=\"Convert this dataframe to an interactive table.\"\n",
              "            style=\"display:none;\">\n",
              "\n",
              "  <svg xmlns=\"http://www.w3.org/2000/svg\" height=\"24px\" viewBox=\"0 -960 960 960\">\n",
              "    <path d=\"M120-120v-720h720v720H120Zm60-500h600v-160H180v160Zm220 220h160v-160H400v160Zm0 220h160v-160H400v160ZM180-400h160v-160H180v160Zm440 0h160v-160H620v160ZM180-180h160v-160H180v160Zm440 0h160v-160H620v160Z\"/>\n",
              "  </svg>\n",
              "    </button>\n",
              "\n",
              "  <style>\n",
              "    .colab-df-container {\n",
              "      display:flex;\n",
              "      gap: 12px;\n",
              "    }\n",
              "\n",
              "    .colab-df-convert {\n",
              "      background-color: #E8F0FE;\n",
              "      border: none;\n",
              "      border-radius: 50%;\n",
              "      cursor: pointer;\n",
              "      display: none;\n",
              "      fill: #1967D2;\n",
              "      height: 32px;\n",
              "      padding: 0 0 0 0;\n",
              "      width: 32px;\n",
              "    }\n",
              "\n",
              "    .colab-df-convert:hover {\n",
              "      background-color: #E2EBFA;\n",
              "      box-shadow: 0px 1px 2px rgba(60, 64, 67, 0.3), 0px 1px 3px 1px rgba(60, 64, 67, 0.15);\n",
              "      fill: #174EA6;\n",
              "    }\n",
              "\n",
              "    .colab-df-buttons div {\n",
              "      margin-bottom: 4px;\n",
              "    }\n",
              "\n",
              "    [theme=dark] .colab-df-convert {\n",
              "      background-color: #3B4455;\n",
              "      fill: #D2E3FC;\n",
              "    }\n",
              "\n",
              "    [theme=dark] .colab-df-convert:hover {\n",
              "      background-color: #434B5C;\n",
              "      box-shadow: 0px 1px 3px 1px rgba(0, 0, 0, 0.15);\n",
              "      filter: drop-shadow(0px 1px 2px rgba(0, 0, 0, 0.3));\n",
              "      fill: #FFFFFF;\n",
              "    }\n",
              "  </style>\n",
              "\n",
              "    <script>\n",
              "      const buttonEl =\n",
              "        document.querySelector('#df-1ead8e2f-299d-4714-8c60-bf96ee7238aa button.colab-df-convert');\n",
              "      buttonEl.style.display =\n",
              "        google.colab.kernel.accessAllowed ? 'block' : 'none';\n",
              "\n",
              "      async function convertToInteractive(key) {\n",
              "        const element = document.querySelector('#df-1ead8e2f-299d-4714-8c60-bf96ee7238aa');\n",
              "        const dataTable =\n",
              "          await google.colab.kernel.invokeFunction('convertToInteractive',\n",
              "                                                    [key], {});\n",
              "        if (!dataTable) return;\n",
              "\n",
              "        const docLinkHtml = 'Like what you see? Visit the ' +\n",
              "          '<a target=\"_blank\" href=https://colab.research.google.com/notebooks/data_table.ipynb>data table notebook</a>'\n",
              "          + ' to learn more about interactive tables.';\n",
              "        element.innerHTML = '';\n",
              "        dataTable['output_type'] = 'display_data';\n",
              "        await google.colab.output.renderOutput(dataTable, element);\n",
              "        const docLink = document.createElement('div');\n",
              "        docLink.innerHTML = docLinkHtml;\n",
              "        element.appendChild(docLink);\n",
              "      }\n",
              "    </script>\n",
              "  </div>\n",
              "\n",
              "\n",
              "<div id=\"df-f56a6d29-dac7-4dbd-8ea1-24d50f4b6cba\">\n",
              "  <button class=\"colab-df-quickchart\" onclick=\"quickchart('df-f56a6d29-dac7-4dbd-8ea1-24d50f4b6cba')\"\n",
              "            title=\"Suggest charts.\"\n",
              "            style=\"display:none;\">\n",
              "\n",
              "<svg xmlns=\"http://www.w3.org/2000/svg\" height=\"24px\"viewBox=\"0 0 24 24\"\n",
              "     width=\"24px\">\n",
              "    <g>\n",
              "        <path d=\"M19 3H5c-1.1 0-2 .9-2 2v14c0 1.1.9 2 2 2h14c1.1 0 2-.9 2-2V5c0-1.1-.9-2-2-2zM9 17H7v-7h2v7zm4 0h-2V7h2v10zm4 0h-2v-4h2v4z\"/>\n",
              "    </g>\n",
              "</svg>\n",
              "  </button>\n",
              "\n",
              "<style>\n",
              "  .colab-df-quickchart {\n",
              "      --bg-color: #E8F0FE;\n",
              "      --fill-color: #1967D2;\n",
              "      --hover-bg-color: #E2EBFA;\n",
              "      --hover-fill-color: #174EA6;\n",
              "      --disabled-fill-color: #AAA;\n",
              "      --disabled-bg-color: #DDD;\n",
              "  }\n",
              "\n",
              "  [theme=dark] .colab-df-quickchart {\n",
              "      --bg-color: #3B4455;\n",
              "      --fill-color: #D2E3FC;\n",
              "      --hover-bg-color: #434B5C;\n",
              "      --hover-fill-color: #FFFFFF;\n",
              "      --disabled-bg-color: #3B4455;\n",
              "      --disabled-fill-color: #666;\n",
              "  }\n",
              "\n",
              "  .colab-df-quickchart {\n",
              "    background-color: var(--bg-color);\n",
              "    border: none;\n",
              "    border-radius: 50%;\n",
              "    cursor: pointer;\n",
              "    display: none;\n",
              "    fill: var(--fill-color);\n",
              "    height: 32px;\n",
              "    padding: 0;\n",
              "    width: 32px;\n",
              "  }\n",
              "\n",
              "  .colab-df-quickchart:hover {\n",
              "    background-color: var(--hover-bg-color);\n",
              "    box-shadow: 0 1px 2px rgba(60, 64, 67, 0.3), 0 1px 3px 1px rgba(60, 64, 67, 0.15);\n",
              "    fill: var(--button-hover-fill-color);\n",
              "  }\n",
              "\n",
              "  .colab-df-quickchart-complete:disabled,\n",
              "  .colab-df-quickchart-complete:disabled:hover {\n",
              "    background-color: var(--disabled-bg-color);\n",
              "    fill: var(--disabled-fill-color);\n",
              "    box-shadow: none;\n",
              "  }\n",
              "\n",
              "  .colab-df-spinner {\n",
              "    border: 2px solid var(--fill-color);\n",
              "    border-color: transparent;\n",
              "    border-bottom-color: var(--fill-color);\n",
              "    animation:\n",
              "      spin 1s steps(1) infinite;\n",
              "  }\n",
              "\n",
              "  @keyframes spin {\n",
              "    0% {\n",
              "      border-color: transparent;\n",
              "      border-bottom-color: var(--fill-color);\n",
              "      border-left-color: var(--fill-color);\n",
              "    }\n",
              "    20% {\n",
              "      border-color: transparent;\n",
              "      border-left-color: var(--fill-color);\n",
              "      border-top-color: var(--fill-color);\n",
              "    }\n",
              "    30% {\n",
              "      border-color: transparent;\n",
              "      border-left-color: var(--fill-color);\n",
              "      border-top-color: var(--fill-color);\n",
              "      border-right-color: var(--fill-color);\n",
              "    }\n",
              "    40% {\n",
              "      border-color: transparent;\n",
              "      border-right-color: var(--fill-color);\n",
              "      border-top-color: var(--fill-color);\n",
              "    }\n",
              "    60% {\n",
              "      border-color: transparent;\n",
              "      border-right-color: var(--fill-color);\n",
              "    }\n",
              "    80% {\n",
              "      border-color: transparent;\n",
              "      border-right-color: var(--fill-color);\n",
              "      border-bottom-color: var(--fill-color);\n",
              "    }\n",
              "    90% {\n",
              "      border-color: transparent;\n",
              "      border-bottom-color: var(--fill-color);\n",
              "    }\n",
              "  }\n",
              "</style>\n",
              "\n",
              "  <script>\n",
              "    async function quickchart(key) {\n",
              "      const quickchartButtonEl =\n",
              "        document.querySelector('#' + key + ' button');\n",
              "      quickchartButtonEl.disabled = true;  // To prevent multiple clicks.\n",
              "      quickchartButtonEl.classList.add('colab-df-spinner');\n",
              "      try {\n",
              "        const charts = await google.colab.kernel.invokeFunction(\n",
              "            'suggestCharts', [key], {});\n",
              "      } catch (error) {\n",
              "        console.error('Error during call to suggestCharts:', error);\n",
              "      }\n",
              "      quickchartButtonEl.classList.remove('colab-df-spinner');\n",
              "      quickchartButtonEl.classList.add('colab-df-quickchart-complete');\n",
              "    }\n",
              "    (() => {\n",
              "      let quickchartButtonEl =\n",
              "        document.querySelector('#df-f56a6d29-dac7-4dbd-8ea1-24d50f4b6cba button');\n",
              "      quickchartButtonEl.style.display =\n",
              "        google.colab.kernel.accessAllowed ? 'block' : 'none';\n",
              "    })();\n",
              "  </script>\n",
              "</div>\n",
              "    </div>\n",
              "  </div>\n"
            ]
          },
          "metadata": {},
          "execution_count": 8
        }
      ]
    },
    {
      "cell_type": "code",
      "execution_count": null,
      "metadata": {
        "id": "wS68i_PkAY04",
        "outputId": "80582013-990c-4041-f951-f44663485609",
        "colab": {
          "base_uri": "https://localhost:8080/",
          "height": 452
        }
      },
      "outputs": [
        {
          "output_type": "execute_result",
          "data": {
            "text/plain": [
              "<Axes: >"
            ]
          },
          "metadata": {},
          "execution_count": 9
        },
        {
          "output_type": "display_data",
          "data": {
            "text/plain": [
              "<Figure size 640x480 with 2 Axes>"
            ],
            "image/png": "[encoded data removed]"
          },
          "metadata": {}
        }
      ],
      "source": [
        "sns.heatmap(df.corr(), annot=True)   # Построение тепловой карты корреляции при помощи библиотеки seaborn"
      ]
    },
    {
      "cell_type": "code",
      "execution_count": null,
      "metadata": {
        "id": "SMw87pW1AY05",
        "colab": {
          "base_uri": "https://localhost:8080/",
          "height": 1000
        },
        "outputId": "b518b9e0-5485-4295-b931-e555008dca0f"
      },
      "outputs": [
        {
          "output_type": "execute_result",
          "data": {
            "text/plain": [
              "<seaborn.axisgrid.PairGrid at 0x7e78b0d83e50>"
            ]
          },
          "metadata": {},
          "execution_count": 10
        },
        {
          "output_type": "display_data",
          "data": {
            "text/plain": [
              "<Figure size 1500x1500 with 42 Axes>"
            ],
            "image/png": "[encoded data removed]"
          },
          "metadata": {}
        }
      ],
      "source": [
        "sns.pairplot(df, diag_kind='kde')"
      ]
    },
    {
      "cell_type": "markdown",
      "metadata": {
        "id": "-M3xZHzRAY06"
      },
      "source": [
        "# Подготовка датасета"
      ]
    },
    {
      "cell_type": "code",
      "execution_count": null,
      "metadata": {
        "id": "oHH4P8QZAY06"
      },
      "outputs": [],
      "source": [
        "X = df[['IW', 'IF', 'VW', 'FP']].values # входные параметры\n",
        "y = df[['Depth', 'Width']].values # выходные параметры\n",
        "\n",
        "#X = df.drop([['Width', 'Depth']], axis=1)\n",
        "#y = df[['Width', 'Depth']].copy()"
      ]
    },
    {
      "cell_type": "code",
      "execution_count": null,
      "metadata": {
        "id": "QKE7-Ll1AY09"
      },
      "outputs": [],
      "source": [
        "#sns.displot(X.IW, kde=True)"
      ]
    },
    {
      "cell_type": "code",
      "execution_count": null,
      "metadata": {
        "id": "82-NVwuZAY0_"
      },
      "outputs": [],
      "source": [
        "#sns.displot(X.IF, kde=True)"
      ]
    },
    {
      "cell_type": "code",
      "execution_count": null,
      "metadata": {
        "id": "fOBzjtSVAY1B"
      },
      "outputs": [],
      "source": [
        "#sns.displot(X.VW, kde=True)"
      ]
    },
    {
      "cell_type": "code",
      "execution_count": null,
      "metadata": {
        "id": "MlSH5uXVAY1B"
      },
      "outputs": [],
      "source": [
        "#sns.displot(X.FP, kde=True)"
      ]
    },
    {
      "cell_type": "code",
      "execution_count": null,
      "metadata": {
        "id": "6s7jMffkAY1C"
      },
      "outputs": [],
      "source": [
        "#sns.displot(y.Depth, kde=True)"
      ]
    },
    {
      "cell_type": "code",
      "execution_count": null,
      "metadata": {
        "id": "PS6bqYmKAY1D"
      },
      "outputs": [],
      "source": [
        "#sns.displot(y.Width, kde=True)"
      ]
    },
    {
      "cell_type": "code",
      "execution_count": null,
      "metadata": {
        "id": "SYaeDRDkAY1D"
      },
      "outputs": [],
      "source": [
        "#Разбиваем выборки на обучающую и тестовую\n",
        "X_train, X_test, y_train, y_test = train_test_split(X,\n",
        "                                                    y,\n",
        "                                                    train_size=0.8,\n",
        "                                                    test_size=0.2,\n",
        "                                                    random_state=0,\n",
        "                                                    shuffle=True)"
      ]
    },
    {
      "cell_type": "code",
      "execution_count": null,
      "metadata": {
        "id": "DFPwTzyQAY1E"
      },
      "outputs": [],
      "source": [
        "scaler = MinMaxScaler()\n",
        "X_train = scaler.fit_transform(X_train)\n",
        "X_test = scaler.transform(X_test)"
      ]
    },
    {
      "cell_type": "code",
      "execution_count": null,
      "metadata": {
        "id": "doMXvQQHAY1F",
        "outputId": "9e0870f2-d60e-4129-844d-465d700aae91",
        "colab": {
          "base_uri": "https://localhost:8080/"
        }
      },
      "outputs": [
        {
          "output_type": "execute_result",
          "data": {
            "text/plain": [
              "((57, 4), (15, 4), (57, 2), (15, 2))"
            ]
          },
          "metadata": {},
          "execution_count": 20
        }
      ],
      "source": [
        "X_train.shape, X_test.shape, y_train.shape, y_test.shape  # Размерность параметров"
      ]
    },
    {
      "cell_type": "markdown",
      "source": [
        "# Метод линейной регрессии"
      ],
      "metadata": {
        "id": "I3JEb7DJxNOp"
      }
    },
    {
      "cell_type": "code",
      "source": [
        "# Обучаем модель линейной регресии\n",
        "model_lr = LinearRegression()"
      ],
      "metadata": {
        "id": "VRxND3RNcGlV"
      },
      "execution_count": null,
      "outputs": []
    },
    {
      "cell_type": "code",
      "source": [
        "# обучаем модель с параметрами по умолчанию\n",
        "model_lr.fit(X_train, y_train)\n"
      ],
      "metadata": {
        "id": "mMt9Azgjd6P2"
      },
      "execution_count": null,
      "outputs": []
    },
    {
      "cell_type": "code",
      "source": [
        "model_lr.coef_"
      ],
      "metadata": {
        "colab": {
          "base_uri": "https://localhost:8080/"
        },
        "id": "zl0fqx-MErl4",
        "outputId": "3ac7597c-7d5c-4f72-ff04-87884abeaaa4"
      },
      "execution_count": null,
      "outputs": [
        {
          "output_type": "execute_result",
          "data": {
            "text/plain": [
              "array([[ 0.1711745 ,  0.04908342, -0.88226416,  0.31322497],\n",
              "       [ 0.21655166, -1.51791877, -0.45756562, -2.0001329 ]])"
            ]
          },
          "metadata": {},
          "execution_count": 28
        }
      ]
    },
    {
      "cell_type": "markdown",
      "source": [
        "### Оценка модели"
      ],
      "metadata": {
        "id": "WQM7inYF9656"
      }
    },
    {
      "cell_type": "code",
      "source": [
        "# прогнозные значения\n",
        "y_pred = model_lr.predict(X_test)\n"
      ],
      "metadata": {
        "id": "BenzOzTp9_nO"
      },
      "execution_count": null,
      "outputs": []
    },
    {
      "cell_type": "code",
      "source": [
        "MAE = metrics.mean_absolute_error(y_test, y_pred)  # Средняя абсолютная ошибка"
      ],
      "metadata": {
        "id": "f5gslAck9Vkt"
      },
      "execution_count": null,
      "outputs": []
    },
    {
      "cell_type": "code",
      "source": [
        "MSE = metrics.mean_squared_error(y_test, y_pred)  # Среднеквадратичная ошибка"
      ],
      "metadata": {
        "id": "sejMuo4rCtOB"
      },
      "execution_count": null,
      "outputs": []
    },
    {
      "cell_type": "code",
      "source": [
        "MAE"
      ],
      "metadata": {
        "id": "6TGliYaj9Wcp",
        "colab": {
          "base_uri": "https://localhost:8080/"
        },
        "outputId": "ce491d38-e35b-402d-9432-1d92e3a88719"
      },
      "execution_count": null,
      "outputs": [
        {
          "output_type": "execute_result",
          "data": {
            "text/plain": [
              "0.08929244755343549"
            ]
          },
          "metadata": {},
          "execution_count": 26
        }
      ]
    },
    {
      "cell_type": "code",
      "source": [
        "MSE"
      ],
      "metadata": {
        "id": "GByTN7uH9WlX",
        "colab": {
          "base_uri": "https://localhost:8080/"
        },
        "outputId": "509e7769-57c0-4d02-cd11-ea4a7adede39"
      },
      "execution_count": null,
      "outputs": [
        {
          "output_type": "execute_result",
          "data": {
            "text/plain": [
              "0.01375290548345732"
            ]
          },
          "metadata": {},
          "execution_count": 27
        }
      ]
    },
    {
      "cell_type": "code",
      "source": [
        "(1 - MAE / y_train.mean()) * 100    # MAPE, средняя квадратичная ошибка в процентах"
      ],
      "metadata": {
        "id": "HD3HmvvT9a8B",
        "colab": {
          "base_uri": "https://localhost:8080/"
        },
        "outputId": "3b550631-8db7-438a-819f-ecb94191aba6"
      },
      "execution_count": null,
      "outputs": [
        {
          "output_type": "execute_result",
          "data": {
            "text/plain": [
              "94.3255816817595"
            ]
          },
          "metadata": {},
          "execution_count": 28
        }
      ]
    },
    {
      "cell_type": "markdown",
      "source": [
        "# Нейронная сеть"
      ],
      "metadata": {
        "id": "_BczeDgSzBOY"
      }
    },
    {
      "cell_type": "code",
      "source": [
        "model_2n = tf.keras.layers.Normalization(axis =- 1)"
      ],
      "metadata": {
        "id": "UX9orxlrzAt7"
      },
      "execution_count": null,
      "outputs": []
    },
    {
      "cell_type": "code",
      "source": [
        "model_2n.adapt(np.array(X))"
      ],
      "metadata": {
        "id": "Jba5-fz_zsP5"
      },
      "execution_count": null,
      "outputs": []
    },
    {
      "cell_type": "code",
      "source": [
        "def build():\n",
        "    return tf.keras.Sequential([\n",
        "      keras.layers.Input(shape = (4,), name = 'in'),\n",
        "      keras.layers.Dense(units = 64, activation = 'relu', name = 'dense_1'),\n",
        "      keras.layers.Dense(units = 32, activation = 'relu', name = 'dense_2'),\n",
        "      keras.layers.Dense(units = 12, activation = 'relu', name = 'dense_3'),\n",
        "      keras.layers.Dense(units = 2, name = 'out')\n",
        "    ])"
      ],
      "metadata": {
        "id": "Sto2_MgozZWJ"
      },
      "execution_count": null,
      "outputs": []
    },
    {
      "cell_type": "code",
      "source": [
        "def build_and_comp(model):\n",
        "    model.compile(\n",
        "             optimizer = keras.optimizers.Adam(),\n",
        "             loss = keras.losses.MeanAbsolutePercentageError(),\n",
        "             metrics = [tf.keras.metrics.RootMeanSquaredError()]\n",
        "             )\n",
        "    return model\n"
      ],
      "metadata": {
        "id": "skJNlBWAzd6l"
      },
      "execution_count": null,
      "outputs": []
    },
    {
      "cell_type": "code",
      "source": [
        "# Функция для построения графика ошибки\n",
        "def plot_loss(history):\n",
        "  fig, axes = plt.subplots(1, 2, figsize = (12, 5))\n",
        "  axes[0].plot(history['loss'], label = 'loss')\n",
        "  axes[0].plot(history['val_loss'], label = 'val_loss')\n",
        "  axes[0].set_xlabel('Эпоха')\n",
        "  axes[0].set_ylabel('MAPE')\n",
        "  axes[0].legend()\n",
        "  axes[0].grid(True)\n",
        "  axes[1].plot(history['root_mean_squared_error'], label = 'loss')\n",
        "  axes[1].plot(history['val_root_mean_squared_error'], label = 'val_loss')\n",
        "  axes[1].set_xlabel('Эпоха')\n",
        "  axes[1].set_ylabel('RMSE')\n",
        "  axes[1].legend()\n",
        "  axes[1].grid(True)\n",
        "  plt.show()"
      ],
      "metadata": {
        "id": "z9y_JDbE8mI5"
      },
      "execution_count": null,
      "outputs": []
    },
    {
      "cell_type": "code",
      "source": [
        "def rass_snach(original_y, predicted_y):\n",
        "    plt.figure(figsize = (10,5))\n",
        "    plt.title('Рассеяние тестовых и прогнозных значений', size = 15)\n",
        "    plt.scatter(original_y, predicted_y)\n",
        "    plt.xlabel('Тестовые значения', size = 12)\n",
        "    plt.ylabel('Прогнозные значения', size = 12)\n",
        "    plt.show()"
      ],
      "metadata": {
        "id": "FKWJavqrzd9C"
      },
      "execution_count": null,
      "outputs": []
    },
    {
      "cell_type": "code",
      "source": [
        "# Базовая модель\n",
        "bas_mod_1 = DummyRegressor(strategy = 'median')\n",
        "# Предсказание базовой модели\n",
        "bas_mod_1.fit(X_train, y_train)\n",
        "y_pred_bas_1 = bas_mod_1.predict(X_test)"
      ],
      "metadata": {
        "id": "kTroTJtdzd_o"
      },
      "execution_count": null,
      "outputs": []
    },
    {
      "cell_type": "code",
      "source": [
        "# cборка\n",
        "model_1 = build()"
      ],
      "metadata": {
        "id": "0WaK7t0G1ozK"
      },
      "execution_count": null,
      "outputs": []
    },
    {
      "cell_type": "code",
      "source": [
        "# компиляция\n",
        "model_1 = build_and_comp(model_1)"
      ],
      "metadata": {
        "id": "KCBtLCzT1o2B"
      },
      "execution_count": null,
      "outputs": []
    },
    {
      "cell_type": "code",
      "source": [
        "# сводная информация по архитектуре сети\n",
        "model_1.summary()"
      ],
      "metadata": {
        "colab": {
          "base_uri": "https://localhost:8080/"
        },
        "id": "vsd7f3OF1o4Z",
        "outputId": "b4711c7b-2c4a-4935-a001-8c4732291727"
      },
      "execution_count": null,
      "outputs": [
        {
          "output_type": "stream",
          "name": "stdout",
          "text": [
            "Model: \"sequential\"\n",
            "_________________________________________________________________\n",
            " Layer (type)                Output Shape              Param #   \n",
            "=================================================================\n",
            " dense_1 (Dense)             (None, 64)                320       \n",
            "                                                                 \n",
            " dense_2 (Dense)             (None, 32)                2080      \n",
            "                                                                 \n",
            " dense_3 (Dense)             (None, 12)                396       \n",
            "                                                                 \n",
            " out (Dense)                 (None, 2)                 26        \n",
            "                                                                 \n",
            "=================================================================\n",
            "Total params: 2822 (11.02 KB)\n",
            "Trainable params: 2822 (11.02 KB)\n",
            "Non-trainable params: 0 (0.00 Byte)\n",
            "_________________________________________________________________\n"
          ]
        }
      ]
    },
    {
      "cell_type": "code",
      "source": [
        "# архитектура нейросети\n",
        "keras.utils.plot_model(model_1, show_shapes = True, show_layer_names = True, show_layer_activations = True)"
      ],
      "metadata": {
        "colab": {
          "base_uri": "https://localhost:8080/",
          "height": 533
        },
        "id": "EuNxFa5Z1o6t",
        "outputId": "d101880c-52b1-4143-be66-3e27304af1d0"
      },
      "execution_count": null,
      "outputs": [
        {
          "output_type": "execute_result",
          "data": {
            "image/png": "[encoded data removed]",
            "text/plain": [
              "<IPython.core.display.Image object>"
            ]
          },
          "metadata": {},
          "execution_count": 40
        }
      ]
    },
    {
      "cell_type": "code",
      "source": [
        "%%time\n",
        "#обучение нейросети\n",
        "history_1 = model_1.fit(\n",
        "  X,\n",
        "  y,\n",
        "  epochs = 300,\n",
        "  validation_data = (X_test,y_test),\n",
        "  verbose = 1\n",
        ")"
      ],
      "metadata": {
        "colab": {
          "base_uri": "https://localhost:8080/"
        },
        "id": "ME-_Ii6_5sE2",
        "outputId": "37e1f092-e207-47be-fa54-cd9d9f6272b3"
      },
      "execution_count": null,
      "outputs": [
        {
          "output_type": "stream",
          "name": "stdout",
          "text": [
            "Epoch 1/300\n",
            "3/3 [==============================] - 1s 110ms/step - loss: 2299.5505 - root_mean_squared_error: 41.4216 - val_loss: 103.1234 - val_root_mean_squared_error: 1.8107\n",
            "Epoch 2/300\n",
            "3/3 [==============================] - 0s 17ms/step - loss: 1256.3292 - root_mean_squared_error: 29.3428 - val_loss: 105.0564 - val_root_mean_squared_error: 1.7859\n",
            "Epoch 3/300\n",
            "3/3 [==============================] - 0s 19ms/step - loss: 1049.4146 - root_mean_squared_error: 21.0642 - val_loss: 104.6638 - val_root_mean_squared_error: 1.7573\n",
            "Epoch 4/300\n",
            "3/3 [==============================] - 0s 27ms/step - loss: 863.2645 - root_mean_squared_error: 16.6304 - val_loss: 103.3596 - val_root_mean_squared_error: 1.7288\n",
            "Epoch 5/300\n",
            "3/3 [==============================] - 0s 18ms/step - loss: 581.0715 - root_mean_squared_error: 12.8818 - val_loss: 101.9948 - val_root_mean_squared_error: 1.7051\n",
            "Epoch 6/300\n",
            "3/3 [==============================] - 0s 17ms/step - loss: 464.3399 - root_mean_squared_error: 10.9340 - val_loss: 101.1506 - val_root_mean_squared_error: 1.6892\n",
            "Epoch 7/300\n",
            "3/3 [==============================] - 0s 20ms/step - loss: 377.7861 - root_mean_squared_error: 9.1001 - val_loss: 100.6847 - val_root_mean_squared_error: 1.6766\n",
            "Epoch 8/300\n",
            "3/3 [==============================] - 0s 19ms/step - loss: 292.9138 - root_mean_squared_error: 6.9719 - val_loss: 100.2982 - val_root_mean_squared_error: 1.6657\n",
            "Epoch 9/300\n",
            "3/3 [==============================] - 0s 20ms/step - loss: 230.3666 - root_mean_squared_error: 5.0047 - val_loss: 99.7839 - val_root_mean_squared_error: 1.6547\n",
            "Epoch 10/300\n",
            "3/3 [==============================] - 0s 17ms/step - loss: 171.4915 - root_mean_squared_error: 3.3870 - val_loss: 99.2194 - val_root_mean_squared_error: 1.6436\n",
            "Epoch 11/300\n",
            "3/3 [==============================] - 0s 17ms/step - loss: 109.8658 - root_mean_squared_error: 1.9709 - val_loss: 98.6172 - val_root_mean_squared_error: 1.6319\n",
            "Epoch 12/300\n",
            "3/3 [==============================] - 0s 16ms/step - loss: 56.5546 - root_mean_squared_error: 0.9656 - val_loss: 97.9274 - val_root_mean_squared_error: 1.6213\n",
            "Epoch 13/300\n",
            "3/3 [==============================] - 0s 17ms/step - loss: 57.3205 - root_mean_squared_error: 0.9592 - val_loss: 97.4976 - val_root_mean_squared_error: 1.6156\n",
            "Epoch 14/300\n",
            "3/3 [==============================] - 0s 17ms/step - loss: 80.1645 - root_mean_squared_error: 1.2422 - val_loss: 97.6832 - val_root_mean_squared_error: 1.6159\n",
            "Epoch 15/300\n",
            "3/3 [==============================] - 0s 17ms/step - loss: 64.4010 - root_mean_squared_error: 1.1976 - val_loss: 98.1019 - val_root_mean_squared_error: 1.6201\n",
            "Epoch 16/300\n",
            "3/3 [==============================] - 0s 19ms/step - loss: 49.1402 - root_mean_squared_error: 0.9536 - val_loss: 98.2976 - val_root_mean_squared_error: 1.6254\n",
            "Epoch 17/300\n",
            "3/3 [==============================] - 0s 17ms/step - loss: 32.5720 - root_mean_squared_error: 0.6028 - val_loss: 98.4362 - val_root_mean_squared_error: 1.6292\n",
            "Epoch 18/300\n",
            "3/3 [==============================] - 0s 17ms/step - loss: 44.9474 - root_mean_squared_error: 0.8853 - val_loss: 98.6714 - val_root_mean_squared_error: 1.6301\n",
            "Epoch 19/300\n",
            "3/3 [==============================] - 0s 18ms/step - loss: 38.7016 - root_mean_squared_error: 0.6444 - val_loss: 98.5251 - val_root_mean_squared_error: 1.6277\n",
            "Epoch 20/300\n",
            "3/3 [==============================] - 0s 25ms/step - loss: 21.8272 - root_mean_squared_error: 0.4172 - val_loss: 98.1958 - val_root_mean_squared_error: 1.6242\n",
            "Epoch 21/300\n",
            "3/3 [==============================] - 0s 18ms/step - loss: 23.5086 - root_mean_squared_error: 0.4008 - val_loss: 98.2741 - val_root_mean_squared_error: 1.6233\n",
            "Epoch 22/300\n",
            "3/3 [==============================] - 0s 17ms/step - loss: 30.9431 - root_mean_squared_error: 0.5866 - val_loss: 98.2542 - val_root_mean_squared_error: 1.6244\n",
            "Epoch 23/300\n",
            "3/3 [==============================] - 0s 19ms/step - loss: 21.8832 - root_mean_squared_error: 0.3767 - val_loss: 98.4188 - val_root_mean_squared_error: 1.6268\n",
            "Epoch 24/300\n",
            "3/3 [==============================] - 0s 17ms/step - loss: 18.7479 - root_mean_squared_error: 0.3652 - val_loss: 98.5294 - val_root_mean_squared_error: 1.6275\n",
            "Epoch 25/300\n",
            "3/3 [==============================] - 0s 17ms/step - loss: 19.2153 - root_mean_squared_error: 0.3957 - val_loss: 98.4205 - val_root_mean_squared_error: 1.6262\n",
            "Epoch 26/300\n",
            "3/3 [==============================] - 0s 19ms/step - loss: 16.6278 - root_mean_squared_error: 0.3161 - val_loss: 98.4512 - val_root_mean_squared_error: 1.6256\n",
            "Epoch 27/300\n",
            "3/3 [==============================] - 0s 16ms/step - loss: 15.9241 - root_mean_squared_error: 0.3008 - val_loss: 98.4017 - val_root_mean_squared_error: 1.6257\n",
            "Epoch 28/300\n",
            "3/3 [==============================] - 0s 22ms/step - loss: 13.9927 - root_mean_squared_error: 0.2863 - val_loss: 98.4854 - val_root_mean_squared_error: 1.6261\n",
            "Epoch 29/300\n",
            "3/3 [==============================] - 0s 16ms/step - loss: 16.0767 - root_mean_squared_error: 0.3154 - val_loss: 98.4828 - val_root_mean_squared_error: 1.6262\n",
            "Epoch 30/300\n",
            "3/3 [==============================] - 0s 19ms/step - loss: 14.5498 - root_mean_squared_error: 0.2858 - val_loss: 98.4552 - val_root_mean_squared_error: 1.6263\n",
            "Epoch 31/300\n",
            "3/3 [==============================] - 0s 17ms/step - loss: 12.6399 - root_mean_squared_error: 0.2869 - val_loss: 98.4853 - val_root_mean_squared_error: 1.6264\n",
            "Epoch 32/300\n",
            "3/3 [==============================] - 0s 26ms/step - loss: 12.5645 - root_mean_squared_error: 0.2690 - val_loss: 98.4580 - val_root_mean_squared_error: 1.6256\n",
            "Epoch 33/300\n",
            "3/3 [==============================] - 0s 27ms/step - loss: 12.3010 - root_mean_squared_error: 0.2634 - val_loss: 98.4392 - val_root_mean_squared_error: 1.6260\n",
            "Epoch 34/300\n",
            "3/3 [==============================] - 0s 19ms/step - loss: 12.4259 - root_mean_squared_error: 0.2701 - val_loss: 98.4725 - val_root_mean_squared_error: 1.6262\n",
            "Epoch 35/300\n",
            "3/3 [==============================] - 0s 19ms/step - loss: 11.3725 - root_mean_squared_error: 0.2576 - val_loss: 98.4438 - val_root_mean_squared_error: 1.6258\n",
            "Epoch 36/300\n",
            "3/3 [==============================] - 0s 19ms/step - loss: 11.6544 - root_mean_squared_error: 0.2607 - val_loss: 98.4851 - val_root_mean_squared_error: 1.6263\n",
            "Epoch 37/300\n",
            "3/3 [==============================] - 0s 17ms/step - loss: 12.7905 - root_mean_squared_error: 0.2812 - val_loss: 98.4481 - val_root_mean_squared_error: 1.6263\n",
            "Epoch 38/300\n",
            "3/3 [==============================] - 0s 16ms/step - loss: 12.3182 - root_mean_squared_error: 0.2747 - val_loss: 98.4553 - val_root_mean_squared_error: 1.6258\n",
            "Epoch 39/300\n",
            "3/3 [==============================] - 0s 19ms/step - loss: 11.4888 - root_mean_squared_error: 0.2534 - val_loss: 98.4529 - val_root_mean_squared_error: 1.6259\n",
            "Epoch 40/300\n",
            "3/3 [==============================] - 0s 17ms/step - loss: 10.9162 - root_mean_squared_error: 0.2560 - val_loss: 98.4482 - val_root_mean_squared_error: 1.6264\n",
            "Epoch 41/300\n",
            "3/3 [==============================] - 0s 18ms/step - loss: 10.6775 - root_mean_squared_error: 0.2641 - val_loss: 98.4886 - val_root_mean_squared_error: 1.6265\n",
            "Epoch 42/300\n",
            "3/3 [==============================] - 0s 17ms/step - loss: 12.4787 - root_mean_squared_error: 0.2707 - val_loss: 98.4090 - val_root_mean_squared_error: 1.6256\n",
            "Epoch 43/300\n",
            "3/3 [==============================] - 0s 17ms/step - loss: 12.3738 - root_mean_squared_error: 0.2703 - val_loss: 98.3784 - val_root_mean_squared_error: 1.6257\n",
            "Epoch 44/300\n",
            "3/3 [==============================] - 0s 18ms/step - loss: 15.9970 - root_mean_squared_error: 0.2996 - val_loss: 98.4973 - val_root_mean_squared_error: 1.6263\n",
            "Epoch 45/300\n",
            "3/3 [==============================] - 0s 19ms/step - loss: 12.9872 - root_mean_squared_error: 0.2767 - val_loss: 98.4582 - val_root_mean_squared_error: 1.6262\n",
            "Epoch 46/300\n",
            "3/3 [==============================] - 0s 21ms/step - loss: 11.9250 - root_mean_squared_error: 0.2576 - val_loss: 98.4493 - val_root_mean_squared_error: 1.6259\n",
            "Epoch 47/300\n",
            "3/3 [==============================] - 0s 18ms/step - loss: 12.5079 - root_mean_squared_error: 0.2592 - val_loss: 98.4764 - val_root_mean_squared_error: 1.6260\n",
            "Epoch 48/300\n",
            "3/3 [==============================] - 0s 17ms/step - loss: 13.7390 - root_mean_squared_error: 0.2835 - val_loss: 98.4117 - val_root_mean_squared_error: 1.6261\n",
            "Epoch 49/300\n",
            "3/3 [==============================] - 0s 22ms/step - loss: 13.2362 - root_mean_squared_error: 0.2864 - val_loss: 98.4647 - val_root_mean_squared_error: 1.6263\n",
            "Epoch 50/300\n",
            "3/3 [==============================] - 0s 16ms/step - loss: 11.8416 - root_mean_squared_error: 0.2916 - val_loss: 98.5237 - val_root_mean_squared_error: 1.6271\n",
            "Epoch 51/300\n",
            "3/3 [==============================] - 0s 18ms/step - loss: 11.2111 - root_mean_squared_error: 0.2666 - val_loss: 98.4403 - val_root_mean_squared_error: 1.6260\n",
            "Epoch 52/300\n",
            "3/3 [==============================] - 0s 21ms/step - loss: 11.0170 - root_mean_squared_error: 0.2498 - val_loss: 98.4719 - val_root_mean_squared_error: 1.6263\n",
            "Epoch 53/300\n",
            "3/3 [==============================] - 0s 17ms/step - loss: 11.2499 - root_mean_squared_error: 0.2784 - val_loss: 98.5633 - val_root_mean_squared_error: 1.6272\n",
            "Epoch 54/300\n",
            "3/3 [==============================] - 0s 17ms/step - loss: 17.7761 - root_mean_squared_error: 0.3231 - val_loss: 98.4485 - val_root_mean_squared_error: 1.6264\n",
            "Epoch 55/300\n",
            "3/3 [==============================] - 0s 18ms/step - loss: 11.3665 - root_mean_squared_error: 0.2596 - val_loss: 98.4362 - val_root_mean_squared_error: 1.6257\n",
            "Epoch 56/300\n",
            "3/3 [==============================] - 0s 18ms/step - loss: 10.6956 - root_mean_squared_error: 0.2467 - val_loss: 98.5111 - val_root_mean_squared_error: 1.6267\n",
            "Epoch 57/300\n",
            "3/3 [==============================] - 0s 17ms/step - loss: 11.8226 - root_mean_squared_error: 0.2663 - val_loss: 98.4341 - val_root_mean_squared_error: 1.6267\n",
            "Epoch 58/300\n",
            "3/3 [==============================] - 0s 17ms/step - loss: 12.6876 - root_mean_squared_error: 0.2810 - val_loss: 98.4563 - val_root_mean_squared_error: 1.6263\n",
            "Epoch 59/300\n",
            "3/3 [==============================] - 0s 19ms/step - loss: 13.0058 - root_mean_squared_error: 0.2644 - val_loss: 98.4843 - val_root_mean_squared_error: 1.6268\n",
            "Epoch 60/300\n",
            "3/3 [==============================] - 0s 17ms/step - loss: 11.3560 - root_mean_squared_error: 0.2758 - val_loss: 98.5102 - val_root_mean_squared_error: 1.6271\n",
            "Epoch 61/300\n",
            "3/3 [==============================] - 0s 18ms/step - loss: 10.1223 - root_mean_squared_error: 0.2529 - val_loss: 98.4405 - val_root_mean_squared_error: 1.6255\n",
            "Epoch 62/300\n",
            "3/3 [==============================] - 0s 18ms/step - loss: 13.0874 - root_mean_squared_error: 0.2750 - val_loss: 98.4508 - val_root_mean_squared_error: 1.6261\n",
            "Epoch 63/300\n",
            "3/3 [==============================] - 0s 17ms/step - loss: 10.1223 - root_mean_squared_error: 0.2439 - val_loss: 98.4817 - val_root_mean_squared_error: 1.6272\n",
            "Epoch 64/300\n",
            "3/3 [==============================] - 0s 18ms/step - loss: 13.6208 - root_mean_squared_error: 0.3016 - val_loss: 98.5293 - val_root_mean_squared_error: 1.6267\n",
            "Epoch 65/300\n",
            "3/3 [==============================] - 0s 17ms/step - loss: 14.9373 - root_mean_squared_error: 0.2951 - val_loss: 98.3831 - val_root_mean_squared_error: 1.6259\n",
            "Epoch 66/300\n",
            "3/3 [==============================] - 0s 20ms/step - loss: 16.2348 - root_mean_squared_error: 0.2954 - val_loss: 98.4218 - val_root_mean_squared_error: 1.6258\n",
            "Epoch 67/300\n",
            "3/3 [==============================] - 0s 18ms/step - loss: 15.3064 - root_mean_squared_error: 0.2807 - val_loss: 98.5384 - val_root_mean_squared_error: 1.6268\n",
            "Epoch 68/300\n",
            "3/3 [==============================] - 0s 18ms/step - loss: 18.4605 - root_mean_squared_error: 0.3315 - val_loss: 98.5129 - val_root_mean_squared_error: 1.6277\n",
            "Epoch 69/300\n",
            "3/3 [==============================] - 0s 16ms/step - loss: 14.4618 - root_mean_squared_error: 0.3264 - val_loss: 98.5163 - val_root_mean_squared_error: 1.6265\n",
            "Epoch 70/300\n",
            "3/3 [==============================] - 0s 29ms/step - loss: 14.0675 - root_mean_squared_error: 0.2823 - val_loss: 98.4710 - val_root_mean_squared_error: 1.6262\n",
            "Epoch 71/300\n",
            "3/3 [==============================] - 0s 17ms/step - loss: 14.9654 - root_mean_squared_error: 0.2771 - val_loss: 98.5359 - val_root_mean_squared_error: 1.6278\n",
            "Epoch 72/300\n",
            "3/3 [==============================] - 0s 17ms/step - loss: 16.4598 - root_mean_squared_error: 0.3627 - val_loss: 98.5639 - val_root_mean_squared_error: 1.6277\n",
            "Epoch 73/300\n",
            "3/3 [==============================] - 0s 17ms/step - loss: 11.5548 - root_mean_squared_error: 0.2585 - val_loss: 98.4313 - val_root_mean_squared_error: 1.6258\n",
            "Epoch 74/300\n",
            "3/3 [==============================] - 0s 17ms/step - loss: 14.8316 - root_mean_squared_error: 0.2882 - val_loss: 98.4416 - val_root_mean_squared_error: 1.6264\n",
            "Epoch 75/300\n",
            "3/3 [==============================] - 0s 17ms/step - loss: 13.7208 - root_mean_squared_error: 0.2742 - val_loss: 98.5504 - val_root_mean_squared_error: 1.6274\n",
            "Epoch 76/300\n",
            "3/3 [==============================] - 0s 23ms/step - loss: 13.0243 - root_mean_squared_error: 0.2784 - val_loss: 98.5182 - val_root_mean_squared_error: 1.6269\n",
            "Epoch 77/300\n",
            "3/3 [==============================] - 0s 18ms/step - loss: 11.6531 - root_mean_squared_error: 0.2504 - val_loss: 98.4737 - val_root_mean_squared_error: 1.6267\n",
            "Epoch 78/300\n",
            "3/3 [==============================] - 0s 17ms/step - loss: 11.3619 - root_mean_squared_error: 0.2498 - val_loss: 98.4839 - val_root_mean_squared_error: 1.6273\n",
            "Epoch 79/300\n",
            "3/3 [==============================] - 0s 19ms/step - loss: 12.7044 - root_mean_squared_error: 0.2787 - val_loss: 98.5468 - val_root_mean_squared_error: 1.6273\n",
            "Epoch 80/300\n",
            "3/3 [==============================] - 0s 18ms/step - loss: 14.0453 - root_mean_squared_error: 0.2839 - val_loss: 98.4695 - val_root_mean_squared_error: 1.6264\n",
            "Epoch 81/300\n",
            "3/3 [==============================] - 0s 18ms/step - loss: 13.1751 - root_mean_squared_error: 0.2654 - val_loss: 98.4888 - val_root_mean_squared_error: 1.6270\n",
            "Epoch 82/300\n",
            "3/3 [==============================] - 0s 17ms/step - loss: 9.9153 - root_mean_squared_error: 0.2461 - val_loss: 98.5724 - val_root_mean_squared_error: 1.6282\n",
            "Epoch 83/300\n",
            "3/3 [==============================] - 0s 17ms/step - loss: 11.6089 - root_mean_squared_error: 0.2762 - val_loss: 98.4975 - val_root_mean_squared_error: 1.6268\n",
            "Epoch 84/300\n",
            "3/3 [==============================] - 0s 18ms/step - loss: 11.5791 - root_mean_squared_error: 0.2428 - val_loss: 98.4816 - val_root_mean_squared_error: 1.6267\n",
            "Epoch 85/300\n",
            "3/3 [==============================] - 0s 19ms/step - loss: 9.9589 - root_mean_squared_error: 0.2488 - val_loss: 98.5489 - val_root_mean_squared_error: 1.6285\n",
            "Epoch 86/300\n",
            "3/3 [==============================] - 0s 18ms/step - loss: 12.4251 - root_mean_squared_error: 0.3078 - val_loss: 98.5018 - val_root_mean_squared_error: 1.6278\n",
            "Epoch 87/300\n",
            "3/3 [==============================] - 0s 17ms/step - loss: 12.2836 - root_mean_squared_error: 0.2597 - val_loss: 98.4861 - val_root_mean_squared_error: 1.6266\n",
            "Epoch 88/300\n",
            "3/3 [==============================] - 0s 27ms/step - loss: 15.0962 - root_mean_squared_error: 0.2813 - val_loss: 98.4786 - val_root_mean_squared_error: 1.6268\n",
            "Epoch 89/300\n",
            "3/3 [==============================] - 0s 17ms/step - loss: 12.0669 - root_mean_squared_error: 0.2488 - val_loss: 98.5209 - val_root_mean_squared_error: 1.6281\n",
            "Epoch 90/300\n",
            "3/3 [==============================] - 0s 18ms/step - loss: 11.9914 - root_mean_squared_error: 0.2909 - val_loss: 98.5874 - val_root_mean_squared_error: 1.6280\n",
            "Epoch 91/300\n",
            "3/3 [==============================] - 0s 22ms/step - loss: 13.6157 - root_mean_squared_error: 0.2824 - val_loss: 98.4256 - val_root_mean_squared_error: 1.6272\n",
            "Epoch 92/300\n",
            "3/3 [==============================] - 0s 20ms/step - loss: 17.8311 - root_mean_squared_error: 0.3356 - val_loss: 98.5682 - val_root_mean_squared_error: 1.6275\n",
            "Epoch 93/300\n",
            "3/3 [==============================] - 0s 17ms/step - loss: 17.9461 - root_mean_squared_error: 0.3322 - val_loss: 98.4817 - val_root_mean_squared_error: 1.6284\n",
            "Epoch 94/300\n",
            "3/3 [==============================] - 0s 17ms/step - loss: 17.4657 - root_mean_squared_error: 0.3448 - val_loss: 98.5202 - val_root_mean_squared_error: 1.6273\n",
            "Epoch 95/300\n",
            "3/3 [==============================] - 0s 17ms/step - loss: 18.4895 - root_mean_squared_error: 0.3170 - val_loss: 98.4470 - val_root_mean_squared_error: 1.6266\n",
            "Epoch 96/300\n",
            "3/3 [==============================] - 0s 26ms/step - loss: 19.2747 - root_mean_squared_error: 0.3407 - val_loss: 98.5531 - val_root_mean_squared_error: 1.6277\n",
            "Epoch 97/300\n",
            "3/3 [==============================] - 0s 19ms/step - loss: 22.8747 - root_mean_squared_error: 0.4135 - val_loss: 98.5179 - val_root_mean_squared_error: 1.6283\n",
            "Epoch 98/300\n",
            "3/3 [==============================] - 0s 19ms/step - loss: 21.8932 - root_mean_squared_error: 0.3818 - val_loss: 98.5754 - val_root_mean_squared_error: 1.6278\n",
            "Epoch 99/300\n",
            "3/3 [==============================] - 0s 17ms/step - loss: 18.1618 - root_mean_squared_error: 0.3374 - val_loss: 98.4849 - val_root_mean_squared_error: 1.6277\n",
            "Epoch 100/300\n",
            "3/3 [==============================] - 0s 17ms/step - loss: 16.7518 - root_mean_squared_error: 0.3141 - val_loss: 98.5142 - val_root_mean_squared_error: 1.6274\n",
            "Epoch 101/300\n",
            "3/3 [==============================] - 0s 36ms/step - loss: 13.5748 - root_mean_squared_error: 0.2682 - val_loss: 98.5368 - val_root_mean_squared_error: 1.6283\n",
            "Epoch 102/300\n",
            "3/3 [==============================] - 0s 26ms/step - loss: 11.6330 - root_mean_squared_error: 0.2501 - val_loss: 98.4879 - val_root_mean_squared_error: 1.6283\n",
            "Epoch 103/300\n",
            "3/3 [==============================] - 0s 36ms/step - loss: 12.4031 - root_mean_squared_error: 0.2700 - val_loss: 98.4988 - val_root_mean_squared_error: 1.6277\n",
            "Epoch 104/300\n",
            "3/3 [==============================] - 0s 36ms/step - loss: 12.1809 - root_mean_squared_error: 0.2530 - val_loss: 98.5172 - val_root_mean_squared_error: 1.6278\n",
            "Epoch 105/300\n",
            "3/3 [==============================] - 0s 26ms/step - loss: 11.3106 - root_mean_squared_error: 0.2482 - val_loss: 98.4645 - val_root_mean_squared_error: 1.6280\n",
            "Epoch 106/300\n",
            "3/3 [==============================] - 0s 28ms/step - loss: 14.4213 - root_mean_squared_error: 0.2883 - val_loss: 98.5942 - val_root_mean_squared_error: 1.6282\n",
            "Epoch 107/300\n",
            "3/3 [==============================] - 0s 35ms/step - loss: 18.1267 - root_mean_squared_error: 0.3240 - val_loss: 98.4833 - val_root_mean_squared_error: 1.6284\n",
            "Epoch 108/300\n",
            "3/3 [==============================] - 0s 39ms/step - loss: 15.9365 - root_mean_squared_error: 0.3184 - val_loss: 98.5038 - val_root_mean_squared_error: 1.6274\n",
            "Epoch 109/300\n",
            "3/3 [==============================] - 0s 27ms/step - loss: 10.9210 - root_mean_squared_error: 0.2258 - val_loss: 98.5663 - val_root_mean_squared_error: 1.6290\n",
            "Epoch 110/300\n",
            "3/3 [==============================] - 0s 32ms/step - loss: 11.9675 - root_mean_squared_error: 0.2913 - val_loss: 98.5795 - val_root_mean_squared_error: 1.6295\n",
            "Epoch 111/300\n",
            "3/3 [==============================] - 0s 24ms/step - loss: 11.2236 - root_mean_squared_error: 0.2815 - val_loss: 98.5025 - val_root_mean_squared_error: 1.6275\n",
            "Epoch 112/300\n",
            "3/3 [==============================] - 0s 24ms/step - loss: 13.2190 - root_mean_squared_error: 0.2501 - val_loss: 98.4983 - val_root_mean_squared_error: 1.6281\n",
            "Epoch 113/300\n",
            "3/3 [==============================] - 0s 31ms/step - loss: 11.7369 - root_mean_squared_error: 0.2424 - val_loss: 98.5509 - val_root_mean_squared_error: 1.6298\n",
            "Epoch 114/300\n",
            "3/3 [==============================] - 0s 28ms/step - loss: 22.5312 - root_mean_squared_error: 0.4479 - val_loss: 98.6343 - val_root_mean_squared_error: 1.6294\n",
            "Epoch 115/300\n",
            "3/3 [==============================] - 0s 34ms/step - loss: 20.9189 - root_mean_squared_error: 0.3471 - val_loss: 98.4594 - val_root_mean_squared_error: 1.6286\n",
            "Epoch 116/300\n",
            "3/3 [==============================] - 0s 25ms/step - loss: 29.5073 - root_mean_squared_error: 0.4760 - val_loss: 98.4958 - val_root_mean_squared_error: 1.6272\n",
            "Epoch 117/300\n",
            "3/3 [==============================] - 0s 34ms/step - loss: 18.9773 - root_mean_squared_error: 0.3584 - val_loss: 98.3570 - val_root_mean_squared_error: 1.6265\n",
            "Epoch 118/300\n",
            "3/3 [==============================] - 0s 35ms/step - loss: 25.7329 - root_mean_squared_error: 0.3982 - val_loss: 98.4738 - val_root_mean_squared_error: 1.6277\n",
            "Epoch 119/300\n",
            "3/3 [==============================] - 0s 29ms/step - loss: 18.5930 - root_mean_squared_error: 0.3212 - val_loss: 98.6359 - val_root_mean_squared_error: 1.6306\n",
            "Epoch 120/300\n",
            "3/3 [==============================] - 0s 34ms/step - loss: 21.2579 - root_mean_squared_error: 0.4521 - val_loss: 98.5969 - val_root_mean_squared_error: 1.6306\n",
            "Epoch 121/300\n",
            "3/3 [==============================] - 0s 36ms/step - loss: 19.1285 - root_mean_squared_error: 0.3765 - val_loss: 98.5337 - val_root_mean_squared_error: 1.6287\n",
            "Epoch 122/300\n",
            "3/3 [==============================] - 0s 30ms/step - loss: 17.9787 - root_mean_squared_error: 0.3170 - val_loss: 98.3718 - val_root_mean_squared_error: 1.6273\n",
            "Epoch 123/300\n",
            "3/3 [==============================] - 0s 26ms/step - loss: 17.1317 - root_mean_squared_error: 0.3019 - val_loss: 98.5059 - val_root_mean_squared_error: 1.6282\n",
            "Epoch 124/300\n",
            "3/3 [==============================] - 0s 25ms/step - loss: 15.2568 - root_mean_squared_error: 0.2891 - val_loss: 98.5283 - val_root_mean_squared_error: 1.6297\n",
            "Epoch 125/300\n",
            "3/3 [==============================] - 0s 23ms/step - loss: 16.2835 - root_mean_squared_error: 0.3125 - val_loss: 98.5634 - val_root_mean_squared_error: 1.6293\n",
            "Epoch 126/300\n",
            "3/3 [==============================] - 0s 31ms/step - loss: 12.4979 - root_mean_squared_error: 0.2603 - val_loss: 98.4966 - val_root_mean_squared_error: 1.6284\n",
            "Epoch 127/300\n",
            "3/3 [==============================] - 0s 32ms/step - loss: 14.0457 - root_mean_squared_error: 0.2574 - val_loss: 98.5427 - val_root_mean_squared_error: 1.6292\n",
            "Epoch 128/300\n",
            "3/3 [==============================] - 0s 23ms/step - loss: 10.8464 - root_mean_squared_error: 0.2614 - val_loss: 98.5680 - val_root_mean_squared_error: 1.6295\n",
            "Epoch 129/300\n",
            "3/3 [==============================] - 0s 36ms/step - loss: 10.7222 - root_mean_squared_error: 0.2380 - val_loss: 98.4330 - val_root_mean_squared_error: 1.6283\n",
            "Epoch 130/300\n",
            "3/3 [==============================] - 0s 25ms/step - loss: 14.8557 - root_mean_squared_error: 0.2639 - val_loss: 98.5061 - val_root_mean_squared_error: 1.6284\n",
            "Epoch 131/300\n",
            "3/3 [==============================] - 0s 36ms/step - loss: 12.3708 - root_mean_squared_error: 0.2662 - val_loss: 98.5152 - val_root_mean_squared_error: 1.6299\n",
            "Epoch 132/300\n",
            "3/3 [==============================] - 0s 33ms/step - loss: 14.1002 - root_mean_squared_error: 0.3050 - val_loss: 98.5683 - val_root_mean_squared_error: 1.6298\n",
            "Epoch 133/300\n",
            "3/3 [==============================] - 0s 31ms/step - loss: 11.6416 - root_mean_squared_error: 0.2509 - val_loss: 98.4849 - val_root_mean_squared_error: 1.6288\n",
            "Epoch 134/300\n",
            "3/3 [==============================] - 0s 33ms/step - loss: 10.7401 - root_mean_squared_error: 0.2226 - val_loss: 98.5274 - val_root_mean_squared_error: 1.6293\n",
            "Epoch 135/300\n",
            "3/3 [==============================] - 0s 36ms/step - loss: 9.0777 - root_mean_squared_error: 0.2275 - val_loss: 98.5619 - val_root_mean_squared_error: 1.6298\n",
            "Epoch 136/300\n",
            "3/3 [==============================] - 0s 34ms/step - loss: 9.3321 - root_mean_squared_error: 0.2354 - val_loss: 98.5220 - val_root_mean_squared_error: 1.6292\n",
            "Epoch 137/300\n",
            "3/3 [==============================] - 0s 27ms/step - loss: 8.6723 - root_mean_squared_error: 0.2120 - val_loss: 98.5368 - val_root_mean_squared_error: 1.6293\n",
            "Epoch 138/300\n",
            "3/3 [==============================] - 0s 32ms/step - loss: 8.9126 - root_mean_squared_error: 0.2157 - val_loss: 98.5524 - val_root_mean_squared_error: 1.6298\n",
            "Epoch 139/300\n",
            "3/3 [==============================] - 0s 19ms/step - loss: 10.3205 - root_mean_squared_error: 0.2337 - val_loss: 98.5379 - val_root_mean_squared_error: 1.6299\n",
            "Epoch 140/300\n",
            "3/3 [==============================] - 0s 19ms/step - loss: 9.5734 - root_mean_squared_error: 0.2384 - val_loss: 98.5265 - val_root_mean_squared_error: 1.6298\n",
            "Epoch 141/300\n",
            "3/3 [==============================] - 0s 17ms/step - loss: 11.5181 - root_mean_squared_error: 0.2507 - val_loss: 98.5516 - val_root_mean_squared_error: 1.6293\n",
            "Epoch 142/300\n",
            "3/3 [==============================] - 0s 18ms/step - loss: 11.5924 - root_mean_squared_error: 0.2486 - val_loss: 98.5668 - val_root_mean_squared_error: 1.6298\n",
            "Epoch 143/300\n",
            "3/3 [==============================] - 0s 20ms/step - loss: 12.5972 - root_mean_squared_error: 0.2517 - val_loss: 98.5478 - val_root_mean_squared_error: 1.6299\n",
            "Epoch 144/300\n",
            "3/3 [==============================] - 0s 17ms/step - loss: 12.6533 - root_mean_squared_error: 0.2716 - val_loss: 98.5757 - val_root_mean_squared_error: 1.6295\n",
            "Epoch 145/300\n",
            "3/3 [==============================] - 0s 29ms/step - loss: 13.7220 - root_mean_squared_error: 0.2581 - val_loss: 98.4747 - val_root_mean_squared_error: 1.6292\n",
            "Epoch 146/300\n",
            "3/3 [==============================] - 0s 18ms/step - loss: 12.7256 - root_mean_squared_error: 0.2558 - val_loss: 98.5703 - val_root_mean_squared_error: 1.6301\n",
            "Epoch 147/300\n",
            "3/3 [==============================] - 0s 27ms/step - loss: 15.7152 - root_mean_squared_error: 0.3194 - val_loss: 98.5563 - val_root_mean_squared_error: 1.6307\n",
            "Epoch 148/300\n",
            "3/3 [==============================] - 0s 28ms/step - loss: 13.6217 - root_mean_squared_error: 0.2797 - val_loss: 98.5262 - val_root_mean_squared_error: 1.6296\n",
            "Epoch 149/300\n",
            "3/3 [==============================] - 0s 19ms/step - loss: 10.0714 - root_mean_squared_error: 0.2175 - val_loss: 98.5768 - val_root_mean_squared_error: 1.6299\n",
            "Epoch 150/300\n",
            "3/3 [==============================] - 0s 19ms/step - loss: 11.0001 - root_mean_squared_error: 0.2314 - val_loss: 98.5599 - val_root_mean_squared_error: 1.6302\n",
            "Epoch 151/300\n",
            "3/3 [==============================] - 0s 19ms/step - loss: 9.2302 - root_mean_squared_error: 0.2267 - val_loss: 98.5449 - val_root_mean_squared_error: 1.6302\n",
            "Epoch 152/300\n",
            "3/3 [==============================] - 0s 19ms/step - loss: 10.1879 - root_mean_squared_error: 0.2402 - val_loss: 98.6019 - val_root_mean_squared_error: 1.6307\n",
            "Epoch 153/300\n",
            "3/3 [==============================] - 0s 19ms/step - loss: 12.1831 - root_mean_squared_error: 0.2577 - val_loss: 98.5285 - val_root_mean_squared_error: 1.6298\n",
            "Epoch 154/300\n",
            "3/3 [==============================] - 0s 18ms/step - loss: 11.6262 - root_mean_squared_error: 0.2322 - val_loss: 98.5449 - val_root_mean_squared_error: 1.6305\n",
            "Epoch 155/300\n",
            "3/3 [==============================] - 0s 29ms/step - loss: 11.3375 - root_mean_squared_error: 0.2575 - val_loss: 98.6533 - val_root_mean_squared_error: 1.6313\n",
            "Epoch 156/300\n",
            "3/3 [==============================] - 0s 19ms/step - loss: 13.0240 - root_mean_squared_error: 0.2729 - val_loss: 98.5272 - val_root_mean_squared_error: 1.6298\n",
            "Epoch 157/300\n",
            "3/3 [==============================] - 0s 20ms/step - loss: 11.7822 - root_mean_squared_error: 0.2352 - val_loss: 98.5409 - val_root_mean_squared_error: 1.6293\n",
            "Epoch 158/300\n",
            "3/3 [==============================] - 0s 19ms/step - loss: 11.3880 - root_mean_squared_error: 0.2407 - val_loss: 98.6137 - val_root_mean_squared_error: 1.6313\n",
            "Epoch 159/300\n",
            "3/3 [==============================] - 0s 21ms/step - loss: 9.8396 - root_mean_squared_error: 0.2523 - val_loss: 98.5819 - val_root_mean_squared_error: 1.6305\n",
            "Epoch 160/300\n",
            "3/3 [==============================] - 0s 28ms/step - loss: 9.7123 - root_mean_squared_error: 0.2133 - val_loss: 98.5273 - val_root_mean_squared_error: 1.6299\n",
            "Epoch 161/300\n",
            "3/3 [==============================] - 0s 21ms/step - loss: 11.4247 - root_mean_squared_error: 0.2258 - val_loss: 98.5874 - val_root_mean_squared_error: 1.6313\n",
            "Epoch 162/300\n",
            "3/3 [==============================] - 0s 20ms/step - loss: 12.0660 - root_mean_squared_error: 0.2821 - val_loss: 98.5878 - val_root_mean_squared_error: 1.6304\n",
            "Epoch 163/300\n",
            "3/3 [==============================] - 0s 18ms/step - loss: 11.8284 - root_mean_squared_error: 0.2327 - val_loss: 98.5507 - val_root_mean_squared_error: 1.6303\n",
            "Epoch 164/300\n",
            "3/3 [==============================] - 0s 18ms/step - loss: 9.1887 - root_mean_squared_error: 0.2078 - val_loss: 98.5820 - val_root_mean_squared_error: 1.6313\n",
            "Epoch 165/300\n",
            "3/3 [==============================] - 0s 20ms/step - loss: 10.0601 - root_mean_squared_error: 0.2516 - val_loss: 98.5525 - val_root_mean_squared_error: 1.6311\n",
            "Epoch 166/300\n",
            "3/3 [==============================] - 0s 18ms/step - loss: 10.6248 - root_mean_squared_error: 0.2283 - val_loss: 98.5382 - val_root_mean_squared_error: 1.6301\n",
            "Epoch 167/300\n",
            "3/3 [==============================] - 0s 20ms/step - loss: 8.7703 - root_mean_squared_error: 0.2041 - val_loss: 98.6439 - val_root_mean_squared_error: 1.6317\n",
            "Epoch 168/300\n",
            "3/3 [==============================] - 0s 19ms/step - loss: 13.4570 - root_mean_squared_error: 0.2690 - val_loss: 98.5653 - val_root_mean_squared_error: 1.6313\n",
            "Epoch 169/300\n",
            "3/3 [==============================] - 0s 19ms/step - loss: 15.3763 - root_mean_squared_error: 0.3003 - val_loss: 98.5501 - val_root_mean_squared_error: 1.6296\n",
            "Epoch 170/300\n",
            "3/3 [==============================] - 0s 20ms/step - loss: 15.5337 - root_mean_squared_error: 0.2908 - val_loss: 98.5210 - val_root_mean_squared_error: 1.6304\n",
            "Epoch 171/300\n",
            "3/3 [==============================] - 0s 21ms/step - loss: 11.3385 - root_mean_squared_error: 0.2307 - val_loss: 98.6164 - val_root_mean_squared_error: 1.6320\n",
            "Epoch 172/300\n",
            "3/3 [==============================] - 0s 19ms/step - loss: 10.6526 - root_mean_squared_error: 0.2743 - val_loss: 98.5878 - val_root_mean_squared_error: 1.6313\n",
            "Epoch 173/300\n",
            "3/3 [==============================] - 0s 18ms/step - loss: 11.2699 - root_mean_squared_error: 0.2271 - val_loss: 98.5260 - val_root_mean_squared_error: 1.6307\n",
            "Epoch 174/300\n",
            "3/3 [==============================] - 0s 20ms/step - loss: 10.1125 - root_mean_squared_error: 0.2135 - val_loss: 98.6034 - val_root_mean_squared_error: 1.6318\n",
            "Epoch 175/300\n",
            "3/3 [==============================] - 0s 22ms/step - loss: 8.3737 - root_mean_squared_error: 0.2330 - val_loss: 98.5712 - val_root_mean_squared_error: 1.6312\n",
            "Epoch 176/300\n",
            "3/3 [==============================] - 0s 21ms/step - loss: 10.6361 - root_mean_squared_error: 0.2298 - val_loss: 98.5811 - val_root_mean_squared_error: 1.6307\n",
            "Epoch 177/300\n",
            "3/3 [==============================] - 0s 19ms/step - loss: 9.8794 - root_mean_squared_error: 0.2040 - val_loss: 98.5925 - val_root_mean_squared_error: 1.6320\n",
            "Epoch 178/300\n",
            "3/3 [==============================] - 0s 21ms/step - loss: 14.0252 - root_mean_squared_error: 0.2977 - val_loss: 98.6848 - val_root_mean_squared_error: 1.6323\n",
            "Epoch 179/300\n",
            "3/3 [==============================] - 0s 18ms/step - loss: 18.3396 - root_mean_squared_error: 0.3271 - val_loss: 98.4826 - val_root_mean_squared_error: 1.6314\n",
            "Epoch 180/300\n",
            "3/3 [==============================] - 0s 29ms/step - loss: 21.3964 - root_mean_squared_error: 0.3685 - val_loss: 98.5466 - val_root_mean_squared_error: 1.6300\n",
            "Epoch 181/300\n",
            "3/3 [==============================] - 0s 25ms/step - loss: 22.2545 - root_mean_squared_error: 0.4090 - val_loss: 98.4741 - val_root_mean_squared_error: 1.6311\n",
            "Epoch 182/300\n",
            "3/3 [==============================] - 0s 23ms/step - loss: 21.2047 - root_mean_squared_error: 0.3685 - val_loss: 98.6646 - val_root_mean_squared_error: 1.6325\n",
            "Epoch 183/300\n",
            "3/3 [==============================] - 0s 20ms/step - loss: 16.2553 - root_mean_squared_error: 0.2975 - val_loss: 98.5423 - val_root_mean_squared_error: 1.6316\n",
            "Epoch 184/300\n",
            "3/3 [==============================] - 0s 20ms/step - loss: 14.2895 - root_mean_squared_error: 0.2566 - val_loss: 98.5366 - val_root_mean_squared_error: 1.6303\n",
            "Epoch 185/300\n",
            "3/3 [==============================] - 0s 27ms/step - loss: 10.8730 - root_mean_squared_error: 0.2253 - val_loss: 98.6221 - val_root_mean_squared_error: 1.6319\n",
            "Epoch 186/300\n",
            "3/3 [==============================] - 0s 20ms/step - loss: 10.2788 - root_mean_squared_error: 0.2245 - val_loss: 98.6378 - val_root_mean_squared_error: 1.6326\n",
            "Epoch 187/300\n",
            "3/3 [==============================] - 0s 19ms/step - loss: 9.4648 - root_mean_squared_error: 0.2320 - val_loss: 98.5630 - val_root_mean_squared_error: 1.6312\n",
            "Epoch 188/300\n",
            "3/3 [==============================] - 0s 18ms/step - loss: 8.9549 - root_mean_squared_error: 0.1995 - val_loss: 98.5815 - val_root_mean_squared_error: 1.6319\n",
            "Epoch 189/300\n",
            "3/3 [==============================] - 0s 17ms/step - loss: 8.8395 - root_mean_squared_error: 0.2107 - val_loss: 98.5593 - val_root_mean_squared_error: 1.6321\n",
            "Epoch 190/300\n",
            "3/3 [==============================] - 0s 18ms/step - loss: 14.8311 - root_mean_squared_error: 0.2783 - val_loss: 98.5778 - val_root_mean_squared_error: 1.6313\n",
            "Epoch 191/300\n",
            "3/3 [==============================] - 0s 19ms/step - loss: 12.4789 - root_mean_squared_error: 0.2399 - val_loss: 98.5720 - val_root_mean_squared_error: 1.6319\n",
            "Epoch 192/300\n",
            "3/3 [==============================] - 0s 31ms/step - loss: 11.5967 - root_mean_squared_error: 0.2397 - val_loss: 98.6245 - val_root_mean_squared_error: 1.6329\n",
            "Epoch 193/300\n",
            "3/3 [==============================] - 0s 28ms/step - loss: 12.2958 - root_mean_squared_error: 0.2665 - val_loss: 98.5868 - val_root_mean_squared_error: 1.6318\n",
            "Epoch 194/300\n",
            "3/3 [==============================] - 0s 19ms/step - loss: 9.8284 - root_mean_squared_error: 0.2027 - val_loss: 98.5925 - val_root_mean_squared_error: 1.6320\n",
            "Epoch 195/300\n",
            "3/3 [==============================] - 0s 27ms/step - loss: 7.8467 - root_mean_squared_error: 0.1983 - val_loss: 98.6617 - val_root_mean_squared_error: 1.6328\n",
            "Epoch 196/300\n",
            "3/3 [==============================] - 0s 18ms/step - loss: 10.0188 - root_mean_squared_error: 0.2252 - val_loss: 98.5956 - val_root_mean_squared_error: 1.6320\n",
            "Epoch 197/300\n",
            "3/3 [==============================] - 0s 18ms/step - loss: 7.6331 - root_mean_squared_error: 0.1871 - val_loss: 98.5778 - val_root_mean_squared_error: 1.6324\n",
            "Epoch 198/300\n",
            "3/3 [==============================] - 0s 20ms/step - loss: 13.6802 - root_mean_squared_error: 0.2592 - val_loss: 98.6072 - val_root_mean_squared_error: 1.6325\n",
            "Epoch 199/300\n",
            "3/3 [==============================] - 0s 17ms/step - loss: 9.2325 - root_mean_squared_error: 0.2061 - val_loss: 98.6111 - val_root_mean_squared_error: 1.6325\n",
            "Epoch 200/300\n",
            "3/3 [==============================] - 0s 17ms/step - loss: 7.5646 - root_mean_squared_error: 0.1903 - val_loss: 98.6192 - val_root_mean_squared_error: 1.6324\n",
            "Epoch 201/300\n",
            "3/3 [==============================] - 0s 21ms/step - loss: 9.0454 - root_mean_squared_error: 0.1981 - val_loss: 98.6147 - val_root_mean_squared_error: 1.6327\n",
            "Epoch 202/300\n",
            "3/3 [==============================] - 0s 23ms/step - loss: 10.0883 - root_mean_squared_error: 0.2195 - val_loss: 98.6245 - val_root_mean_squared_error: 1.6323\n",
            "Epoch 203/300\n",
            "3/3 [==============================] - 0s 19ms/step - loss: 11.0562 - root_mean_squared_error: 0.2217 - val_loss: 98.6200 - val_root_mean_squared_error: 1.6325\n",
            "Epoch 204/300\n",
            "3/3 [==============================] - 0s 21ms/step - loss: 8.3004 - root_mean_squared_error: 0.1928 - val_loss: 98.5956 - val_root_mean_squared_error: 1.6324\n",
            "Epoch 205/300\n",
            "3/3 [==============================] - 0s 21ms/step - loss: 8.5949 - root_mean_squared_error: 0.1903 - val_loss: 98.5839 - val_root_mean_squared_error: 1.6328\n",
            "Epoch 206/300\n",
            "3/3 [==============================] - 0s 17ms/step - loss: 15.3826 - root_mean_squared_error: 0.2798 - val_loss: 98.6209 - val_root_mean_squared_error: 1.6327\n",
            "Epoch 207/300\n",
            "3/3 [==============================] - 0s 18ms/step - loss: 7.4616 - root_mean_squared_error: 0.1891 - val_loss: 98.6110 - val_root_mean_squared_error: 1.6328\n",
            "Epoch 208/300\n",
            "3/3 [==============================] - 0s 22ms/step - loss: 8.1530 - root_mean_squared_error: 0.1951 - val_loss: 98.6002 - val_root_mean_squared_error: 1.6328\n",
            "Epoch 209/300\n",
            "3/3 [==============================] - 0s 20ms/step - loss: 10.1366 - root_mean_squared_error: 0.2153 - val_loss: 98.6804 - val_root_mean_squared_error: 1.6332\n",
            "Epoch 210/300\n",
            "3/3 [==============================] - 0s 17ms/step - loss: 10.1656 - root_mean_squared_error: 0.2236 - val_loss: 98.6241 - val_root_mean_squared_error: 1.6328\n",
            "Epoch 211/300\n",
            "3/3 [==============================] - 0s 17ms/step - loss: 8.7025 - root_mean_squared_error: 0.1943 - val_loss: 98.6152 - val_root_mean_squared_error: 1.6332\n",
            "Epoch 212/300\n",
            "3/3 [==============================] - 0s 17ms/step - loss: 11.8134 - root_mean_squared_error: 0.2405 - val_loss: 98.6838 - val_root_mean_squared_error: 1.6334\n",
            "Epoch 213/300\n",
            "3/3 [==============================] - 0s 24ms/step - loss: 11.5839 - root_mean_squared_error: 0.2418 - val_loss: 98.6190 - val_root_mean_squared_error: 1.6332\n",
            "Epoch 214/300\n",
            "3/3 [==============================] - 0s 20ms/step - loss: 10.7563 - root_mean_squared_error: 0.2172 - val_loss: 98.6174 - val_root_mean_squared_error: 1.6332\n",
            "Epoch 215/300\n",
            "3/3 [==============================] - 0s 22ms/step - loss: 11.0698 - root_mean_squared_error: 0.2282 - val_loss: 98.6635 - val_root_mean_squared_error: 1.6331\n",
            "Epoch 216/300\n",
            "3/3 [==============================] - 0s 20ms/step - loss: 13.6293 - root_mean_squared_error: 0.2514 - val_loss: 98.6355 - val_root_mean_squared_error: 1.6323\n",
            "Epoch 217/300\n",
            "3/3 [==============================] - 0s 20ms/step - loss: 14.1948 - root_mean_squared_error: 0.2589 - val_loss: 98.6136 - val_root_mean_squared_error: 1.6328\n",
            "Epoch 218/300\n",
            "3/3 [==============================] - 0s 20ms/step - loss: 10.7606 - root_mean_squared_error: 0.2233 - val_loss: 98.7318 - val_root_mean_squared_error: 1.6345\n",
            "Epoch 219/300\n",
            "3/3 [==============================] - 0s 18ms/step - loss: 11.5472 - root_mean_squared_error: 0.2553 - val_loss: 98.6199 - val_root_mean_squared_error: 1.6330\n",
            "Epoch 220/300\n",
            "3/3 [==============================] - 0s 19ms/step - loss: 11.5064 - root_mean_squared_error: 0.2174 - val_loss: 98.5963 - val_root_mean_squared_error: 1.6327\n",
            "Epoch 221/300\n",
            "3/3 [==============================] - 0s 18ms/step - loss: 11.6418 - root_mean_squared_error: 0.2197 - val_loss: 98.6978 - val_root_mean_squared_error: 1.6342\n",
            "Epoch 222/300\n",
            "3/3 [==============================] - 0s 21ms/step - loss: 9.4073 - root_mean_squared_error: 0.2208 - val_loss: 98.6423 - val_root_mean_squared_error: 1.6336\n",
            "Epoch 223/300\n",
            "3/3 [==============================] - 0s 20ms/step - loss: 9.4576 - root_mean_squared_error: 0.2053 - val_loss: 98.5889 - val_root_mean_squared_error: 1.6326\n",
            "Epoch 224/300\n",
            "3/3 [==============================] - 0s 24ms/step - loss: 14.2099 - root_mean_squared_error: 0.2487 - val_loss: 98.6822 - val_root_mean_squared_error: 1.6335\n",
            "Epoch 225/300\n",
            "3/3 [==============================] - 0s 20ms/step - loss: 11.0554 - root_mean_squared_error: 0.2213 - val_loss: 98.6881 - val_root_mean_squared_error: 1.6343\n",
            "Epoch 226/300\n",
            "3/3 [==============================] - 0s 18ms/step - loss: 8.9573 - root_mean_squared_error: 0.2137 - val_loss: 98.6255 - val_root_mean_squared_error: 1.6333\n",
            "Epoch 227/300\n",
            "3/3 [==============================] - 0s 23ms/step - loss: 8.6812 - root_mean_squared_error: 0.1897 - val_loss: 98.6662 - val_root_mean_squared_error: 1.6342\n",
            "Epoch 228/300\n",
            "3/3 [==============================] - 0s 19ms/step - loss: 10.1055 - root_mean_squared_error: 0.2243 - val_loss: 98.6661 - val_root_mean_squared_error: 1.6335\n",
            "Epoch 229/300\n",
            "3/3 [==============================] - 0s 18ms/step - loss: 11.0130 - root_mean_squared_error: 0.2058 - val_loss: 98.6376 - val_root_mean_squared_error: 1.6335\n",
            "Epoch 230/300\n",
            "3/3 [==============================] - 0s 29ms/step - loss: 10.2507 - root_mean_squared_error: 0.2059 - val_loss: 98.7056 - val_root_mean_squared_error: 1.6350\n",
            "Epoch 231/300\n",
            "3/3 [==============================] - 0s 19ms/step - loss: 13.1375 - root_mean_squared_error: 0.2910 - val_loss: 98.7214 - val_root_mean_squared_error: 1.6342\n",
            "Epoch 232/300\n",
            "3/3 [==============================] - 0s 23ms/step - loss: 11.4310 - root_mean_squared_error: 0.2202 - val_loss: 98.6541 - val_root_mean_squared_error: 1.6337\n",
            "Epoch 233/300\n",
            "3/3 [==============================] - 0s 20ms/step - loss: 10.3130 - root_mean_squared_error: 0.1990 - val_loss: 98.6646 - val_root_mean_squared_error: 1.6344\n",
            "Epoch 234/300\n",
            "3/3 [==============================] - 0s 20ms/step - loss: 12.1731 - root_mean_squared_error: 0.2503 - val_loss: 98.7039 - val_root_mean_squared_error: 1.6342\n",
            "Epoch 235/300\n",
            "3/3 [==============================] - 0s 19ms/step - loss: 11.0206 - root_mean_squared_error: 0.2243 - val_loss: 98.6833 - val_root_mean_squared_error: 1.6341\n",
            "Epoch 236/300\n",
            "3/3 [==============================] - 0s 22ms/step - loss: 9.0183 - root_mean_squared_error: 0.1908 - val_loss: 98.6571 - val_root_mean_squared_error: 1.6342\n",
            "Epoch 237/300\n",
            "3/3 [==============================] - 0s 18ms/step - loss: 9.4293 - root_mean_squared_error: 0.1990 - val_loss: 98.6537 - val_root_mean_squared_error: 1.6344\n",
            "Epoch 238/300\n",
            "3/3 [==============================] - 0s 18ms/step - loss: 9.8997 - root_mean_squared_error: 0.2053 - val_loss: 98.7224 - val_root_mean_squared_error: 1.6346\n",
            "Epoch 239/300\n",
            "3/3 [==============================] - 0s 28ms/step - loss: 10.1599 - root_mean_squared_error: 0.2202 - val_loss: 98.7284 - val_root_mean_squared_error: 1.6346\n",
            "Epoch 240/300\n",
            "3/3 [==============================] - 0s 20ms/step - loss: 11.3537 - root_mean_squared_error: 0.2120 - val_loss: 98.6387 - val_root_mean_squared_error: 1.6340\n",
            "Epoch 241/300\n",
            "3/3 [==============================] - 0s 19ms/step - loss: 12.2826 - root_mean_squared_error: 0.2331 - val_loss: 98.6786 - val_root_mean_squared_error: 1.6344\n",
            "Epoch 242/300\n",
            "3/3 [==============================] - 0s 22ms/step - loss: 9.7062 - root_mean_squared_error: 0.2132 - val_loss: 98.7776 - val_root_mean_squared_error: 1.6351\n",
            "Epoch 243/300\n",
            "3/3 [==============================] - 0s 18ms/step - loss: 27.0475 - root_mean_squared_error: 0.4062 - val_loss: 98.7133 - val_root_mean_squared_error: 1.6356\n",
            "Epoch 244/300\n",
            "3/3 [==============================] - 0s 19ms/step - loss: 13.7205 - root_mean_squared_error: 0.2835 - val_loss: 98.7257 - val_root_mean_squared_error: 1.6342\n",
            "Epoch 245/300\n",
            "3/3 [==============================] - 0s 19ms/step - loss: 28.2848 - root_mean_squared_error: 0.4347 - val_loss: 98.5961 - val_root_mean_squared_error: 1.6335\n",
            "Epoch 246/300\n",
            "3/3 [==============================] - 0s 19ms/step - loss: 22.1463 - root_mean_squared_error: 0.3567 - val_loss: 98.6782 - val_root_mean_squared_error: 1.6345\n",
            "Epoch 247/300\n",
            "3/3 [==============================] - 0s 18ms/step - loss: 16.1072 - root_mean_squared_error: 0.2897 - val_loss: 98.7419 - val_root_mean_squared_error: 1.6353\n",
            "Epoch 248/300\n",
            "3/3 [==============================] - 0s 21ms/step - loss: 18.4165 - root_mean_squared_error: 0.3447 - val_loss: 98.6426 - val_root_mean_squared_error: 1.6351\n",
            "Epoch 249/300\n",
            "3/3 [==============================] - 0s 18ms/step - loss: 17.0537 - root_mean_squared_error: 0.2973 - val_loss: 98.6800 - val_root_mean_squared_error: 1.6343\n",
            "Epoch 250/300\n",
            "3/3 [==============================] - 0s 18ms/step - loss: 15.4564 - root_mean_squared_error: 0.2722 - val_loss: 98.6028 - val_root_mean_squared_error: 1.6345\n",
            "Epoch 251/300\n",
            "3/3 [==============================] - 0s 21ms/step - loss: 14.7816 - root_mean_squared_error: 0.2525 - val_loss: 98.6683 - val_root_mean_squared_error: 1.6349\n",
            "Epoch 252/300\n",
            "3/3 [==============================] - 0s 27ms/step - loss: 16.0377 - root_mean_squared_error: 0.2873 - val_loss: 98.6557 - val_root_mean_squared_error: 1.6350\n",
            "Epoch 253/300\n",
            "3/3 [==============================] - 0s 19ms/step - loss: 15.5259 - root_mean_squared_error: 0.2790 - val_loss: 98.6557 - val_root_mean_squared_error: 1.6346\n",
            "Epoch 254/300\n",
            "3/3 [==============================] - 0s 22ms/step - loss: 14.1013 - root_mean_squared_error: 0.2544 - val_loss: 98.6570 - val_root_mean_squared_error: 1.6348\n",
            "Epoch 255/300\n",
            "3/3 [==============================] - 0s 19ms/step - loss: 15.6946 - root_mean_squared_error: 0.2829 - val_loss: 98.7101 - val_root_mean_squared_error: 1.6350\n",
            "Epoch 256/300\n",
            "3/3 [==============================] - 0s 19ms/step - loss: 14.9565 - root_mean_squared_error: 0.2685 - val_loss: 98.6355 - val_root_mean_squared_error: 1.6348\n",
            "Epoch 257/300\n",
            "3/3 [==============================] - 0s 20ms/step - loss: 15.9246 - root_mean_squared_error: 0.2724 - val_loss: 98.6687 - val_root_mean_squared_error: 1.6345\n",
            "Epoch 258/300\n",
            "3/3 [==============================] - 0s 27ms/step - loss: 14.2519 - root_mean_squared_error: 0.2472 - val_loss: 98.6514 - val_root_mean_squared_error: 1.6348\n",
            "Epoch 259/300\n",
            "3/3 [==============================] - 0s 22ms/step - loss: 14.5177 - root_mean_squared_error: 0.2499 - val_loss: 98.6939 - val_root_mean_squared_error: 1.6355\n",
            "Epoch 260/300\n",
            "3/3 [==============================] - 0s 17ms/step - loss: 13.1610 - root_mean_squared_error: 0.2496 - val_loss: 98.6967 - val_root_mean_squared_error: 1.6353\n",
            "Epoch 261/300\n",
            "3/3 [==============================] - 0s 21ms/step - loss: 13.9116 - root_mean_squared_error: 0.2397 - val_loss: 98.6054 - val_root_mean_squared_error: 1.6351\n",
            "Epoch 262/300\n",
            "3/3 [==============================] - 0s 20ms/step - loss: 17.2695 - root_mean_squared_error: 0.2849 - val_loss: 98.6789 - val_root_mean_squared_error: 1.6351\n",
            "Epoch 263/300\n",
            "3/3 [==============================] - 0s 18ms/step - loss: 14.4202 - root_mean_squared_error: 0.2473 - val_loss: 98.6612 - val_root_mean_squared_error: 1.6360\n",
            "Epoch 264/300\n",
            "3/3 [==============================] - 0s 19ms/step - loss: 12.4127 - root_mean_squared_error: 0.2384 - val_loss: 98.6668 - val_root_mean_squared_error: 1.6354\n",
            "Epoch 265/300\n",
            "3/3 [==============================] - 0s 18ms/step - loss: 10.2191 - root_mean_squared_error: 0.1927 - val_loss: 98.6634 - val_root_mean_squared_error: 1.6348\n",
            "Epoch 266/300\n",
            "3/3 [==============================] - 0s 19ms/step - loss: 11.0089 - root_mean_squared_error: 0.2006 - val_loss: 98.7023 - val_root_mean_squared_error: 1.6360\n",
            "Epoch 267/300\n",
            "3/3 [==============================] - 0s 23ms/step - loss: 8.7798 - root_mean_squared_error: 0.1991 - val_loss: 98.6973 - val_root_mean_squared_error: 1.6357\n",
            "Epoch 268/300\n",
            "3/3 [==============================] - 0s 19ms/step - loss: 8.6420 - root_mean_squared_error: 0.1723 - val_loss: 98.6703 - val_root_mean_squared_error: 1.6352\n",
            "Epoch 269/300\n",
            "3/3 [==============================] - 0s 21ms/step - loss: 7.8817 - root_mean_squared_error: 0.1706 - val_loss: 98.6989 - val_root_mean_squared_error: 1.6363\n",
            "Epoch 270/300\n",
            "3/3 [==============================] - 0s 19ms/step - loss: 8.1638 - root_mean_squared_error: 0.1936 - val_loss: 98.6498 - val_root_mean_squared_error: 1.6355\n",
            "Epoch 271/300\n",
            "3/3 [==============================] - 0s 23ms/step - loss: 8.7115 - root_mean_squared_error: 0.1686 - val_loss: 98.6900 - val_root_mean_squared_error: 1.6357\n",
            "Epoch 272/300\n",
            "3/3 [==============================] - 0s 19ms/step - loss: 8.9300 - root_mean_squared_error: 0.1919 - val_loss: 98.7420 - val_root_mean_squared_error: 1.6364\n",
            "Epoch 273/300\n",
            "3/3 [==============================] - 0s 20ms/step - loss: 13.3580 - root_mean_squared_error: 0.2304 - val_loss: 98.6628 - val_root_mean_squared_error: 1.6361\n",
            "Epoch 274/300\n",
            "3/3 [==============================] - 0s 21ms/step - loss: 10.2501 - root_mean_squared_error: 0.2031 - val_loss: 98.7178 - val_root_mean_squared_error: 1.6358\n",
            "Epoch 275/300\n",
            "3/3 [==============================] - 0s 20ms/step - loss: 11.6979 - root_mean_squared_error: 0.2154 - val_loss: 98.6795 - val_root_mean_squared_error: 1.6361\n",
            "Epoch 276/300\n",
            "3/3 [==============================] - 0s 19ms/step - loss: 9.8711 - root_mean_squared_error: 0.1924 - val_loss: 98.6922 - val_root_mean_squared_error: 1.6365\n",
            "Epoch 277/300\n",
            "3/3 [==============================] - 0s 24ms/step - loss: 9.5658 - root_mean_squared_error: 0.2015 - val_loss: 98.7016 - val_root_mean_squared_error: 1.6361\n",
            "Epoch 278/300\n",
            "3/3 [==============================] - 0s 19ms/step - loss: 10.0577 - root_mean_squared_error: 0.1902 - val_loss: 98.7058 - val_root_mean_squared_error: 1.6361\n",
            "Epoch 279/300\n",
            "3/3 [==============================] - 0s 19ms/step - loss: 8.7344 - root_mean_squared_error: 0.1682 - val_loss: 98.7146 - val_root_mean_squared_error: 1.6366\n",
            "Epoch 280/300\n",
            "3/3 [==============================] - 0s 31ms/step - loss: 6.4731 - root_mean_squared_error: 0.1593 - val_loss: 98.7217 - val_root_mean_squared_error: 1.6365\n",
            "Epoch 281/300\n",
            "3/3 [==============================] - 0s 18ms/step - loss: 8.7465 - root_mean_squared_error: 0.1779 - val_loss: 98.6838 - val_root_mean_squared_error: 1.6364\n",
            "Epoch 282/300\n",
            "3/3 [==============================] - 0s 19ms/step - loss: 9.2359 - root_mean_squared_error: 0.1816 - val_loss: 98.7136 - val_root_mean_squared_error: 1.6371\n",
            "Epoch 283/300\n",
            "3/3 [==============================] - 0s 19ms/step - loss: 7.4022 - root_mean_squared_error: 0.1810 - val_loss: 98.6864 - val_root_mean_squared_error: 1.6363\n",
            "Epoch 284/300\n",
            "3/3 [==============================] - 0s 21ms/step - loss: 6.9540 - root_mean_squared_error: 0.1495 - val_loss: 98.7302 - val_root_mean_squared_error: 1.6366\n",
            "Epoch 285/300\n",
            "3/3 [==============================] - 0s 21ms/step - loss: 9.0498 - root_mean_squared_error: 0.1862 - val_loss: 98.7574 - val_root_mean_squared_error: 1.6376\n",
            "Epoch 286/300\n",
            "3/3 [==============================] - 0s 22ms/step - loss: 8.0329 - root_mean_squared_error: 0.1784 - val_loss: 98.6275 - val_root_mean_squared_error: 1.6359\n",
            "Epoch 287/300\n",
            "3/3 [==============================] - 0s 20ms/step - loss: 13.9717 - root_mean_squared_error: 0.2243 - val_loss: 98.7264 - val_root_mean_squared_error: 1.6364\n",
            "Epoch 288/300\n",
            "3/3 [==============================] - 0s 23ms/step - loss: 15.7185 - root_mean_squared_error: 0.2587 - val_loss: 98.6841 - val_root_mean_squared_error: 1.6375\n",
            "Epoch 289/300\n",
            "3/3 [==============================] - 0s 27ms/step - loss: 15.1588 - root_mean_squared_error: 0.2733 - val_loss: 98.7417 - val_root_mean_squared_error: 1.6371\n",
            "Epoch 290/300\n",
            "3/3 [==============================] - 0s 22ms/step - loss: 10.4301 - root_mean_squared_error: 0.2022 - val_loss: 98.7013 - val_root_mean_squared_error: 1.6369\n",
            "Epoch 291/300\n",
            "3/3 [==============================] - 0s 22ms/step - loss: 10.7085 - root_mean_squared_error: 0.1946 - val_loss: 98.6990 - val_root_mean_squared_error: 1.6372\n",
            "Epoch 292/300\n",
            "3/3 [==============================] - 0s 20ms/step - loss: 10.6610 - root_mean_squared_error: 0.2140 - val_loss: 98.7654 - val_root_mean_squared_error: 1.6369\n",
            "Epoch 293/300\n",
            "3/3 [==============================] - 0s 21ms/step - loss: 15.0326 - root_mean_squared_error: 0.2491 - val_loss: 98.6879 - val_root_mean_squared_error: 1.6373\n",
            "Epoch 294/300\n",
            "3/3 [==============================] - 0s 20ms/step - loss: 14.5770 - root_mean_squared_error: 0.2751 - val_loss: 98.7637 - val_root_mean_squared_error: 1.6370\n",
            "Epoch 295/300\n",
            "3/3 [==============================] - 0s 21ms/step - loss: 16.0743 - root_mean_squared_error: 0.2630 - val_loss: 98.6727 - val_root_mean_squared_error: 1.6376\n",
            "Epoch 296/300\n",
            "3/3 [==============================] - 0s 29ms/step - loss: 17.4280 - root_mean_squared_error: 0.2867 - val_loss: 98.7038 - val_root_mean_squared_error: 1.6366\n",
            "Epoch 297/300\n",
            "3/3 [==============================] - 0s 21ms/step - loss: 10.1283 - root_mean_squared_error: 0.1960 - val_loss: 98.6565 - val_root_mean_squared_error: 1.6370\n",
            "Epoch 298/300\n",
            "3/3 [==============================] - 0s 22ms/step - loss: 9.3474 - root_mean_squared_error: 0.1750 - val_loss: 98.7424 - val_root_mean_squared_error: 1.6381\n",
            "Epoch 299/300\n",
            "3/3 [==============================] - 0s 21ms/step - loss: 8.9275 - root_mean_squared_error: 0.1898 - val_loss: 98.7304 - val_root_mean_squared_error: 1.6373\n",
            "Epoch 300/300\n",
            "3/3 [==============================] - 0s 22ms/step - loss: 12.3403 - root_mean_squared_error: 0.2180 - val_loss: 98.6646 - val_root_mean_squared_error: 1.6373\n",
            "CPU times: user 15.1 s, sys: 571 ms, total: 15.7 s\n",
            "Wall time: 17.6 s\n"
          ]
        }
      ]
    },
    {
      "cell_type": "code",
      "source": [
        "y_pred = model_1.predict(X_test)"
      ],
      "metadata": {
        "colab": {
          "base_uri": "https://localhost:8080/"
        },
        "id": "CWdcBE9i5sHS",
        "outputId": "b1c1cd96-50d1-4861-cf3a-fe6ce13c8c4a"
      },
      "execution_count": null,
      "outputs": [
        {
          "output_type": "stream",
          "name": "stdout",
          "text": [
            "1/1 [==============================] - 0s 93ms/step\n"
          ]
        }
      ]
    },
    {
      "cell_type": "code",
      "source": [
        "y_pred\n",
        "\n"
      ],
      "metadata": {
        "colab": {
          "base_uri": "https://localhost:8080/"
        },
        "id": "9__szFBA5sJu",
        "outputId": "0a95c108-cacf-454b-a1e6-d122dc1e912b"
      },
      "execution_count": null,
      "outputs": [
        {
          "output_type": "execute_result",
          "data": {
            "text/plain": [
              "array([[-0.05018773,  0.15103987],\n",
              "       [-0.05018773,  0.15103987],\n",
              "       [-0.01134297,  0.04166689],\n",
              "       [-0.06008661,  0.11267774],\n",
              "       [ 0.00081124,  0.11834565],\n",
              "       [-0.01134297,  0.04166689],\n",
              "       [ 0.01359757,  0.09324649],\n",
              "       [-0.01134297,  0.04166689],\n",
              "       [-0.04866106,  0.16355544],\n",
              "       [-0.02119444,  0.0667209 ],\n",
              "       [-0.01134297,  0.04166689],\n",
              "       [ 0.00081124,  0.11834565],\n",
              "       [ 0.00081124,  0.11834566],\n",
              "       [-0.05072984,  0.12165731],\n",
              "       [-0.04866102,  0.1635554 ]], dtype=float32)"
            ]
          },
          "metadata": {},
          "execution_count": 43
        }
      ]
    },
    {
      "cell_type": "code",
      "source": [
        "y_test"
      ],
      "metadata": {
        "colab": {
          "base_uri": "https://localhost:8080/"
        },
        "id": "z8WuXQh06Ikn",
        "outputId": "8f01cb0b-1fbc-4f3c-f022-84a7f9e4eebb"
      },
      "execution_count": null,
      "outputs": [
        {
          "output_type": "execute_result",
          "data": {
            "text/plain": [
              "array([[0.92, 1.86],\n",
              "       [0.94, 1.94],\n",
              "       [1.28, 1.8 ],\n",
              "       [1.2 , 1.8 ],\n",
              "       [1.4 , 2.48],\n",
              "       [1.32, 1.96],\n",
              "       [1.64, 2.56],\n",
              "       [1.2 , 1.76],\n",
              "       [0.88, 2.  ],\n",
              "       [1.32, 1.76],\n",
              "       [1.2 , 1.76],\n",
              "       [1.36, 2.52],\n",
              "       [1.36, 2.48],\n",
              "       [1.12, 1.8 ],\n",
              "       [0.86, 2.08]])"
            ]
          },
          "metadata": {},
          "execution_count": 44
        }
      ]
    },
    {
      "cell_type": "code",
      "source": [
        "plot_loss(history_1.history)"
      ],
      "metadata": {
        "colab": {
          "base_uri": "https://localhost:8080/",
          "height": 465
        },
        "id": "jsppbY6684Hj",
        "outputId": "355a38fb-b0f1-462e-f555-c0e3ecf892dd"
      },
      "execution_count": null,
      "outputs": [
        {
          "output_type": "display_data",
          "data": {
            "text/plain": [
              "<Figure size 1200x500 with 2 Axes>"
            ],
            "image/png": "[encoded data removed]"
          },
          "metadata": {}
        }
      ]
    },
    {
      "cell_type": "code",
      "source": [
        "# точность нейросети на тестовых данных\n",
        "model_1.evaluate(X_test, y_test)"
      ],
      "metadata": {
        "colab": {
          "base_uri": "https://localhost:8080/"
        },
        "id": "D2960_Ya6Ipl",
        "outputId": "9a11bc88-6f54-4d1e-e6fd-731f54885f29"
      },
      "execution_count": null,
      "outputs": [
        {
          "output_type": "stream",
          "name": "stdout",
          "text": [
            "1/1 [==============================] - 0s 41ms/step - loss: 98.6646 - root_mean_squared_error: 1.6373\n"
          ]
        },
        {
          "output_type": "execute_result",
          "data": {
            "text/plain": [
              "[98.6646499633789, 1.6372894048690796]"
            ]
          },
          "metadata": {},
          "execution_count": 46
        }
      ]
    },
    {
      "cell_type": "code",
      "source": [
        "# предсказание\n",
        "y_pred_keras1 = model_1.predict(X_test)\n"
      ],
      "metadata": {
        "colab": {
          "base_uri": "https://localhost:8080/"
        },
        "id": "FV06acKo72NG",
        "outputId": "4ffb9303-ee1d-44ad-8c62-d690e7ad614e"
      },
      "execution_count": null,
      "outputs": [
        {
          "output_type": "stream",
          "name": "stdout",
          "text": [
            "1/1 [==============================] - 0s 20ms/step\n"
          ]
        }
      ]
    },
    {
      "cell_type": "code",
      "source": [
        "y_pred_keras1"
      ],
      "metadata": {
        "colab": {
          "base_uri": "https://localhost:8080/"
        },
        "id": "qD2wwHHq72Pn",
        "outputId": "3f64623a-e2fe-4de4-bbcd-8b084d3cf83e"
      },
      "execution_count": null,
      "outputs": [
        {
          "output_type": "execute_result",
          "data": {
            "text/plain": [
              "array([[-0.05018773,  0.15103987],\n",
              "       [-0.05018773,  0.15103987],\n",
              "       [-0.01134297,  0.04166689],\n",
              "       [-0.06008661,  0.11267774],\n",
              "       [ 0.00081124,  0.11834565],\n",
              "       [-0.01134297,  0.04166689],\n",
              "       [ 0.01359757,  0.09324649],\n",
              "       [-0.01134297,  0.04166689],\n",
              "       [-0.04866106,  0.16355544],\n",
              "       [-0.02119444,  0.0667209 ],\n",
              "       [-0.01134297,  0.04166689],\n",
              "       [ 0.00081124,  0.11834565],\n",
              "       [ 0.00081124,  0.11834566],\n",
              "       [-0.05072984,  0.12165731],\n",
              "       [-0.04866102,  0.1635554 ]], dtype=float32)"
            ]
          },
          "metadata": {},
          "execution_count": 48
        }
      ]
    },
    {
      "cell_type": "code",
      "source": [
        "y_test"
      ],
      "metadata": {
        "colab": {
          "base_uri": "https://localhost:8080/"
        },
        "id": "fSLTa4aC72R-",
        "outputId": "cc206cff-fc5e-40ee-c982-c4dec4723cd1"
      },
      "execution_count": null,
      "outputs": [
        {
          "output_type": "execute_result",
          "data": {
            "text/plain": [
              "array([[0.92, 1.86],\n",
              "       [0.94, 1.94],\n",
              "       [1.28, 1.8 ],\n",
              "       [1.2 , 1.8 ],\n",
              "       [1.4 , 2.48],\n",
              "       [1.32, 1.96],\n",
              "       [1.64, 2.56],\n",
              "       [1.2 , 1.76],\n",
              "       [0.88, 2.  ],\n",
              "       [1.32, 1.76],\n",
              "       [1.2 , 1.76],\n",
              "       [1.36, 2.52],\n",
              "       [1.36, 2.48],\n",
              "       [1.12, 1.8 ],\n",
              "       [0.86, 2.08]])"
            ]
          },
          "metadata": {},
          "execution_count": 49
        }
      ]
    },
    {
      "cell_type": "code",
      "source": [
        "original_1 = y_test\n",
        "predicted_1 = y_pred_keras1"
      ],
      "metadata": {
        "id": "6spX2VCF8FBh"
      },
      "execution_count": null,
      "outputs": []
    },
    {
      "cell_type": "code",
      "source": [
        "rass_snach(original_1, predicted_1)"
      ],
      "metadata": {
        "colab": {
          "base_uri": "https://localhost:8080/",
          "height": 494
        },
        "id": "RY3ei3K28FEE",
        "outputId": "68a3e025-8d96-4a12-90bb-d366d9a23785"
      },
      "execution_count": null,
      "outputs": [
        {
          "output_type": "display_data",
          "data": {
            "text/plain": [
              "<Figure size 1000x500 with 1 Axes>"
            ],
            "image/png": "[encoded data removed]"
          },
          "metadata": {}
        }
      ]
    },
    {
      "cell_type": "markdown",
      "source": [
        "### Ранняя остановка"
      ],
      "metadata": {
        "id": "yrOM5ESt94v1"
      }
    },
    {
      "cell_type": "code",
      "source": [
        "model_2 = build()\n",
        "model_2 = build_and_comp(model_2)"
      ],
      "metadata": {
        "id": "gbj2EaOF8FGu"
      },
      "execution_count": null,
      "outputs": []
    },
    {
      "cell_type": "code",
      "source": [
        "%%time\n",
        "#обучение\n",
        "history_2 = model_2.fit(\n",
        "  X_train,\n",
        "  y_train,\n",
        "  epochs = 300,\n",
        "  validation_split = 0.3,\n",
        "  verbose = 1,\n",
        "  callbacks = [keras.callbacks.EarlyStopping(monitor = 'val_loss', patience = 3)]\n",
        ")\n",
        "\n"
      ],
      "metadata": {
        "colab": {
          "base_uri": "https://localhost:8080/"
        },
        "id": "_aEOkLUW8FJF",
        "outputId": "26379868-0a56-4fb0-e0b6-55290e9be5da"
      },
      "execution_count": null,
      "outputs": [
        {
          "output_type": "stream",
          "name": "stdout",
          "text": [
            "Epoch 1/300\n",
            "2/2 [==============================] - 1s 201ms/step - loss: 101.3766 - root_mean_squared_error: 1.6734 - val_loss: 98.5852 - val_root_mean_squared_error: 1.6388\n",
            "Epoch 2/300\n",
            "2/2 [==============================] - 0s 34ms/step - loss: 98.5667 - root_mean_squared_error: 1.6443 - val_loss: 95.6865 - val_root_mean_squared_error: 1.6127\n",
            "Epoch 3/300\n",
            "2/2 [==============================] - 0s 31ms/step - loss: 96.2570 - root_mean_squared_error: 1.6217 - val_loss: 93.0972 - val_root_mean_squared_error: 1.5923\n",
            "Epoch 4/300\n",
            "2/2 [==============================] - 0s 39ms/step - loss: 93.9629 - root_mean_squared_error: 1.6015 - val_loss: 90.7996 - val_root_mean_squared_error: 1.5771\n",
            "Epoch 5/300\n",
            "2/2 [==============================] - 0s 31ms/step - loss: 91.7436 - root_mean_squared_error: 1.5846 - val_loss: 88.4438 - val_root_mean_squared_error: 1.5627\n",
            "Epoch 6/300\n",
            "2/2 [==============================] - 0s 32ms/step - loss: 89.6372 - root_mean_squared_error: 1.5699 - val_loss: 85.9377 - val_root_mean_squared_error: 1.5485\n",
            "Epoch 7/300\n",
            "2/2 [==============================] - 0s 40ms/step - loss: 87.4014 - root_mean_squared_error: 1.5555 - val_loss: 83.1976 - val_root_mean_squared_error: 1.5336\n",
            "Epoch 8/300\n",
            "2/2 [==============================] - 0s 32ms/step - loss: 84.9630 - root_mean_squared_error: 1.5404 - val_loss: 80.3380 - val_root_mean_squared_error: 1.5190\n",
            "Epoch 9/300\n",
            "2/2 [==============================] - 0s 32ms/step - loss: 82.3412 - root_mean_squared_error: 1.5252 - val_loss: 77.2356 - val_root_mean_squared_error: 1.5051\n",
            "Epoch 10/300\n",
            "2/2 [==============================] - 0s 33ms/step - loss: 79.4441 - root_mean_squared_error: 1.5105 - val_loss: 73.8572 - val_root_mean_squared_error: 1.4935\n",
            "Epoch 11/300\n",
            "2/2 [==============================] - 0s 33ms/step - loss: 76.4521 - root_mean_squared_error: 1.4974 - val_loss: 71.1336 - val_root_mean_squared_error: 1.4825\n",
            "Epoch 12/300\n",
            "2/2 [==============================] - 0s 33ms/step - loss: 73.7717 - root_mean_squared_error: 1.4839 - val_loss: 69.3590 - val_root_mean_squared_error: 1.4725\n",
            "Epoch 13/300\n",
            "2/2 [==============================] - 0s 33ms/step - loss: 71.1021 - root_mean_squared_error: 1.4721 - val_loss: 67.5009 - val_root_mean_squared_error: 1.4637\n",
            "Epoch 14/300\n",
            "2/2 [==============================] - 0s 41ms/step - loss: 68.3103 - root_mean_squared_error: 1.4604 - val_loss: 65.8373 - val_root_mean_squared_error: 1.4555\n",
            "Epoch 15/300\n",
            "2/2 [==============================] - 0s 34ms/step - loss: 65.3333 - root_mean_squared_error: 1.4506 - val_loss: 65.1834 - val_root_mean_squared_error: 1.4485\n",
            "Epoch 16/300\n",
            "2/2 [==============================] - 0s 33ms/step - loss: 62.5618 - root_mean_squared_error: 1.4417 - val_loss: 64.6082 - val_root_mean_squared_error: 1.4418\n",
            "Epoch 17/300\n",
            "2/2 [==============================] - 0s 44ms/step - loss: 61.0547 - root_mean_squared_error: 1.4327 - val_loss: 64.0211 - val_root_mean_squared_error: 1.4334\n",
            "Epoch 18/300\n",
            "2/2 [==============================] - 0s 33ms/step - loss: 61.0695 - root_mean_squared_error: 1.4243 - val_loss: 63.5125 - val_root_mean_squared_error: 1.4222\n",
            "Epoch 19/300\n",
            "2/2 [==============================] - 0s 35ms/step - loss: 60.5541 - root_mean_squared_error: 1.4120 - val_loss: 62.5533 - val_root_mean_squared_error: 1.4062\n",
            "Epoch 20/300\n",
            "2/2 [==============================] - 0s 32ms/step - loss: 59.5928 - root_mean_squared_error: 1.3953 - val_loss: 60.9555 - val_root_mean_squared_error: 1.3861\n",
            "Epoch 21/300\n",
            "2/2 [==============================] - 0s 49ms/step - loss: 58.1976 - root_mean_squared_error: 1.3760 - val_loss: 59.0929 - val_root_mean_squared_error: 1.3650\n",
            "Epoch 22/300\n",
            "2/2 [==============================] - 0s 33ms/step - loss: 56.7430 - root_mean_squared_error: 1.3563 - val_loss: 57.2152 - val_root_mean_squared_error: 1.3449\n",
            "Epoch 23/300\n",
            "2/2 [==============================] - 0s 35ms/step - loss: 55.5379 - root_mean_squared_error: 1.3378 - val_loss: 55.7517 - val_root_mean_squared_error: 1.3266\n",
            "Epoch 24/300\n",
            "2/2 [==============================] - 0s 43ms/step - loss: 54.5734 - root_mean_squared_error: 1.3215 - val_loss: 54.5516 - val_root_mean_squared_error: 1.3107\n",
            "Epoch 25/300\n",
            "2/2 [==============================] - 0s 33ms/step - loss: 54.0011 - root_mean_squared_error: 1.3072 - val_loss: 53.3698 - val_root_mean_squared_error: 1.2962\n",
            "Epoch 26/300\n",
            "2/2 [==============================] - 0s 35ms/step - loss: 53.1927 - root_mean_squared_error: 1.2934 - val_loss: 52.2811 - val_root_mean_squared_error: 1.2813\n",
            "Epoch 27/300\n",
            "2/2 [==============================] - 0s 32ms/step - loss: 52.3663 - root_mean_squared_error: 1.2787 - val_loss: 51.1683 - val_root_mean_squared_error: 1.2656\n",
            "Epoch 28/300\n",
            "2/2 [==============================] - 0s 33ms/step - loss: 51.3184 - root_mean_squared_error: 1.2628 - val_loss: 50.1959 - val_root_mean_squared_error: 1.2490\n",
            "Epoch 29/300\n",
            "2/2 [==============================] - 0s 51ms/step - loss: 50.3724 - root_mean_squared_error: 1.2459 - val_loss: 49.5842 - val_root_mean_squared_error: 1.2316\n",
            "Epoch 30/300\n",
            "2/2 [==============================] - 0s 34ms/step - loss: 49.4225 - root_mean_squared_error: 1.2281 - val_loss: 48.9158 - val_root_mean_squared_error: 1.2142\n",
            "Epoch 31/300\n",
            "2/2 [==============================] - 0s 34ms/step - loss: 48.7019 - root_mean_squared_error: 1.2106 - val_loss: 47.9095 - val_root_mean_squared_error: 1.1969\n",
            "Epoch 32/300\n",
            "2/2 [==============================] - 0s 32ms/step - loss: 47.7289 - root_mean_squared_error: 1.1933 - val_loss: 46.7333 - val_root_mean_squared_error: 1.1795\n",
            "Epoch 33/300\n",
            "2/2 [==============================] - 0s 35ms/step - loss: 46.6930 - root_mean_squared_error: 1.1761 - val_loss: 45.8272 - val_root_mean_squared_error: 1.1613\n",
            "Epoch 34/300\n",
            "2/2 [==============================] - 0s 36ms/step - loss: 46.0147 - root_mean_squared_error: 1.1579 - val_loss: 45.0109 - val_root_mean_squared_error: 1.1413\n",
            "Epoch 35/300\n",
            "2/2 [==============================] - 0s 33ms/step - loss: 45.1351 - root_mean_squared_error: 1.1374 - val_loss: 44.1927 - val_root_mean_squared_error: 1.1188\n",
            "Epoch 36/300\n",
            "2/2 [==============================] - 0s 35ms/step - loss: 44.0650 - root_mean_squared_error: 1.1144 - val_loss: 43.5052 - val_root_mean_squared_error: 1.0954\n",
            "Epoch 37/300\n",
            "2/2 [==============================] - 0s 34ms/step - loss: 43.1697 - root_mean_squared_error: 1.0914 - val_loss: 42.6700 - val_root_mean_squared_error: 1.0724\n",
            "Epoch 38/300\n",
            "2/2 [==============================] - 0s 35ms/step - loss: 42.2922 - root_mean_squared_error: 1.0684 - val_loss: 41.5748 - val_root_mean_squared_error: 1.0501\n",
            "Epoch 39/300\n",
            "2/2 [==============================] - 0s 40ms/step - loss: 41.1769 - root_mean_squared_error: 1.0463 - val_loss: 40.3884 - val_root_mean_squared_error: 1.0279\n",
            "Epoch 40/300\n",
            "2/2 [==============================] - 0s 32ms/step - loss: 40.0890 - root_mean_squared_error: 1.0243 - val_loss: 39.4004 - val_root_mean_squared_error: 1.0042\n",
            "Epoch 41/300\n",
            "2/2 [==============================] - 0s 33ms/step - loss: 39.1537 - root_mean_squared_error: 1.0011 - val_loss: 38.3878 - val_root_mean_squared_error: 0.9788\n",
            "Epoch 42/300\n",
            "2/2 [==============================] - 0s 37ms/step - loss: 38.0792 - root_mean_squared_error: 0.9755 - val_loss: 37.3989 - val_root_mean_squared_error: 0.9507\n",
            "Epoch 43/300\n",
            "2/2 [==============================] - 0s 34ms/step - loss: 36.7849 - root_mean_squared_error: 0.9471 - val_loss: 36.5699 - val_root_mean_squared_error: 0.9213\n",
            "Epoch 44/300\n",
            "2/2 [==============================] - 0s 34ms/step - loss: 35.7146 - root_mean_squared_error: 0.9184 - val_loss: 35.4949 - val_root_mean_squared_error: 0.8921\n",
            "Epoch 45/300\n",
            "2/2 [==============================] - 0s 41ms/step - loss: 34.5177 - root_mean_squared_error: 0.8897 - val_loss: 34.0560 - val_root_mean_squared_error: 0.8645\n",
            "Epoch 46/300\n",
            "2/2 [==============================] - 0s 56ms/step - loss: 33.1471 - root_mean_squared_error: 0.8625 - val_loss: 32.7951 - val_root_mean_squared_error: 0.8355\n",
            "Epoch 47/300\n",
            "2/2 [==============================] - 0s 34ms/step - loss: 32.0236 - root_mean_squared_error: 0.8340 - val_loss: 31.5184 - val_root_mean_squared_error: 0.8038\n",
            "Epoch 48/300\n",
            "2/2 [==============================] - 0s 34ms/step - loss: 30.7455 - root_mean_squared_error: 0.8025 - val_loss: 30.3193 - val_root_mean_squared_error: 0.7707\n",
            "Epoch 49/300\n",
            "2/2 [==============================] - 0s 34ms/step - loss: 29.4076 - root_mean_squared_error: 0.7698 - val_loss: 29.0509 - val_root_mean_squared_error: 0.7353\n",
            "Epoch 50/300\n",
            "2/2 [==============================] - 0s 34ms/step - loss: 27.9024 - root_mean_squared_error: 0.7341 - val_loss: 27.8453 - val_root_mean_squared_error: 0.6971\n",
            "Epoch 51/300\n",
            "2/2 [==============================] - 0s 34ms/step - loss: 26.5354 - root_mean_squared_error: 0.6957 - val_loss: 26.4097 - val_root_mean_squared_error: 0.6596\n",
            "Epoch 52/300\n",
            "2/2 [==============================] - 0s 35ms/step - loss: 24.9802 - root_mean_squared_error: 0.6577 - val_loss: 24.7614 - val_root_mean_squared_error: 0.6226\n",
            "Epoch 53/300\n",
            "2/2 [==============================] - 0s 38ms/step - loss: 23.3852 - root_mean_squared_error: 0.6197 - val_loss: 23.1359 - val_root_mean_squared_error: 0.5843\n",
            "Epoch 54/300\n",
            "2/2 [==============================] - 0s 46ms/step - loss: 21.7015 - root_mean_squared_error: 0.5796 - val_loss: 21.4038 - val_root_mean_squared_error: 0.5453\n",
            "Epoch 55/300\n",
            "2/2 [==============================] - 0s 36ms/step - loss: 19.9596 - root_mean_squared_error: 0.5421 - val_loss: 19.6125 - val_root_mean_squared_error: 0.5047\n",
            "Epoch 56/300\n",
            "2/2 [==============================] - 0s 33ms/step - loss: 18.1268 - root_mean_squared_error: 0.4998 - val_loss: 17.8934 - val_root_mean_squared_error: 0.4617\n",
            "Epoch 57/300\n",
            "2/2 [==============================] - 0s 37ms/step - loss: 16.2176 - root_mean_squared_error: 0.4555 - val_loss: 16.2592 - val_root_mean_squared_error: 0.4193\n",
            "Epoch 58/300\n",
            "2/2 [==============================] - 0s 35ms/step - loss: 14.2482 - root_mean_squared_error: 0.4120 - val_loss: 14.6418 - val_root_mean_squared_error: 0.3801\n",
            "Epoch 59/300\n",
            "2/2 [==============================] - 0s 34ms/step - loss: 12.1612 - root_mean_squared_error: 0.3728 - val_loss: 13.3712 - val_root_mean_squared_error: 0.3468\n",
            "Epoch 60/300\n",
            "2/2 [==============================] - 0s 38ms/step - loss: 10.7536 - root_mean_squared_error: 0.3408 - val_loss: 12.4960 - val_root_mean_squared_error: 0.3163\n",
            "Epoch 61/300\n",
            "2/2 [==============================] - 0s 32ms/step - loss: 9.5585 - root_mean_squared_error: 0.3065 - val_loss: 11.9756 - val_root_mean_squared_error: 0.2936\n",
            "Epoch 62/300\n",
            "2/2 [==============================] - 0s 37ms/step - loss: 9.0209 - root_mean_squared_error: 0.2815 - val_loss: 11.1645 - val_root_mean_squared_error: 0.2793\n",
            "Epoch 63/300\n",
            "2/2 [==============================] - 0s 32ms/step - loss: 8.6265 - root_mean_squared_error: 0.2706 - val_loss: 10.6998 - val_root_mean_squared_error: 0.2718\n",
            "Epoch 64/300\n",
            "2/2 [==============================] - 0s 35ms/step - loss: 8.7838 - root_mean_squared_error: 0.2625 - val_loss: 10.4989 - val_root_mean_squared_error: 0.2669\n",
            "Epoch 65/300\n",
            "2/2 [==============================] - 0s 34ms/step - loss: 8.8555 - root_mean_squared_error: 0.2567 - val_loss: 10.6832 - val_root_mean_squared_error: 0.2637\n",
            "Epoch 66/300\n",
            "2/2 [==============================] - 0s 44ms/step - loss: 8.8714 - root_mean_squared_error: 0.2519 - val_loss: 11.0529 - val_root_mean_squared_error: 0.2626\n",
            "Epoch 67/300\n",
            "2/2 [==============================] - 0s 69ms/step - loss: 9.0245 - root_mean_squared_error: 0.2502 - val_loss: 10.5475 - val_root_mean_squared_error: 0.2582\n",
            "CPU times: user 3.94 s, sys: 132 ms, total: 4.07 s\n",
            "Wall time: 4.31 s\n"
          ]
        }
      ]
    },
    {
      "cell_type": "code",
      "source": [
        "plot_loss(history_2.history)"
      ],
      "metadata": {
        "colab": {
          "base_uri": "https://localhost:8080/",
          "height": 465
        },
        "id": "DRim3kbj-QAN",
        "outputId": "e8333908-7524-49d7-c994-d24406dcc41c"
      },
      "execution_count": null,
      "outputs": [
        {
          "output_type": "display_data",
          "data": {
            "text/plain": [
              "<Figure size 1200x500 with 2 Axes>"
            ],
            "image/png": "[encoded data removed]"
          },
          "metadata": {}
        }
      ]
    },
    {
      "cell_type": "code",
      "source": [
        "# точность нейросети на тестовых данных\n",
        "model_2.evaluate(X_test, y_test)"
      ],
      "metadata": {
        "colab": {
          "base_uri": "https://localhost:8080/"
        },
        "id": "GQjU5pHD-QD5",
        "outputId": "123723ed-e332-47cb-8f6a-be5b96f18927"
      },
      "execution_count": null,
      "outputs": [
        {
          "output_type": "stream",
          "name": "stdout",
          "text": [
            "1/1 [==============================] - 0s 27ms/step - loss: 9.9286 - root_mean_squared_error: 0.2850\n"
          ]
        },
        {
          "output_type": "execute_result",
          "data": {
            "text/plain": [
              "[9.928597450256348, 0.28503233194351196]"
            ]
          },
          "metadata": {},
          "execution_count": 55
        }
      ]
    },
    {
      "cell_type": "code",
      "source": [
        "# предсказание\n",
        "y_pred_keras2 = model_2.predict(X_test)"
      ],
      "metadata": {
        "colab": {
          "base_uri": "https://localhost:8080/"
        },
        "id": "GaiDLfd--QGi",
        "outputId": "5acf805e-9bec-4105-94bb-6eb512200f5f"
      },
      "execution_count": null,
      "outputs": [
        {
          "output_type": "stream",
          "name": "stdout",
          "text": [
            "1/1 [==============================] - 0s 66ms/step\n"
          ]
        }
      ]
    },
    {
      "cell_type": "code",
      "source": [
        "original_2 = y_test\n",
        "predicted_2 = y_pred_keras2"
      ],
      "metadata": {
        "id": "jyxZ1xXh-QLC"
      },
      "execution_count": null,
      "outputs": []
    },
    {
      "cell_type": "code",
      "source": [
        "rass_snach(original_2, predicted_2)"
      ],
      "metadata": {
        "colab": {
          "base_uri": "https://localhost:8080/",
          "height": 494
        },
        "id": "2gLhxRzP-rj2",
        "outputId": "2a88f2f6-f487-49d1-eebe-1311d7823266"
      },
      "execution_count": null,
      "outputs": [
        {
          "output_type": "display_data",
          "data": {
            "text/plain": [
              "<Figure size 1000x500 with 1 Axes>"
            ],
            "image/png": "[encoded data removed]"
          },
          "metadata": {}
        }
      ]
    },
    {
      "cell_type": "markdown",
      "source": [
        "### Добавление Dropout слоя\n"
      ],
      "metadata": {
        "id": "CNgF6KD8_XrO"
      }
    },
    {
      "cell_type": "code",
      "source": [
        "# построение тождественной модели с Dropout слоем\n",
        "model_3 = tf.keras.Sequential([\n",
        "      keras.layers.Input(shape = (4,), name = 'in'),\n",
        "      keras.layers.Dense(units = 64, activation = 'relu', name = 'dense_1'),\n",
        "      keras.layers.Dropout(0.05, name = 'dropout_1'),\n",
        "      keras.layers.Dense(units = 32, activation = 'relu', name = 'dense_2'),\n",
        "      keras.layers.Dropout(0.05, name = 'dropout_2'),\n",
        "      keras.layers.Dense(units = 12, activation = 'relu', name = 'dense_3'),\n",
        "      keras.layers.Dropout(0.05, name = 'dropout_3'),\n",
        "      keras.layers.Dense(units = 1, name = 'out')\n",
        "    ])"
      ],
      "metadata": {
        "id": "v5Xqesdl-rml"
      },
      "execution_count": null,
      "outputs": []
    },
    {
      "cell_type": "code",
      "source": [
        "model_3 = build_and_comp(model_3)\n",
        "# архитектура не изменилась\n",
        "model_3.summary()"
      ],
      "metadata": {
        "colab": {
          "base_uri": "https://localhost:8080/"
        },
        "id": "V5mU9sJk_m0C",
        "outputId": "40448fd4-4353-44d3-ea4f-b0079c1a98c1"
      },
      "execution_count": null,
      "outputs": [
        {
          "output_type": "stream",
          "name": "stdout",
          "text": [
            "Model: \"sequential_2\"\n",
            "_________________________________________________________________\n",
            " Layer (type)                Output Shape              Param #   \n",
            "=================================================================\n",
            " dense_1 (Dense)             (None, 64)                320       \n",
            "                                                                 \n",
            " dropout_1 (Dropout)         (None, 64)                0         \n",
            "                                                                 \n",
            " dense_2 (Dense)             (None, 32)                2080      \n",
            "                                                                 \n",
            " dropout_2 (Dropout)         (None, 32)                0         \n",
            "                                                                 \n",
            " dense_3 (Dense)             (None, 12)                396       \n",
            "                                                                 \n",
            " dropout_3 (Dropout)         (None, 12)                0         \n",
            "                                                                 \n",
            " out (Dense)                 (None, 1)                 13        \n",
            "                                                                 \n",
            "=================================================================\n",
            "Total params: 2809 (10.97 KB)\n",
            "Trainable params: 2809 (10.97 KB)\n",
            "Non-trainable params: 0 (0.00 Byte)\n",
            "_________________________________________________________________\n"
          ]
        }
      ]
    },
    {
      "cell_type": "code",
      "source": [
        "%%time\n",
        "#обучение\n",
        "history_3 = model_3.fit(\n",
        "  X_train,\n",
        "  y_train,\n",
        "  epochs = 300,\n",
        "  validation_split = 0.3,\n",
        "  verbose = 1\n",
        ")"
      ],
      "metadata": {
        "colab": {
          "base_uri": "https://localhost:8080/"
        },
        "id": "sQ5fAqqG_m4e",
        "outputId": "2c3489c7-0ce0-43e7-cf40-b3741b5671f8"
      },
      "execution_count": null,
      "outputs": [
        {
          "output_type": "stream",
          "name": "stdout",
          "text": [
            "Epoch 1/300\n",
            "2/2 [==============================] - 1s 170ms/step - loss: 100.8659 - root_mean_squared_error: 1.6516 - val_loss: 97.3027 - val_root_mean_squared_error: 1.5947\n",
            "Epoch 2/300\n",
            "2/2 [==============================] - 0s 31ms/step - loss: 98.0172 - root_mean_squared_error: 1.6110 - val_loss: 93.4229 - val_root_mean_squared_error: 1.5436\n",
            "Epoch 3/300\n",
            "2/2 [==============================] - 0s 43ms/step - loss: 94.2557 - root_mean_squared_error: 1.5587 - val_loss: 89.5935 - val_root_mean_squared_error: 1.4932\n",
            "Epoch 4/300\n",
            "2/2 [==============================] - 0s 34ms/step - loss: 91.3200 - root_mean_squared_error: 1.5181 - val_loss: 85.5879 - val_root_mean_squared_error: 1.4412\n",
            "Epoch 5/300\n",
            "2/2 [==============================] - 0s 31ms/step - loss: 88.3387 - root_mean_squared_error: 1.4835 - val_loss: 81.5036 - val_root_mean_squared_error: 1.3886\n",
            "Epoch 6/300\n",
            "2/2 [==============================] - 0s 31ms/step - loss: 82.4539 - root_mean_squared_error: 1.4051 - val_loss: 77.4356 - val_root_mean_squared_error: 1.3369\n",
            "Epoch 7/300\n",
            "2/2 [==============================] - 0s 38ms/step - loss: 80.1478 - root_mean_squared_error: 1.3734 - val_loss: 73.4426 - val_root_mean_squared_error: 1.2861\n",
            "Epoch 8/300\n",
            "2/2 [==============================] - 0s 34ms/step - loss: 74.5617 - root_mean_squared_error: 1.2946 - val_loss: 69.2483 - val_root_mean_squared_error: 1.2331\n",
            "Epoch 9/300\n",
            "2/2 [==============================] - 0s 33ms/step - loss: 71.8528 - root_mean_squared_error: 1.2642 - val_loss: 64.8679 - val_root_mean_squared_error: 1.1783\n",
            "Epoch 10/300\n",
            "2/2 [==============================] - 0s 32ms/step - loss: 68.1850 - root_mean_squared_error: 1.2234 - val_loss: 60.2884 - val_root_mean_squared_error: 1.1216\n",
            "Epoch 11/300\n",
            "2/2 [==============================] - 0s 36ms/step - loss: 63.1718 - root_mean_squared_error: 1.1577 - val_loss: 55.4560 - val_root_mean_squared_error: 1.0625\n",
            "Epoch 12/300\n",
            "2/2 [==============================] - 0s 35ms/step - loss: 59.5663 - root_mean_squared_error: 1.1121 - val_loss: 50.3190 - val_root_mean_squared_error: 1.0010\n",
            "Epoch 13/300\n",
            "2/2 [==============================] - 0s 51ms/step - loss: 55.8882 - root_mean_squared_error: 1.0683 - val_loss: 45.2641 - val_root_mean_squared_error: 0.9381\n",
            "Epoch 14/300\n",
            "2/2 [==============================] - 0s 32ms/step - loss: 48.5794 - root_mean_squared_error: 0.9722 - val_loss: 41.0567 - val_root_mean_squared_error: 0.8738\n",
            "Epoch 15/300\n",
            "2/2 [==============================] - 0s 34ms/step - loss: 43.7497 - root_mean_squared_error: 0.9236 - val_loss: 36.6824 - val_root_mean_squared_error: 0.8089\n",
            "Epoch 16/300\n",
            "2/2 [==============================] - 0s 34ms/step - loss: 40.5662 - root_mean_squared_error: 0.8859 - val_loss: 32.9399 - val_root_mean_squared_error: 0.7462\n",
            "Epoch 17/300\n",
            "2/2 [==============================] - 0s 33ms/step - loss: 36.4988 - root_mean_squared_error: 0.8326 - val_loss: 30.4473 - val_root_mean_squared_error: 0.6886\n",
            "Epoch 18/300\n",
            "2/2 [==============================] - 0s 36ms/step - loss: 28.5432 - root_mean_squared_error: 0.6640 - val_loss: 29.1427 - val_root_mean_squared_error: 0.6417\n",
            "Epoch 19/300\n",
            "2/2 [==============================] - 0s 33ms/step - loss: 30.3611 - root_mean_squared_error: 0.6867 - val_loss: 29.2607 - val_root_mean_squared_error: 0.6053\n",
            "Epoch 20/300\n",
            "2/2 [==============================] - 0s 35ms/step - loss: 31.6745 - root_mean_squared_error: 0.6537 - val_loss: 29.6760 - val_root_mean_squared_error: 0.5811\n",
            "Epoch 21/300\n",
            "2/2 [==============================] - 0s 54ms/step - loss: 28.7059 - root_mean_squared_error: 0.5838 - val_loss: 30.0953 - val_root_mean_squared_error: 0.5661\n",
            "Epoch 22/300\n",
            "2/2 [==============================] - 0s 33ms/step - loss: 30.1845 - root_mean_squared_error: 0.5839 - val_loss: 30.5133 - val_root_mean_squared_error: 0.5572\n",
            "Epoch 23/300\n",
            "2/2 [==============================] - 0s 32ms/step - loss: 32.0691 - root_mean_squared_error: 0.6391 - val_loss: 30.7863 - val_root_mean_squared_error: 0.5519\n",
            "Epoch 24/300\n",
            "2/2 [==============================] - 0s 39ms/step - loss: 31.0986 - root_mean_squared_error: 0.5966 - val_loss: 30.9532 - val_root_mean_squared_error: 0.5484\n",
            "Epoch 25/300\n",
            "2/2 [==============================] - 0s 49ms/step - loss: 30.5883 - root_mean_squared_error: 0.6034 - val_loss: 30.9634 - val_root_mean_squared_error: 0.5468\n",
            "Epoch 26/300\n",
            "2/2 [==============================] - 0s 36ms/step - loss: 29.5831 - root_mean_squared_error: 0.5529 - val_loss: 30.8281 - val_root_mean_squared_error: 0.5466\n",
            "Epoch 27/300\n",
            "2/2 [==============================] - 0s 34ms/step - loss: 29.9646 - root_mean_squared_error: 0.5934 - val_loss: 30.5938 - val_root_mean_squared_error: 0.5478\n",
            "Epoch 28/300\n",
            "2/2 [==============================] - 0s 33ms/step - loss: 30.1477 - root_mean_squared_error: 0.6031 - val_loss: 30.2775 - val_root_mean_squared_error: 0.5507\n",
            "Epoch 29/300\n",
            "2/2 [==============================] - 0s 34ms/step - loss: 33.8731 - root_mean_squared_error: 0.6818 - val_loss: 29.9752 - val_root_mean_squared_error: 0.5540\n",
            "Epoch 30/300\n",
            "2/2 [==============================] - 0s 38ms/step - loss: 29.5693 - root_mean_squared_error: 0.5809 - val_loss: 29.7314 - val_root_mean_squared_error: 0.5572\n",
            "Epoch 31/300\n",
            "2/2 [==============================] - 0s 35ms/step - loss: 30.4901 - root_mean_squared_error: 0.6250 - val_loss: 29.5126 - val_root_mean_squared_error: 0.5617\n",
            "Epoch 32/300\n",
            "2/2 [==============================] - 0s 37ms/step - loss: 27.5015 - root_mean_squared_error: 0.5592 - val_loss: 29.2856 - val_root_mean_squared_error: 0.5673\n",
            "Epoch 33/300\n",
            "2/2 [==============================] - 0s 42ms/step - loss: 28.7632 - root_mean_squared_error: 0.6251 - val_loss: 29.1012 - val_root_mean_squared_error: 0.5723\n",
            "Epoch 34/300\n",
            "2/2 [==============================] - 0s 35ms/step - loss: 31.1115 - root_mean_squared_error: 0.6447 - val_loss: 28.9943 - val_root_mean_squared_error: 0.5771\n",
            "Epoch 35/300\n",
            "2/2 [==============================] - 0s 50ms/step - loss: 28.4631 - root_mean_squared_error: 0.5955 - val_loss: 28.8882 - val_root_mean_squared_error: 0.5820\n",
            "Epoch 36/300\n",
            "2/2 [==============================] - 0s 35ms/step - loss: 30.6427 - root_mean_squared_error: 0.6466 - val_loss: 28.8086 - val_root_mean_squared_error: 0.5850\n",
            "Epoch 37/300\n",
            "2/2 [==============================] - 0s 33ms/step - loss: 27.5519 - root_mean_squared_error: 0.5891 - val_loss: 28.8219 - val_root_mean_squared_error: 0.5878\n",
            "Epoch 38/300\n",
            "2/2 [==============================] - 0s 33ms/step - loss: 31.2065 - root_mean_squared_error: 0.6567 - val_loss: 28.8346 - val_root_mean_squared_error: 0.5894\n",
            "Epoch 39/300\n",
            "2/2 [==============================] - 0s 34ms/step - loss: 29.2180 - root_mean_squared_error: 0.6148 - val_loss: 28.8097 - val_root_mean_squared_error: 0.5881\n",
            "Epoch 40/300\n",
            "2/2 [==============================] - 0s 34ms/step - loss: 30.3849 - root_mean_squared_error: 0.6465 - val_loss: 28.7795 - val_root_mean_squared_error: 0.5876\n",
            "Epoch 41/300\n",
            "2/2 [==============================] - 0s 33ms/step - loss: 26.2611 - root_mean_squared_error: 0.5597 - val_loss: 28.7380 - val_root_mean_squared_error: 0.5870\n",
            "Epoch 42/300\n",
            "2/2 [==============================] - 0s 33ms/step - loss: 33.1017 - root_mean_squared_error: 0.7718 - val_loss: 28.6950 - val_root_mean_squared_error: 0.5868\n",
            "Epoch 43/300\n",
            "2/2 [==============================] - 0s 37ms/step - loss: 28.3846 - root_mean_squared_error: 0.6087 - val_loss: 28.6437 - val_root_mean_squared_error: 0.5861\n",
            "Epoch 44/300\n",
            "2/2 [==============================] - 0s 35ms/step - loss: 29.2863 - root_mean_squared_error: 0.6225 - val_loss: 28.5741 - val_root_mean_squared_error: 0.5831\n",
            "Epoch 45/300\n",
            "2/2 [==============================] - 0s 47ms/step - loss: 27.4372 - root_mean_squared_error: 0.5858 - val_loss: 28.4686 - val_root_mean_squared_error: 0.5768\n",
            "Epoch 46/300\n",
            "2/2 [==============================] - 0s 36ms/step - loss: 29.4866 - root_mean_squared_error: 0.6304 - val_loss: 28.3480 - val_root_mean_squared_error: 0.5707\n",
            "Epoch 47/300\n",
            "2/2 [==============================] - 0s 36ms/step - loss: 33.2048 - root_mean_squared_error: 0.7023 - val_loss: 28.2938 - val_root_mean_squared_error: 0.5655\n",
            "Epoch 48/300\n",
            "2/2 [==============================] - 0s 33ms/step - loss: 27.7243 - root_mean_squared_error: 0.5787 - val_loss: 28.2844 - val_root_mean_squared_error: 0.5592\n",
            "Epoch 49/300\n",
            "2/2 [==============================] - 0s 33ms/step - loss: 28.6186 - root_mean_squared_error: 0.6202 - val_loss: 28.3103 - val_root_mean_squared_error: 0.5527\n",
            "Epoch 50/300\n",
            "2/2 [==============================] - 0s 52ms/step - loss: 34.6598 - root_mean_squared_error: 0.7270 - val_loss: 28.4077 - val_root_mean_squared_error: 0.5455\n",
            "Epoch 51/300\n",
            "2/2 [==============================] - 0s 33ms/step - loss: 28.4688 - root_mean_squared_error: 0.5635 - val_loss: 28.5207 - val_root_mean_squared_error: 0.5380\n",
            "Epoch 52/300\n",
            "2/2 [==============================] - 0s 34ms/step - loss: 27.0744 - root_mean_squared_error: 0.5709 - val_loss: 28.5976 - val_root_mean_squared_error: 0.5321\n",
            "Epoch 53/300\n",
            "2/2 [==============================] - 0s 34ms/step - loss: 28.4710 - root_mean_squared_error: 0.6037 - val_loss: 28.7231 - val_root_mean_squared_error: 0.5266\n",
            "Epoch 54/300\n",
            "2/2 [==============================] - 0s 35ms/step - loss: 28.7380 - root_mean_squared_error: 0.5763 - val_loss: 28.7551 - val_root_mean_squared_error: 0.5237\n",
            "Epoch 55/300\n",
            "2/2 [==============================] - 0s 33ms/step - loss: 27.9987 - root_mean_squared_error: 0.5393 - val_loss: 28.7214 - val_root_mean_squared_error: 0.5224\n",
            "Epoch 56/300\n",
            "2/2 [==============================] - 0s 35ms/step - loss: 26.6223 - root_mean_squared_error: 0.5867 - val_loss: 28.6223 - val_root_mean_squared_error: 0.5223\n",
            "Epoch 57/300\n",
            "2/2 [==============================] - 0s 33ms/step - loss: 31.5291 - root_mean_squared_error: 0.6676 - val_loss: 28.4555 - val_root_mean_squared_error: 0.5241\n",
            "Epoch 58/300\n",
            "2/2 [==============================] - 0s 31ms/step - loss: 27.1435 - root_mean_squared_error: 0.5207 - val_loss: 28.2606 - val_root_mean_squared_error: 0.5281\n",
            "Epoch 59/300\n",
            "2/2 [==============================] - 0s 33ms/step - loss: 25.9181 - root_mean_squared_error: 0.5205 - val_loss: 28.0484 - val_root_mean_squared_error: 0.5331\n",
            "Epoch 60/300\n",
            "2/2 [==============================] - 0s 36ms/step - loss: 25.7785 - root_mean_squared_error: 0.5338 - val_loss: 27.9320 - val_root_mean_squared_error: 0.5385\n",
            "Epoch 61/300\n",
            "2/2 [==============================] - 0s 33ms/step - loss: 25.9653 - root_mean_squared_error: 0.5296 - val_loss: 27.9233 - val_root_mean_squared_error: 0.5428\n",
            "Epoch 62/300\n",
            "2/2 [==============================] - 0s 47ms/step - loss: 28.8500 - root_mean_squared_error: 0.6294 - val_loss: 27.9078 - val_root_mean_squared_error: 0.5453\n",
            "Epoch 63/300\n",
            "2/2 [==============================] - 0s 33ms/step - loss: 30.5839 - root_mean_squared_error: 0.6390 - val_loss: 27.8847 - val_root_mean_squared_error: 0.5463\n",
            "Epoch 64/300\n",
            "2/2 [==============================] - 0s 72ms/step - loss: 28.2163 - root_mean_squared_error: 0.6318 - val_loss: 27.8297 - val_root_mean_squared_error: 0.5472\n",
            "Epoch 65/300\n",
            "2/2 [==============================] - 0s 58ms/step - loss: 27.4805 - root_mean_squared_error: 0.5472 - val_loss: 27.7652 - val_root_mean_squared_error: 0.5485\n",
            "Epoch 66/300\n",
            "2/2 [==============================] - 0s 58ms/step - loss: 29.2618 - root_mean_squared_error: 0.6580 - val_loss: 27.6933 - val_root_mean_squared_error: 0.5506\n",
            "Epoch 67/300\n",
            "2/2 [==============================] - 0s 71ms/step - loss: 28.9139 - root_mean_squared_error: 0.6270 - val_loss: 27.6267 - val_root_mean_squared_error: 0.5546\n",
            "Epoch 68/300\n",
            "2/2 [==============================] - 0s 63ms/step - loss: 25.3773 - root_mean_squared_error: 0.5574 - val_loss: 27.5161 - val_root_mean_squared_error: 0.5538\n",
            "Epoch 69/300\n",
            "2/2 [==============================] - 0s 63ms/step - loss: 26.9832 - root_mean_squared_error: 0.5696 - val_loss: 27.3807 - val_root_mean_squared_error: 0.5475\n",
            "Epoch 70/300\n",
            "2/2 [==============================] - 0s 63ms/step - loss: 28.0089 - root_mean_squared_error: 0.5713 - val_loss: 27.2652 - val_root_mean_squared_error: 0.5431\n",
            "Epoch 71/300\n",
            "2/2 [==============================] - 0s 65ms/step - loss: 27.6279 - root_mean_squared_error: 0.6013 - val_loss: 27.1666 - val_root_mean_squared_error: 0.5407\n",
            "Epoch 72/300\n",
            "2/2 [==============================] - 0s 69ms/step - loss: 29.0292 - root_mean_squared_error: 0.6152 - val_loss: 27.0862 - val_root_mean_squared_error: 0.5408\n",
            "Epoch 73/300\n",
            "2/2 [==============================] - 0s 61ms/step - loss: 27.9065 - root_mean_squared_error: 0.5800 - val_loss: 27.0212 - val_root_mean_squared_error: 0.5411\n",
            "Epoch 74/300\n",
            "2/2 [==============================] - 0s 53ms/step - loss: 28.0356 - root_mean_squared_error: 0.6124 - val_loss: 26.9869 - val_root_mean_squared_error: 0.5455\n",
            "Epoch 75/300\n",
            "2/2 [==============================] - 0s 64ms/step - loss: 25.0931 - root_mean_squared_error: 0.5259 - val_loss: 26.9473 - val_root_mean_squared_error: 0.5485\n",
            "Epoch 76/300\n",
            "2/2 [==============================] - 0s 62ms/step - loss: 25.4874 - root_mean_squared_error: 0.5278 - val_loss: 26.9008 - val_root_mean_squared_error: 0.5508\n",
            "Epoch 77/300\n",
            "2/2 [==============================] - 0s 67ms/step - loss: 24.2637 - root_mean_squared_error: 0.5181 - val_loss: 26.8509 - val_root_mean_squared_error: 0.5516\n",
            "Epoch 78/300\n",
            "2/2 [==============================] - 0s 70ms/step - loss: 25.9285 - root_mean_squared_error: 0.5552 - val_loss: 26.7685 - val_root_mean_squared_error: 0.5485\n",
            "Epoch 79/300\n",
            "2/2 [==============================] - 0s 84ms/step - loss: 25.6574 - root_mean_squared_error: 0.5692 - val_loss: 26.6712 - val_root_mean_squared_error: 0.5451\n",
            "Epoch 80/300\n",
            "2/2 [==============================] - 0s 49ms/step - loss: 27.6035 - root_mean_squared_error: 0.5859 - val_loss: 26.5872 - val_root_mean_squared_error: 0.5438\n",
            "Epoch 81/300\n",
            "2/2 [==============================] - 0s 59ms/step - loss: 26.5150 - root_mean_squared_error: 0.5758 - val_loss: 26.4909 - val_root_mean_squared_error: 0.5412\n",
            "Epoch 82/300\n",
            "2/2 [==============================] - 0s 58ms/step - loss: 25.7260 - root_mean_squared_error: 0.5415 - val_loss: 26.3765 - val_root_mean_squared_error: 0.5361\n",
            "Epoch 83/300\n",
            "2/2 [==============================] - 0s 60ms/step - loss: 25.5825 - root_mean_squared_error: 0.5572 - val_loss: 26.2696 - val_root_mean_squared_error: 0.5347\n",
            "Epoch 84/300\n",
            "2/2 [==============================] - 0s 61ms/step - loss: 23.9670 - root_mean_squared_error: 0.5223 - val_loss: 26.1677 - val_root_mean_squared_error: 0.5348\n",
            "Epoch 85/300\n",
            "2/2 [==============================] - 0s 66ms/step - loss: 26.9270 - root_mean_squared_error: 0.5490 - val_loss: 26.0488 - val_root_mean_squared_error: 0.5306\n",
            "Epoch 86/300\n",
            "2/2 [==============================] - 0s 52ms/step - loss: 28.9204 - root_mean_squared_error: 0.6365 - val_loss: 25.9342 - val_root_mean_squared_error: 0.5232\n",
            "Epoch 87/300\n",
            "2/2 [==============================] - 0s 67ms/step - loss: 26.1238 - root_mean_squared_error: 0.5868 - val_loss: 25.8778 - val_root_mean_squared_error: 0.5160\n",
            "Epoch 88/300\n",
            "2/2 [==============================] - 0s 53ms/step - loss: 24.7091 - root_mean_squared_error: 0.5141 - val_loss: 25.8430 - val_root_mean_squared_error: 0.5097\n",
            "Epoch 89/300\n",
            "2/2 [==============================] - 0s 50ms/step - loss: 25.5707 - root_mean_squared_error: 0.5351 - val_loss: 25.9525 - val_root_mean_squared_error: 0.5039\n",
            "Epoch 90/300\n",
            "2/2 [==============================] - 0s 64ms/step - loss: 25.4165 - root_mean_squared_error: 0.5115 - val_loss: 26.0645 - val_root_mean_squared_error: 0.5000\n",
            "Epoch 91/300\n",
            "2/2 [==============================] - 0s 54ms/step - loss: 26.3205 - root_mean_squared_error: 0.5197 - val_loss: 25.9747 - val_root_mean_squared_error: 0.5011\n",
            "Epoch 92/300\n",
            "2/2 [==============================] - 0s 55ms/step - loss: 26.7604 - root_mean_squared_error: 0.5328 - val_loss: 25.8587 - val_root_mean_squared_error: 0.5035\n",
            "Epoch 93/300\n",
            "2/2 [==============================] - 0s 49ms/step - loss: 25.2200 - root_mean_squared_error: 0.5199 - val_loss: 25.7579 - val_root_mean_squared_error: 0.5048\n",
            "Epoch 94/300\n",
            "2/2 [==============================] - 0s 54ms/step - loss: 25.8346 - root_mean_squared_error: 0.5272 - val_loss: 25.7215 - val_root_mean_squared_error: 0.5030\n",
            "Epoch 95/300\n",
            "2/2 [==============================] - 0s 65ms/step - loss: 24.8141 - root_mean_squared_error: 0.5119 - val_loss: 25.6440 - val_root_mean_squared_error: 0.5031\n",
            "Epoch 96/300\n",
            "2/2 [==============================] - 0s 62ms/step - loss: 23.5467 - root_mean_squared_error: 0.4591 - val_loss: 25.4591 - val_root_mean_squared_error: 0.5070\n",
            "Epoch 97/300\n",
            "2/2 [==============================] - 0s 64ms/step - loss: 24.3235 - root_mean_squared_error: 0.4724 - val_loss: 25.1887 - val_root_mean_squared_error: 0.5149\n",
            "Epoch 98/300\n",
            "2/2 [==============================] - 0s 45ms/step - loss: 26.8142 - root_mean_squared_error: 0.5458 - val_loss: 24.9857 - val_root_mean_squared_error: 0.5221\n",
            "Epoch 99/300\n",
            "2/2 [==============================] - 0s 60ms/step - loss: 27.2214 - root_mean_squared_error: 0.5830 - val_loss: 24.7946 - val_root_mean_squared_error: 0.5287\n",
            "Epoch 100/300\n",
            "2/2 [==============================] - 0s 64ms/step - loss: 27.6618 - root_mean_squared_error: 0.6559 - val_loss: 24.7148 - val_root_mean_squared_error: 0.5312\n",
            "Epoch 101/300\n",
            "2/2 [==============================] - 0s 44ms/step - loss: 24.9532 - root_mean_squared_error: 0.5266 - val_loss: 24.6887 - val_root_mean_squared_error: 0.5342\n",
            "Epoch 102/300\n",
            "2/2 [==============================] - 0s 36ms/step - loss: 28.7503 - root_mean_squared_error: 0.6524 - val_loss: 24.6371 - val_root_mean_squared_error: 0.5341\n",
            "Epoch 103/300\n",
            "2/2 [==============================] - 0s 33ms/step - loss: 32.8363 - root_mean_squared_error: 0.7060 - val_loss: 24.5747 - val_root_mean_squared_error: 0.5322\n",
            "Epoch 104/300\n",
            "2/2 [==============================] - 0s 32ms/step - loss: 24.2019 - root_mean_squared_error: 0.5269 - val_loss: 24.5310 - val_root_mean_squared_error: 0.5309\n",
            "Epoch 105/300\n",
            "2/2 [==============================] - 0s 31ms/step - loss: 25.3017 - root_mean_squared_error: 0.5606 - val_loss: 24.5135 - val_root_mean_squared_error: 0.5315\n",
            "Epoch 106/300\n",
            "2/2 [==============================] - 0s 35ms/step - loss: 23.9373 - root_mean_squared_error: 0.5069 - val_loss: 24.5138 - val_root_mean_squared_error: 0.5310\n",
            "Epoch 107/300\n",
            "2/2 [==============================] - 0s 56ms/step - loss: 27.8381 - root_mean_squared_error: 0.6009 - val_loss: 24.5272 - val_root_mean_squared_error: 0.5311\n",
            "Epoch 108/300\n",
            "2/2 [==============================] - 0s 33ms/step - loss: 27.1329 - root_mean_squared_error: 0.6086 - val_loss: 24.5457 - val_root_mean_squared_error: 0.5284\n",
            "Epoch 109/300\n",
            "2/2 [==============================] - 0s 34ms/step - loss: 25.2522 - root_mean_squared_error: 0.5569 - val_loss: 24.5676 - val_root_mean_squared_error: 0.5275\n",
            "Epoch 110/300\n",
            "2/2 [==============================] - 0s 31ms/step - loss: 28.9596 - root_mean_squared_error: 0.6716 - val_loss: 24.5683 - val_root_mean_squared_error: 0.5224\n",
            "Epoch 111/300\n",
            "2/2 [==============================] - 0s 32ms/step - loss: 23.4385 - root_mean_squared_error: 0.5076 - val_loss: 24.6244 - val_root_mean_squared_error: 0.5195\n",
            "Epoch 112/300\n",
            "2/2 [==============================] - 0s 35ms/step - loss: 22.5861 - root_mean_squared_error: 0.4799 - val_loss: 24.7001 - val_root_mean_squared_error: 0.5182\n",
            "Epoch 113/300\n",
            "2/2 [==============================] - 0s 35ms/step - loss: 23.7649 - root_mean_squared_error: 0.5195 - val_loss: 24.7959 - val_root_mean_squared_error: 0.5153\n",
            "Epoch 114/300\n",
            "2/2 [==============================] - 0s 38ms/step - loss: 27.6872 - root_mean_squared_error: 0.5906 - val_loss: 24.7753 - val_root_mean_squared_error: 0.5176\n",
            "Epoch 115/300\n",
            "2/2 [==============================] - 0s 33ms/step - loss: 23.8699 - root_mean_squared_error: 0.4883 - val_loss: 24.7520 - val_root_mean_squared_error: 0.5203\n",
            "Epoch 116/300\n",
            "2/2 [==============================] - 0s 33ms/step - loss: 22.2548 - root_mean_squared_error: 0.4860 - val_loss: 24.7705 - val_root_mean_squared_error: 0.5227\n",
            "Epoch 117/300\n",
            "2/2 [==============================] - 0s 33ms/step - loss: 25.8143 - root_mean_squared_error: 0.5563 - val_loss: 24.7908 - val_root_mean_squared_error: 0.5266\n",
            "Epoch 118/300\n",
            "2/2 [==============================] - 0s 35ms/step - loss: 27.1285 - root_mean_squared_error: 0.5862 - val_loss: 24.8223 - val_root_mean_squared_error: 0.5304\n",
            "Epoch 119/300\n",
            "2/2 [==============================] - 0s 35ms/step - loss: 24.5886 - root_mean_squared_error: 0.5216 - val_loss: 24.8626 - val_root_mean_squared_error: 0.5347\n",
            "Epoch 120/300\n",
            "2/2 [==============================] - 0s 39ms/step - loss: 29.7075 - root_mean_squared_error: 0.6674 - val_loss: 24.9143 - val_root_mean_squared_error: 0.5393\n",
            "Epoch 121/300\n",
            "2/2 [==============================] - 0s 33ms/step - loss: 25.8562 - root_mean_squared_error: 0.5704 - val_loss: 24.9755 - val_root_mean_squared_error: 0.5454\n",
            "Epoch 122/300\n",
            "2/2 [==============================] - 0s 32ms/step - loss: 24.3886 - root_mean_squared_error: 0.5331 - val_loss: 24.9303 - val_root_mean_squared_error: 0.5443\n",
            "Epoch 123/300\n",
            "2/2 [==============================] - 0s 34ms/step - loss: 22.6663 - root_mean_squared_error: 0.4942 - val_loss: 24.8809 - val_root_mean_squared_error: 0.5441\n",
            "Epoch 124/300\n",
            "2/2 [==============================] - 0s 34ms/step - loss: 23.2932 - root_mean_squared_error: 0.4969 - val_loss: 24.8235 - val_root_mean_squared_error: 0.5454\n",
            "Epoch 125/300\n",
            "2/2 [==============================] - 0s 32ms/step - loss: 27.3768 - root_mean_squared_error: 0.6406 - val_loss: 24.8173 - val_root_mean_squared_error: 0.5512\n",
            "Epoch 126/300\n",
            "2/2 [==============================] - 0s 33ms/step - loss: 24.7137 - root_mean_squared_error: 0.5530 - val_loss: 24.8312 - val_root_mean_squared_error: 0.5582\n",
            "Epoch 127/300\n",
            "2/2 [==============================] - 0s 38ms/step - loss: 28.5154 - root_mean_squared_error: 0.6445 - val_loss: 24.8555 - val_root_mean_squared_error: 0.5655\n",
            "Epoch 128/300\n",
            "2/2 [==============================] - 0s 34ms/step - loss: 22.8794 - root_mean_squared_error: 0.5259 - val_loss: 24.8307 - val_root_mean_squared_error: 0.5681\n",
            "Epoch 129/300\n",
            "2/2 [==============================] - 0s 34ms/step - loss: 27.1283 - root_mean_squared_error: 0.6058 - val_loss: 24.7341 - val_root_mean_squared_error: 0.5664\n",
            "Epoch 130/300\n",
            "2/2 [==============================] - 0s 33ms/step - loss: 28.4480 - root_mean_squared_error: 0.6655 - val_loss: 24.6423 - val_root_mean_squared_error: 0.5631\n",
            "Epoch 131/300\n",
            "2/2 [==============================] - 0s 36ms/step - loss: 29.2446 - root_mean_squared_error: 0.6814 - val_loss: 24.5571 - val_root_mean_squared_error: 0.5586\n",
            "Epoch 132/300\n",
            "2/2 [==============================] - 0s 33ms/step - loss: 27.2941 - root_mean_squared_error: 0.6068 - val_loss: 24.4694 - val_root_mean_squared_error: 0.5475\n",
            "Epoch 133/300\n",
            "2/2 [==============================] - 0s 34ms/step - loss: 26.8431 - root_mean_squared_error: 0.6297 - val_loss: 24.4142 - val_root_mean_squared_error: 0.5372\n",
            "Epoch 134/300\n",
            "2/2 [==============================] - 0s 63ms/step - loss: 24.4546 - root_mean_squared_error: 0.5586 - val_loss: 24.3683 - val_root_mean_squared_error: 0.5331\n",
            "Epoch 135/300\n",
            "2/2 [==============================] - 0s 33ms/step - loss: 24.3443 - root_mean_squared_error: 0.5062 - val_loss: 24.3654 - val_root_mean_squared_error: 0.5324\n",
            "Epoch 136/300\n",
            "2/2 [==============================] - 0s 32ms/step - loss: 24.6712 - root_mean_squared_error: 0.5292 - val_loss: 24.3692 - val_root_mean_squared_error: 0.5335\n",
            "Epoch 137/300\n",
            "2/2 [==============================] - 0s 35ms/step - loss: 26.8034 - root_mean_squared_error: 0.6133 - val_loss: 24.3778 - val_root_mean_squared_error: 0.5336\n",
            "Epoch 138/300\n",
            "2/2 [==============================] - 0s 33ms/step - loss: 22.6881 - root_mean_squared_error: 0.4867 - val_loss: 24.3879 - val_root_mean_squared_error: 0.5303\n",
            "Epoch 139/300\n",
            "2/2 [==============================] - 0s 34ms/step - loss: 25.1450 - root_mean_squared_error: 0.5593 - val_loss: 24.3862 - val_root_mean_squared_error: 0.5287\n",
            "Epoch 140/300\n",
            "2/2 [==============================] - 0s 35ms/step - loss: 23.9436 - root_mean_squared_error: 0.5345 - val_loss: 24.4112 - val_root_mean_squared_error: 0.5265\n",
            "Epoch 141/300\n",
            "2/2 [==============================] - 0s 42ms/step - loss: 25.6011 - root_mean_squared_error: 0.5737 - val_loss: 24.4048 - val_root_mean_squared_error: 0.5294\n",
            "Epoch 142/300\n",
            "2/2 [==============================] - 0s 34ms/step - loss: 27.1093 - root_mean_squared_error: 0.5693 - val_loss: 24.3534 - val_root_mean_squared_error: 0.5371\n",
            "Epoch 143/300\n",
            "2/2 [==============================] - 0s 32ms/step - loss: 25.0674 - root_mean_squared_error: 0.5862 - val_loss: 24.3274 - val_root_mean_squared_error: 0.5483\n",
            "Epoch 144/300\n",
            "2/2 [==============================] - 0s 43ms/step - loss: 29.9923 - root_mean_squared_error: 0.7100 - val_loss: 24.3328 - val_root_mean_squared_error: 0.5564\n",
            "Epoch 145/300\n",
            "2/2 [==============================] - 0s 33ms/step - loss: 26.6498 - root_mean_squared_error: 0.5927 - val_loss: 24.3297 - val_root_mean_squared_error: 0.5531\n",
            "Epoch 146/300\n",
            "2/2 [==============================] - 0s 35ms/step - loss: 25.2337 - root_mean_squared_error: 0.5504 - val_loss: 24.3109 - val_root_mean_squared_error: 0.5428\n",
            "Epoch 147/300\n",
            "2/2 [==============================] - 0s 37ms/step - loss: 26.3656 - root_mean_squared_error: 0.5914 - val_loss: 24.3149 - val_root_mean_squared_error: 0.5342\n",
            "Epoch 148/300\n",
            "2/2 [==============================] - 0s 35ms/step - loss: 27.8883 - root_mean_squared_error: 0.6251 - val_loss: 24.3663 - val_root_mean_squared_error: 0.5233\n",
            "Epoch 149/300\n",
            "2/2 [==============================] - 0s 36ms/step - loss: 27.5739 - root_mean_squared_error: 0.6117 - val_loss: 24.4273 - val_root_mean_squared_error: 0.5158\n",
            "Epoch 150/300\n",
            "2/2 [==============================] - 0s 39ms/step - loss: 24.8451 - root_mean_squared_error: 0.5235 - val_loss: 24.4997 - val_root_mean_squared_error: 0.5083\n",
            "Epoch 151/300\n",
            "2/2 [==============================] - 0s 35ms/step - loss: 27.5536 - root_mean_squared_error: 0.6087 - val_loss: 24.6053 - val_root_mean_squared_error: 0.4997\n",
            "Epoch 152/300\n",
            "2/2 [==============================] - 0s 55ms/step - loss: 28.8449 - root_mean_squared_error: 0.6700 - val_loss: 24.6193 - val_root_mean_squared_error: 0.4993\n",
            "Epoch 153/300\n",
            "2/2 [==============================] - 0s 38ms/step - loss: 27.3253 - root_mean_squared_error: 0.5459 - val_loss: 24.5291 - val_root_mean_squared_error: 0.5052\n",
            "Epoch 154/300\n",
            "2/2 [==============================] - 0s 36ms/step - loss: 24.7243 - root_mean_squared_error: 0.5491 - val_loss: 24.4381 - val_root_mean_squared_error: 0.5140\n",
            "Epoch 155/300\n",
            "2/2 [==============================] - 0s 43ms/step - loss: 27.1331 - root_mean_squared_error: 0.5849 - val_loss: 24.3467 - val_root_mean_squared_error: 0.5238\n",
            "Epoch 156/300\n",
            "2/2 [==============================] - 0s 35ms/step - loss: 26.4747 - root_mean_squared_error: 0.5556 - val_loss: 24.3067 - val_root_mean_squared_error: 0.5303\n",
            "Epoch 157/300\n",
            "2/2 [==============================] - 0s 36ms/step - loss: 28.8737 - root_mean_squared_error: 0.6168 - val_loss: 24.3158 - val_root_mean_squared_error: 0.5326\n",
            "Epoch 158/300\n",
            "2/2 [==============================] - 0s 34ms/step - loss: 23.1061 - root_mean_squared_error: 0.5305 - val_loss: 24.3135 - val_root_mean_squared_error: 0.5375\n",
            "Epoch 159/300\n",
            "2/2 [==============================] - 0s 34ms/step - loss: 23.7508 - root_mean_squared_error: 0.5124 - val_loss: 24.3403 - val_root_mean_squared_error: 0.5484\n",
            "Epoch 160/300\n",
            "2/2 [==============================] - 0s 34ms/step - loss: 27.1865 - root_mean_squared_error: 0.5907 - val_loss: 24.4208 - val_root_mean_squared_error: 0.5612\n",
            "Epoch 161/300\n",
            "2/2 [==============================] - 0s 37ms/step - loss: 36.2669 - root_mean_squared_error: 0.7626 - val_loss: 24.6931 - val_root_mean_squared_error: 0.5719\n",
            "Epoch 162/300\n",
            "2/2 [==============================] - 0s 48ms/step - loss: 22.9718 - root_mean_squared_error: 0.5315 - val_loss: 24.7074 - val_root_mean_squared_error: 0.5744\n",
            "Epoch 163/300\n",
            "2/2 [==============================] - 0s 36ms/step - loss: 26.7550 - root_mean_squared_error: 0.6445 - val_loss: 24.3875 - val_root_mean_squared_error: 0.5664\n",
            "Epoch 164/300\n",
            "2/2 [==============================] - 0s 36ms/step - loss: 26.3205 - root_mean_squared_error: 0.5943 - val_loss: 24.2296 - val_root_mean_squared_error: 0.5580\n",
            "Epoch 165/300\n",
            "2/2 [==============================] - 0s 35ms/step - loss: 26.5970 - root_mean_squared_error: 0.6163 - val_loss: 24.1748 - val_root_mean_squared_error: 0.5515\n",
            "Epoch 166/300\n",
            "2/2 [==============================] - 0s 32ms/step - loss: 26.4587 - root_mean_squared_error: 0.6062 - val_loss: 24.1489 - val_root_mean_squared_error: 0.5447\n",
            "Epoch 167/300\n",
            "2/2 [==============================] - 0s 33ms/step - loss: 24.2295 - root_mean_squared_error: 0.5297 - val_loss: 24.1322 - val_root_mean_squared_error: 0.5395\n",
            "Epoch 168/300\n",
            "2/2 [==============================] - 0s 42ms/step - loss: 26.6852 - root_mean_squared_error: 0.5854 - val_loss: 24.1932 - val_root_mean_squared_error: 0.5284\n",
            "Epoch 169/300\n",
            "2/2 [==============================] - 0s 34ms/step - loss: 24.9335 - root_mean_squared_error: 0.5433 - val_loss: 24.3337 - val_root_mean_squared_error: 0.5164\n",
            "Epoch 170/300\n",
            "2/2 [==============================] - 0s 36ms/step - loss: 24.4146 - root_mean_squared_error: 0.5072 - val_loss: 24.4549 - val_root_mean_squared_error: 0.5066\n",
            "Epoch 171/300\n",
            "2/2 [==============================] - 0s 34ms/step - loss: 24.1690 - root_mean_squared_error: 0.5058 - val_loss: 24.5851 - val_root_mean_squared_error: 0.4981\n",
            "Epoch 172/300\n",
            "2/2 [==============================] - 0s 35ms/step - loss: 31.7322 - root_mean_squared_error: 0.6616 - val_loss: 24.8801 - val_root_mean_squared_error: 0.4904\n",
            "Epoch 173/300\n",
            "2/2 [==============================] - 0s 32ms/step - loss: 27.7814 - root_mean_squared_error: 0.5519 - val_loss: 25.0095 - val_root_mean_squared_error: 0.4880\n",
            "Epoch 174/300\n",
            "2/2 [==============================] - 0s 37ms/step - loss: 24.3184 - root_mean_squared_error: 0.4940 - val_loss: 24.9046 - val_root_mean_squared_error: 0.4909\n",
            "Epoch 175/300\n",
            "2/2 [==============================] - 0s 36ms/step - loss: 26.2290 - root_mean_squared_error: 0.5174 - val_loss: 24.7121 - val_root_mean_squared_error: 0.4980\n",
            "Epoch 176/300\n",
            "2/2 [==============================] - 0s 38ms/step - loss: 24.0872 - root_mean_squared_error: 0.4859 - val_loss: 24.4611 - val_root_mean_squared_error: 0.5134\n",
            "Epoch 177/300\n",
            "2/2 [==============================] - 0s 42ms/step - loss: 24.3693 - root_mean_squared_error: 0.4989 - val_loss: 24.2348 - val_root_mean_squared_error: 0.5369\n",
            "Epoch 178/300\n",
            "2/2 [==============================] - 0s 34ms/step - loss: 25.2939 - root_mean_squared_error: 0.5567 - val_loss: 24.2276 - val_root_mean_squared_error: 0.5549\n",
            "Epoch 179/300\n",
            "2/2 [==============================] - 0s 34ms/step - loss: 24.0405 - root_mean_squared_error: 0.5364 - val_loss: 24.2441 - val_root_mean_squared_error: 0.5655\n",
            "Epoch 180/300\n",
            "2/2 [==============================] - 0s 42ms/step - loss: 24.1440 - root_mean_squared_error: 0.5434 - val_loss: 24.2591 - val_root_mean_squared_error: 0.5679\n",
            "Epoch 181/300\n",
            "2/2 [==============================] - 0s 37ms/step - loss: 25.3222 - root_mean_squared_error: 0.5783 - val_loss: 24.1701 - val_root_mean_squared_error: 0.5593\n",
            "Epoch 182/300\n",
            "2/2 [==============================] - 0s 33ms/step - loss: 27.5473 - root_mean_squared_error: 0.6123 - val_loss: 24.0363 - val_root_mean_squared_error: 0.5451\n",
            "Epoch 183/300\n",
            "2/2 [==============================] - 0s 36ms/step - loss: 22.6671 - root_mean_squared_error: 0.5094 - val_loss: 23.9878 - val_root_mean_squared_error: 0.5359\n",
            "Epoch 184/300\n",
            "2/2 [==============================] - 0s 40ms/step - loss: 27.6886 - root_mean_squared_error: 0.6065 - val_loss: 23.9503 - val_root_mean_squared_error: 0.5332\n",
            "Epoch 185/300\n",
            "2/2 [==============================] - 0s 55ms/step - loss: 26.1440 - root_mean_squared_error: 0.5568 - val_loss: 23.8890 - val_root_mean_squared_error: 0.5374\n",
            "Epoch 186/300\n",
            "2/2 [==============================] - 0s 36ms/step - loss: 26.9300 - root_mean_squared_error: 0.6014 - val_loss: 23.7987 - val_root_mean_squared_error: 0.5438\n",
            "Epoch 187/300\n",
            "2/2 [==============================] - 0s 39ms/step - loss: 24.3130 - root_mean_squared_error: 0.5710 - val_loss: 23.7579 - val_root_mean_squared_error: 0.5489\n",
            "Epoch 188/300\n",
            "2/2 [==============================] - 0s 35ms/step - loss: 24.2463 - root_mean_squared_error: 0.5332 - val_loss: 23.7554 - val_root_mean_squared_error: 0.5572\n",
            "Epoch 189/300\n",
            "2/2 [==============================] - 0s 37ms/step - loss: 24.1502 - root_mean_squared_error: 0.5335 - val_loss: 23.7520 - val_root_mean_squared_error: 0.5602\n",
            "Epoch 190/300\n",
            "2/2 [==============================] - 0s 34ms/step - loss: 26.3048 - root_mean_squared_error: 0.6192 - val_loss: 23.7469 - val_root_mean_squared_error: 0.5573\n",
            "Epoch 191/300\n",
            "2/2 [==============================] - 0s 54ms/step - loss: 25.2952 - root_mean_squared_error: 0.5816 - val_loss: 23.7566 - val_root_mean_squared_error: 0.5534\n",
            "Epoch 192/300\n",
            "2/2 [==============================] - 0s 36ms/step - loss: 23.2340 - root_mean_squared_error: 0.5045 - val_loss: 23.7698 - val_root_mean_squared_error: 0.5549\n",
            "Epoch 193/300\n",
            "2/2 [==============================] - 0s 37ms/step - loss: 24.5907 - root_mean_squared_error: 0.5562 - val_loss: 23.7793 - val_root_mean_squared_error: 0.5590\n",
            "Epoch 194/300\n",
            "2/2 [==============================] - 0s 33ms/step - loss: 29.3080 - root_mean_squared_error: 0.6681 - val_loss: 23.7785 - val_root_mean_squared_error: 0.5633\n",
            "Epoch 195/300\n",
            "2/2 [==============================] - 0s 36ms/step - loss: 22.0121 - root_mean_squared_error: 0.5024 - val_loss: 23.7876 - val_root_mean_squared_error: 0.5725\n",
            "Epoch 196/300\n",
            "2/2 [==============================] - 0s 34ms/step - loss: 22.6969 - root_mean_squared_error: 0.5353 - val_loss: 23.7906 - val_root_mean_squared_error: 0.5805\n",
            "Epoch 197/300\n",
            "2/2 [==============================] - 0s 45ms/step - loss: 25.4125 - root_mean_squared_error: 0.5869 - val_loss: 23.8890 - val_root_mean_squared_error: 0.5867\n",
            "Epoch 198/300\n",
            "2/2 [==============================] - 0s 35ms/step - loss: 24.4401 - root_mean_squared_error: 0.5921 - val_loss: 23.7191 - val_root_mean_squared_error: 0.5810\n",
            "Epoch 199/300\n",
            "2/2 [==============================] - 0s 53ms/step - loss: 24.3551 - root_mean_squared_error: 0.5689 - val_loss: 23.6510 - val_root_mean_squared_error: 0.5670\n",
            "Epoch 200/300\n",
            "2/2 [==============================] - 0s 34ms/step - loss: 23.4232 - root_mean_squared_error: 0.5279 - val_loss: 23.5801 - val_root_mean_squared_error: 0.5480\n",
            "Epoch 201/300\n",
            "2/2 [==============================] - 0s 56ms/step - loss: 25.6649 - root_mean_squared_error: 0.5640 - val_loss: 23.6422 - val_root_mean_squared_error: 0.5315\n",
            "Epoch 202/300\n",
            "2/2 [==============================] - 0s 40ms/step - loss: 25.2510 - root_mean_squared_error: 0.5547 - val_loss: 23.7202 - val_root_mean_squared_error: 0.5200\n",
            "Epoch 203/300\n",
            "2/2 [==============================] - 0s 37ms/step - loss: 24.2531 - root_mean_squared_error: 0.5023 - val_loss: 23.7756 - val_root_mean_squared_error: 0.5168\n",
            "Epoch 204/300\n",
            "2/2 [==============================] - 0s 36ms/step - loss: 26.5878 - root_mean_squared_error: 0.5756 - val_loss: 23.6903 - val_root_mean_squared_error: 0.5217\n",
            "Epoch 205/300\n",
            "2/2 [==============================] - 0s 37ms/step - loss: 26.7176 - root_mean_squared_error: 0.5914 - val_loss: 23.6842 - val_root_mean_squared_error: 0.5247\n",
            "Epoch 206/300\n",
            "2/2 [==============================] - 0s 36ms/step - loss: 28.7738 - root_mean_squared_error: 0.6391 - val_loss: 23.6532 - val_root_mean_squared_error: 0.5308\n",
            "Epoch 207/300\n",
            "2/2 [==============================] - 0s 39ms/step - loss: 23.9222 - root_mean_squared_error: 0.5163 - val_loss: 23.5947 - val_root_mean_squared_error: 0.5414\n",
            "Epoch 208/300\n",
            "2/2 [==============================] - 0s 40ms/step - loss: 24.3758 - root_mean_squared_error: 0.5236 - val_loss: 23.5865 - val_root_mean_squared_error: 0.5512\n",
            "Epoch 209/300\n",
            "2/2 [==============================] - 0s 33ms/step - loss: 22.6454 - root_mean_squared_error: 0.4980 - val_loss: 23.6653 - val_root_mean_squared_error: 0.5608\n",
            "Epoch 210/300\n",
            "2/2 [==============================] - 0s 36ms/step - loss: 25.0912 - root_mean_squared_error: 0.5796 - val_loss: 23.7427 - val_root_mean_squared_error: 0.5674\n",
            "Epoch 211/300\n",
            "2/2 [==============================] - 0s 37ms/step - loss: 27.2833 - root_mean_squared_error: 0.6034 - val_loss: 23.8013 - val_root_mean_squared_error: 0.5664\n",
            "Epoch 212/300\n",
            "2/2 [==============================] - 0s 34ms/step - loss: 24.1232 - root_mean_squared_error: 0.5555 - val_loss: 23.8273 - val_root_mean_squared_error: 0.5612\n",
            "Epoch 213/300\n",
            "2/2 [==============================] - 0s 38ms/step - loss: 24.0607 - root_mean_squared_error: 0.5545 - val_loss: 23.8354 - val_root_mean_squared_error: 0.5553\n",
            "Epoch 214/300\n",
            "2/2 [==============================] - 0s 54ms/step - loss: 24.4112 - root_mean_squared_error: 0.5348 - val_loss: 23.8530 - val_root_mean_squared_error: 0.5483\n",
            "Epoch 215/300\n",
            "2/2 [==============================] - 0s 35ms/step - loss: 27.5592 - root_mean_squared_error: 0.6118 - val_loss: 23.9196 - val_root_mean_squared_error: 0.5414\n",
            "Epoch 216/300\n",
            "2/2 [==============================] - 0s 37ms/step - loss: 26.0491 - root_mean_squared_error: 0.5840 - val_loss: 23.9519 - val_root_mean_squared_error: 0.5399\n",
            "Epoch 217/300\n",
            "2/2 [==============================] - 0s 41ms/step - loss: 23.9844 - root_mean_squared_error: 0.5318 - val_loss: 23.9621 - val_root_mean_squared_error: 0.5373\n",
            "Epoch 218/300\n",
            "2/2 [==============================] - 0s 60ms/step - loss: 24.7068 - root_mean_squared_error: 0.5828 - val_loss: 24.0073 - val_root_mean_squared_error: 0.5315\n",
            "Epoch 219/300\n",
            "2/2 [==============================] - 0s 35ms/step - loss: 21.5937 - root_mean_squared_error: 0.4951 - val_loss: 24.0530 - val_root_mean_squared_error: 0.5264\n",
            "Epoch 220/300\n",
            "2/2 [==============================] - 0s 39ms/step - loss: 24.4794 - root_mean_squared_error: 0.5429 - val_loss: 24.1465 - val_root_mean_squared_error: 0.5175\n",
            "Epoch 221/300\n",
            "2/2 [==============================] - 0s 37ms/step - loss: 25.1207 - root_mean_squared_error: 0.5047 - val_loss: 24.1932 - val_root_mean_squared_error: 0.5121\n",
            "Epoch 222/300\n",
            "2/2 [==============================] - 0s 37ms/step - loss: 28.5873 - root_mean_squared_error: 0.6240 - val_loss: 24.2186 - val_root_mean_squared_error: 0.5106\n",
            "Epoch 223/300\n",
            "2/2 [==============================] - 0s 39ms/step - loss: 25.6791 - root_mean_squared_error: 0.5272 - val_loss: 24.1762 - val_root_mean_squared_error: 0.5152\n",
            "Epoch 224/300\n",
            "2/2 [==============================] - 0s 35ms/step - loss: 27.4289 - root_mean_squared_error: 0.5612 - val_loss: 24.0917 - val_root_mean_squared_error: 0.5239\n",
            "Epoch 225/300\n",
            "2/2 [==============================] - 0s 33ms/step - loss: 24.2859 - root_mean_squared_error: 0.5475 - val_loss: 23.9688 - val_root_mean_squared_error: 0.5357\n",
            "Epoch 226/300\n",
            "2/2 [==============================] - 0s 34ms/step - loss: 24.7936 - root_mean_squared_error: 0.6070 - val_loss: 23.8514 - val_root_mean_squared_error: 0.5510\n",
            "Epoch 227/300\n",
            "2/2 [==============================] - 0s 42ms/step - loss: 27.8613 - root_mean_squared_error: 0.6279 - val_loss: 23.8599 - val_root_mean_squared_error: 0.5668\n",
            "Epoch 228/300\n",
            "2/2 [==============================] - 0s 35ms/step - loss: 26.7951 - root_mean_squared_error: 0.6223 - val_loss: 23.9034 - val_root_mean_squared_error: 0.5761\n",
            "Epoch 229/300\n",
            "2/2 [==============================] - 0s 37ms/step - loss: 23.0722 - root_mean_squared_error: 0.5342 - val_loss: 23.8258 - val_root_mean_squared_error: 0.5767\n",
            "Epoch 230/300\n",
            "2/2 [==============================] - 0s 55ms/step - loss: 26.6116 - root_mean_squared_error: 0.6388 - val_loss: 23.7027 - val_root_mean_squared_error: 0.5707\n",
            "Epoch 231/300\n",
            "2/2 [==============================] - 0s 37ms/step - loss: 23.5385 - root_mean_squared_error: 0.5441 - val_loss: 23.6351 - val_root_mean_squared_error: 0.5656\n",
            "Epoch 232/300\n",
            "2/2 [==============================] - 0s 44ms/step - loss: 25.1741 - root_mean_squared_error: 0.6056 - val_loss: 23.5998 - val_root_mean_squared_error: 0.5606\n",
            "Epoch 233/300\n",
            "2/2 [==============================] - 0s 40ms/step - loss: 27.9498 - root_mean_squared_error: 0.6543 - val_loss: 23.6951 - val_root_mean_squared_error: 0.5501\n",
            "Epoch 234/300\n",
            "2/2 [==============================] - 0s 42ms/step - loss: 23.8668 - root_mean_squared_error: 0.5321 - val_loss: 23.8522 - val_root_mean_squared_error: 0.5368\n",
            "Epoch 235/300\n",
            "2/2 [==============================] - 0s 37ms/step - loss: 25.7547 - root_mean_squared_error: 0.5679 - val_loss: 23.9702 - val_root_mean_squared_error: 0.5275\n",
            "Epoch 236/300\n",
            "2/2 [==============================] - 0s 51ms/step - loss: 23.9056 - root_mean_squared_error: 0.5086 - val_loss: 23.9392 - val_root_mean_squared_error: 0.5296\n",
            "Epoch 237/300\n",
            "2/2 [==============================] - 0s 36ms/step - loss: 25.0038 - root_mean_squared_error: 0.5453 - val_loss: 23.8145 - val_root_mean_squared_error: 0.5379\n",
            "Epoch 238/300\n",
            "2/2 [==============================] - 0s 36ms/step - loss: 23.5494 - root_mean_squared_error: 0.5242 - val_loss: 23.6407 - val_root_mean_squared_error: 0.5507\n",
            "Epoch 239/300\n",
            "2/2 [==============================] - 0s 45ms/step - loss: 23.1010 - root_mean_squared_error: 0.5308 - val_loss: 23.5261 - val_root_mean_squared_error: 0.5559\n",
            "Epoch 240/300\n",
            "2/2 [==============================] - 0s 40ms/step - loss: 27.4874 - root_mean_squared_error: 0.6273 - val_loss: 23.4293 - val_root_mean_squared_error: 0.5587\n",
            "Epoch 241/300\n",
            "2/2 [==============================] - 0s 38ms/step - loss: 24.7869 - root_mean_squared_error: 0.5717 - val_loss: 23.3261 - val_root_mean_squared_error: 0.5560\n",
            "Epoch 242/300\n",
            "2/2 [==============================] - 0s 37ms/step - loss: 24.1232 - root_mean_squared_error: 0.5550 - val_loss: 23.2349 - val_root_mean_squared_error: 0.5521\n",
            "Epoch 243/300\n",
            "2/2 [==============================] - 0s 53ms/step - loss: 26.5818 - root_mean_squared_error: 0.5856 - val_loss: 23.1518 - val_root_mean_squared_error: 0.5508\n",
            "Epoch 244/300\n",
            "2/2 [==============================] - 0s 55ms/step - loss: 28.1801 - root_mean_squared_error: 0.6622 - val_loss: 23.1017 - val_root_mean_squared_error: 0.5499\n",
            "Epoch 245/300\n",
            "2/2 [==============================] - 0s 37ms/step - loss: 25.4801 - root_mean_squared_error: 0.5521 - val_loss: 23.0614 - val_root_mean_squared_error: 0.5503\n",
            "Epoch 246/300\n",
            "2/2 [==============================] - 0s 37ms/step - loss: 23.6975 - root_mean_squared_error: 0.5229 - val_loss: 23.0132 - val_root_mean_squared_error: 0.5554\n",
            "Epoch 247/300\n",
            "2/2 [==============================] - 0s 40ms/step - loss: 27.6877 - root_mean_squared_error: 0.6144 - val_loss: 22.9911 - val_root_mean_squared_error: 0.5598\n",
            "Epoch 248/300\n",
            "2/2 [==============================] - 0s 36ms/step - loss: 22.0800 - root_mean_squared_error: 0.5014 - val_loss: 23.0181 - val_root_mean_squared_error: 0.5557\n",
            "Epoch 249/300\n",
            "2/2 [==============================] - 0s 36ms/step - loss: 22.6632 - root_mean_squared_error: 0.5018 - val_loss: 23.0276 - val_root_mean_squared_error: 0.5513\n",
            "Epoch 250/300\n",
            "2/2 [==============================] - 0s 34ms/step - loss: 25.3464 - root_mean_squared_error: 0.6177 - val_loss: 23.0468 - val_root_mean_squared_error: 0.5485\n",
            "Epoch 251/300\n",
            "2/2 [==============================] - 0s 40ms/step - loss: 26.2119 - root_mean_squared_error: 0.5796 - val_loss: 23.0702 - val_root_mean_squared_error: 0.5452\n",
            "Epoch 252/300\n",
            "2/2 [==============================] - 0s 35ms/step - loss: 25.2022 - root_mean_squared_error: 0.5746 - val_loss: 23.1330 - val_root_mean_squared_error: 0.5371\n",
            "Epoch 253/300\n",
            "2/2 [==============================] - 0s 39ms/step - loss: 27.5006 - root_mean_squared_error: 0.5871 - val_loss: 23.1755 - val_root_mean_squared_error: 0.5334\n",
            "Epoch 254/300\n",
            "2/2 [==============================] - 0s 36ms/step - loss: 25.1232 - root_mean_squared_error: 0.5692 - val_loss: 23.1985 - val_root_mean_squared_error: 0.5321\n",
            "Epoch 255/300\n",
            "2/2 [==============================] - 0s 36ms/step - loss: 26.0646 - root_mean_squared_error: 0.5598 - val_loss: 23.2180 - val_root_mean_squared_error: 0.5315\n",
            "Epoch 256/300\n",
            "2/2 [==============================] - 0s 48ms/step - loss: 22.6260 - root_mean_squared_error: 0.4978 - val_loss: 23.2603 - val_root_mean_squared_error: 0.5297\n",
            "Epoch 257/300\n",
            "2/2 [==============================] - 0s 41ms/step - loss: 24.7988 - root_mean_squared_error: 0.5375 - val_loss: 23.2534 - val_root_mean_squared_error: 0.5314\n",
            "Epoch 258/300\n",
            "2/2 [==============================] - 0s 36ms/step - loss: 25.2724 - root_mean_squared_error: 0.5672 - val_loss: 23.1492 - val_root_mean_squared_error: 0.5408\n",
            "Epoch 259/300\n",
            "2/2 [==============================] - 0s 42ms/step - loss: 23.7741 - root_mean_squared_error: 0.5415 - val_loss: 23.0591 - val_root_mean_squared_error: 0.5559\n",
            "Epoch 260/300\n",
            "2/2 [==============================] - 0s 36ms/step - loss: 26.1697 - root_mean_squared_error: 0.5689 - val_loss: 23.0813 - val_root_mean_squared_error: 0.5701\n",
            "Epoch 261/300\n",
            "2/2 [==============================] - 0s 36ms/step - loss: 24.5053 - root_mean_squared_error: 0.5573 - val_loss: 23.1600 - val_root_mean_squared_error: 0.5811\n",
            "Epoch 262/300\n",
            "2/2 [==============================] - 0s 38ms/step - loss: 24.3177 - root_mean_squared_error: 0.5570 - val_loss: 23.2269 - val_root_mean_squared_error: 0.5856\n",
            "Epoch 263/300\n",
            "2/2 [==============================] - 0s 39ms/step - loss: 27.1508 - root_mean_squared_error: 0.6524 - val_loss: 23.2820 - val_root_mean_squared_error: 0.5861\n",
            "Epoch 264/300\n",
            "2/2 [==============================] - 0s 58ms/step - loss: 24.3648 - root_mean_squared_error: 0.5696 - val_loss: 23.1706 - val_root_mean_squared_error: 0.5780\n",
            "Epoch 265/300\n",
            "2/2 [==============================] - 0s 38ms/step - loss: 28.1791 - root_mean_squared_error: 0.6837 - val_loss: 23.0525 - val_root_mean_squared_error: 0.5636\n",
            "Epoch 266/300\n",
            "2/2 [==============================] - 0s 38ms/step - loss: 25.7904 - root_mean_squared_error: 0.6001 - val_loss: 23.0976 - val_root_mean_squared_error: 0.5516\n",
            "Epoch 267/300\n",
            "2/2 [==============================] - 0s 36ms/step - loss: 26.2045 - root_mean_squared_error: 0.6003 - val_loss: 23.1493 - val_root_mean_squared_error: 0.5446\n",
            "Epoch 268/300\n",
            "2/2 [==============================] - 0s 39ms/step - loss: 25.1698 - root_mean_squared_error: 0.5950 - val_loss: 23.2068 - val_root_mean_squared_error: 0.5403\n",
            "Epoch 269/300\n",
            "2/2 [==============================] - 0s 41ms/step - loss: 24.8974 - root_mean_squared_error: 0.5603 - val_loss: 23.2552 - val_root_mean_squared_error: 0.5400\n",
            "Epoch 270/300\n",
            "2/2 [==============================] - 0s 38ms/step - loss: 23.4200 - root_mean_squared_error: 0.5136 - val_loss: 23.2658 - val_root_mean_squared_error: 0.5426\n",
            "Epoch 271/300\n",
            "2/2 [==============================] - 0s 37ms/step - loss: 23.8691 - root_mean_squared_error: 0.5135 - val_loss: 23.2528 - val_root_mean_squared_error: 0.5505\n",
            "Epoch 272/300\n",
            "2/2 [==============================] - 0s 34ms/step - loss: 23.2583 - root_mean_squared_error: 0.5142 - val_loss: 23.2209 - val_root_mean_squared_error: 0.5622\n",
            "Epoch 273/300\n",
            "2/2 [==============================] - 0s 34ms/step - loss: 27.0334 - root_mean_squared_error: 0.6008 - val_loss: 23.3399 - val_root_mean_squared_error: 0.5747\n",
            "Epoch 274/300\n",
            "2/2 [==============================] - 0s 39ms/step - loss: 23.0539 - root_mean_squared_error: 0.5365 - val_loss: 23.4588 - val_root_mean_squared_error: 0.5812\n",
            "Epoch 275/300\n",
            "2/2 [==============================] - 0s 51ms/step - loss: 25.7145 - root_mean_squared_error: 0.6254 - val_loss: 23.5082 - val_root_mean_squared_error: 0.5830\n",
            "Epoch 276/300\n",
            "2/2 [==============================] - 0s 37ms/step - loss: 24.8050 - root_mean_squared_error: 0.5646 - val_loss: 23.5010 - val_root_mean_squared_error: 0.5830\n",
            "Epoch 277/300\n",
            "2/2 [==============================] - 0s 38ms/step - loss: 27.3073 - root_mean_squared_error: 0.6556 - val_loss: 23.3713 - val_root_mean_squared_error: 0.5760\n",
            "Epoch 278/300\n",
            "2/2 [==============================] - 0s 34ms/step - loss: 24.3716 - root_mean_squared_error: 0.5734 - val_loss: 23.2491 - val_root_mean_squared_error: 0.5702\n",
            "Epoch 279/300\n",
            "2/2 [==============================] - 0s 38ms/step - loss: 23.1715 - root_mean_squared_error: 0.5465 - val_loss: 23.1246 - val_root_mean_squared_error: 0.5603\n",
            "Epoch 280/300\n",
            "2/2 [==============================] - 0s 36ms/step - loss: 23.3222 - root_mean_squared_error: 0.5262 - val_loss: 23.0511 - val_root_mean_squared_error: 0.5533\n",
            "Epoch 281/300\n",
            "2/2 [==============================] - 0s 36ms/step - loss: 24.0448 - root_mean_squared_error: 0.5283 - val_loss: 22.9696 - val_root_mean_squared_error: 0.5558\n",
            "Epoch 282/300\n",
            "2/2 [==============================] - 0s 38ms/step - loss: 24.9380 - root_mean_squared_error: 0.5950 - val_loss: 22.9345 - val_root_mean_squared_error: 0.5607\n",
            "Epoch 283/300\n",
            "2/2 [==============================] - 0s 38ms/step - loss: 25.6117 - root_mean_squared_error: 0.5677 - val_loss: 22.9118 - val_root_mean_squared_error: 0.5640\n",
            "Epoch 284/300\n",
            "2/2 [==============================] - 0s 46ms/step - loss: 26.6313 - root_mean_squared_error: 0.6145 - val_loss: 22.8582 - val_root_mean_squared_error: 0.5658\n",
            "Epoch 285/300\n",
            "2/2 [==============================] - 0s 40ms/step - loss: 23.4104 - root_mean_squared_error: 0.5331 - val_loss: 22.7996 - val_root_mean_squared_error: 0.5598\n",
            "Epoch 286/300\n",
            "2/2 [==============================] - 0s 41ms/step - loss: 27.2909 - root_mean_squared_error: 0.6295 - val_loss: 22.8182 - val_root_mean_squared_error: 0.5472\n",
            "Epoch 287/300\n",
            "2/2 [==============================] - 0s 37ms/step - loss: 25.3683 - root_mean_squared_error: 0.5906 - val_loss: 22.8350 - val_root_mean_squared_error: 0.5433\n",
            "Epoch 288/300\n",
            "2/2 [==============================] - 0s 38ms/step - loss: 24.6919 - root_mean_squared_error: 0.5551 - val_loss: 22.8005 - val_root_mean_squared_error: 0.5466\n",
            "Epoch 289/300\n",
            "2/2 [==============================] - 0s 39ms/step - loss: 25.0121 - root_mean_squared_error: 0.5590 - val_loss: 22.7555 - val_root_mean_squared_error: 0.5549\n",
            "Epoch 290/300\n",
            "2/2 [==============================] - 0s 38ms/step - loss: 24.7257 - root_mean_squared_error: 0.5394 - val_loss: 22.7214 - val_root_mean_squared_error: 0.5675\n",
            "Epoch 291/300\n",
            "2/2 [==============================] - 0s 41ms/step - loss: 24.6682 - root_mean_squared_error: 0.5606 - val_loss: 22.7556 - val_root_mean_squared_error: 0.5762\n",
            "Epoch 292/300\n",
            "2/2 [==============================] - 0s 40ms/step - loss: 27.1289 - root_mean_squared_error: 0.6166 - val_loss: 22.8340 - val_root_mean_squared_error: 0.5837\n",
            "Epoch 293/300\n",
            "2/2 [==============================] - 0s 55ms/step - loss: 26.1309 - root_mean_squared_error: 0.6132 - val_loss: 22.9112 - val_root_mean_squared_error: 0.5903\n",
            "Epoch 294/300\n",
            "2/2 [==============================] - 0s 38ms/step - loss: 24.2507 - root_mean_squared_error: 0.5508 - val_loss: 22.9746 - val_root_mean_squared_error: 0.5929\n",
            "Epoch 295/300\n",
            "2/2 [==============================] - 0s 49ms/step - loss: 24.4641 - root_mean_squared_error: 0.5742 - val_loss: 23.0016 - val_root_mean_squared_error: 0.5914\n",
            "Epoch 296/300\n",
            "2/2 [==============================] - 0s 38ms/step - loss: 23.8955 - root_mean_squared_error: 0.5837 - val_loss: 22.9679 - val_root_mean_squared_error: 0.5849\n",
            "Epoch 297/300\n",
            "2/2 [==============================] - 0s 40ms/step - loss: 26.5628 - root_mean_squared_error: 0.6327 - val_loss: 22.8827 - val_root_mean_squared_error: 0.5725\n",
            "Epoch 298/300\n",
            "2/2 [==============================] - 0s 39ms/step - loss: 24.3064 - root_mean_squared_error: 0.5444 - val_loss: 22.9344 - val_root_mean_squared_error: 0.5559\n",
            "Epoch 299/300\n",
            "2/2 [==============================] - 0s 49ms/step - loss: 23.4660 - root_mean_squared_error: 0.5170 - val_loss: 23.0213 - val_root_mean_squared_error: 0.5427\n",
            "Epoch 300/300\n",
            "2/2 [==============================] - 0s 66ms/step - loss: 22.6061 - root_mean_squared_error: 0.5468 - val_loss: 23.0558 - val_root_mean_squared_error: 0.5386\n",
            "CPU times: user 14.6 s, sys: 552 ms, total: 15.2 s\n",
            "Wall time: 17.1 s\n"
          ]
        }
      ]
    },
    {
      "cell_type": "code",
      "source": [
        "plot_loss(history_3.history)"
      ],
      "metadata": {
        "colab": {
          "base_uri": "https://localhost:8080/",
          "height": 465
        },
        "id": "W-i1rWxs_m63",
        "outputId": "87096718-4398-4750-b55f-b3601b134cb2"
      },
      "execution_count": null,
      "outputs": [
        {
          "output_type": "display_data",
          "data": {
            "text/plain": [
              "<Figure size 1200x500 with 2 Axes>"
            ],
            "image/png": "[encoded data removed]"
          },
          "metadata": {}
        }
      ]
    },
    {
      "cell_type": "markdown",
      "source": [
        "# Сохранение моделей"
      ],
      "metadata": {
        "id": "EebkETNqC16U"
      }
    },
    {
      "cell_type": "code",
      "source": [
        "pickle.dump(model_lr, open('model_lr.pkl', 'wb'))"
      ],
      "metadata": {
        "id": "xW4tKSSbC6Ra"
      },
      "execution_count": null,
      "outputs": []
    },
    {
      "cell_type": "code",
      "source": [
        "pickled_model_lr = pickle.load(open('model_lr.pkl', 'rb'))"
      ],
      "metadata": {
        "id": "1jHa3fvdDF1o"
      },
      "execution_count": null,
      "outputs": []
    },
    {
      "cell_type": "code",
      "source": [
        "pickled_model_lr.predict(X_test)"
      ],
      "metadata": {
        "colab": {
          "base_uri": "https://localhost:8080/"
        },
        "id": "HJa6H27sDGJe",
        "outputId": "c6253acd-7564-4e1d-8f71-b46071158501"
      },
      "execution_count": null,
      "outputs": [
        {
          "output_type": "execute_result",
          "data": {
            "text/plain": [
              "array([[0.90528138, 1.96099738],\n",
              "       [0.90528138, 1.96099738],\n",
              "       [1.2327507 , 1.81522876],\n",
              "       [1.02408382, 1.61852032],\n",
              "       [1.64143036, 2.4956178 ],\n",
              "       [1.2327507 , 1.81522876],\n",
              "       [1.48935601, 2.44114297],\n",
              "       [1.2327507 , 1.81522876],\n",
              "       [0.78101813, 2.04442145],\n",
              "       [1.26884265, 1.84375785],\n",
              "       [1.2327507 , 1.81522876],\n",
              "       [1.64143036, 2.4956178 ],\n",
              "       [1.64143036, 2.4956178 ],\n",
              "       [1.22599178, 1.85120742],\n",
              "       [0.78101813, 2.04442145]])"
            ]
          },
          "metadata": {},
          "execution_count": 70
        }
      ]
    },
    {
      "cell_type": "code",
      "source": [
        "model_1.save('model_1')"
      ],
      "metadata": {
        "id": "bj2Epj_YDGL1"
      },
      "execution_count": null,
      "outputs": []
    },
    {
      "cell_type": "code",
      "source": [
        "model_loaded = keras.models.load_model('model_1')"
      ],
      "metadata": {
        "id": "FOTQGS5IKRh6"
      },
      "execution_count": null,
      "outputs": []
    },
    {
      "cell_type": "code",
      "source": [
        "import shutil\n",
        "shutil.make_archive('model_1', 'zip', 'model_1')"
      ],
      "metadata": {
        "colab": {
          "base_uri": "https://localhost:8080/",
          "height": 36
        },
        "id": "YJ92zj3CVShY",
        "outputId": "0d0655ca-d44b-4570-e68d-9809d3771e20"
      },
      "execution_count": null,
      "outputs": [
        {
          "output_type": "execute_result",
          "data": {
            "text/plain": [
              "'/content/model_1.zip'"
            ],
            "application/vnd.google.colaboratory.intrinsic+json": {
              "type": "string"
            }
          },
          "metadata": {},
          "execution_count": 75
        }
      ]
    }
  ],
  "metadata": {
    "kernelspec": {
      "display_name": "Python 3",
      "language": "python",
      "name": "python3"
    },
    "language_info": {
      "codemirror_mode": {
        "name": "ipython",
        "version": 3
      },
      "file_extension": ".py",
      "mimetype": "text/x-python",
      "name": "python",
      "nbconvert_exporter": "python",
      "pygments_lexer": "ipython3",
      "version": "3.8.3"
    },
    "colab": {
      "provenance": []
    }
  },
  "nbformat": 4,
  "nbformat_minor": 0
}